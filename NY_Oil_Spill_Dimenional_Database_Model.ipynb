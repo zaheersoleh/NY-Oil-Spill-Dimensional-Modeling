{
 "cells": [
  {
   "cell_type": "markdown",
   "id": "e9887d9c-d550-43fe-8bb6-e6c2fc3a3bdd",
   "metadata": {
    "tags": []
   },
   "source": [
    "# New York Oil Spill Data: Dimensional Database Design and Analysis"
   ]
  },
  {
   "cell_type": "markdown",
   "id": "4f2f36fd-019f-44f0-b169-f9d52267d802",
   "metadata": {
    "tags": []
   },
   "source": [
    "## Part(1) & (2)\n",
    "Part 1 – Creating your Database Objects\n",
    "Using the agreed schema diagram from Part I, create the physical tables for all entities and their relationships. Make sure the table structures contain all primary, foreign, and unique keys (if applicable) as well as any default, and/or check constraints. The tables must also indicate the not null constraint for all applicable attributes. Provide comments on your tables and their attributes\n",
    "\n",
    "Part 2 – Constructing your Database – Bulk Data Loading\n",
    "Once you have created the tables and their constraints, construct (i.e., populate) the tables in bulk using the csv data files provided to you (e.g. attached California_Crime_2021_DB.zip)."
   ]
  },
  {
   "cell_type": "markdown",
   "id": "3ef7e3bd-75da-456b-988f-8c0ce41425d4",
   "metadata": {
    "tags": []
   },
   "source": [
    "### A. Creating and Loading the Database for NIBRS"
   ]
  },
  {
   "cell_type": "markdown",
   "id": "a00f1410-8419-4cdf-9275-5e8e979a9d3d",
   "metadata": {},
   "source": [
    "__Creating the Database__\n",
    "* Before creating the 'NIBRS' database, we use PostgreSQL's DROPDB command to remove the database if it already exists. As a habit you should drop database before you use it.\n",
    "\n",
    "* Then, we create the database using the CREATEDB command.\n",
    "\n",
    "* __Note:__ This is the format to create New Database: In this case the User is Student and the Database is called NIBRS, our database for this assignment."
   ]
  },
  {
   "cell_type": "code",
   "execution_count": 145,
   "id": "d9fad645-837e-4f78-b681-c28e3e917871",
   "metadata": {},
   "outputs": [
    {
     "name": "stdout",
     "output_type": "stream",
     "text": [
      "dropdb: error: database removal failed: ERROR:  database \"NIBRS\" is being accessed by other users\n",
      "DETAIL:  There is 1 other session using the database.\n"
     ]
    }
   ],
   "source": [
    "!dropdb -U student NIBRS"
   ]
  },
  {
   "cell_type": "code",
   "execution_count": 146,
   "id": "676f52a8-6e49-4de0-b57b-526e6fa9b2e6",
   "metadata": {},
   "outputs": [
    {
     "name": "stdout",
     "output_type": "stream",
     "text": [
      "createdb: error: database creation failed: ERROR:  database \"NIBRS\" already exists\n"
     ]
    }
   ],
   "source": [
    "!createdb -U student NIBRS"
   ]
  },
  {
   "cell_type": "markdown",
   "id": "043da17a-6ee9-4e75-a70a-9891b07c972d",
   "metadata": {},
   "source": [
    "__Loading the Database__ \n",
    "\n",
    "_Please note that the two lines of code below need to be run each time you  load your instance. It will load the Postgre SQL extension and allow you to login to your Database._\n",
    "\n",
    "To load PostgreSQL, We need to:\n",
    "* (1) Load the Extension and \n",
    "* (2) Call the Database using Postgre Query (i.e. Login to the Database)"
   ]
  },
  {
   "cell_type": "code",
   "execution_count": 147,
   "id": "b5b96698-63a3-4af1-ad30-d8967df5bfe7",
   "metadata": {},
   "outputs": [
    {
     "name": "stdout",
     "output_type": "stream",
     "text": [
      "The sql extension is already loaded. To reload it, use:\n",
      "  %reload_ext sql\n"
     ]
    }
   ],
   "source": [
    "%load_ext sql"
   ]
  },
  {
   "cell_type": "code",
   "execution_count": 148,
   "id": "05c8dbae-1969-4e8f-a94a-5649e9d462ba",
   "metadata": {},
   "outputs": [],
   "source": [
    "%sql postgresql://student@/NIBRS"
   ]
  },
  {
   "cell_type": "markdown",
   "id": "b0d74265-7250-4478-a4d8-d3bd28316e91",
   "metadata": {},
   "source": [
    "__Additional Note__\n",
    "\n",
    "_Please set the name of your working directory to be within a folder called \"Assignment2\". Doing so, will allow our code to run smoothly on your end. Use the !pwd command to confirm that you are in the right directory._"
   ]
  },
  {
   "cell_type": "code",
   "execution_count": 149,
   "id": "beb0d84d-44a4-434f-9674-8fa3a78ce22f",
   "metadata": {},
   "outputs": [
    {
     "name": "stdout",
     "output_type": "stream",
     "text": [
      "/home/ubuntu/notebooks/Assignment2\n"
     ]
    }
   ],
   "source": [
    "!pwd"
   ]
  },
  {
   "cell_type": "markdown",
   "id": "8fec36a7-bc0a-4437-8094-546fe6a19c88",
   "metadata": {
    "tags": []
   },
   "source": [
    "### B. Unzipping and Looking at the available CSV files"
   ]
  },
  {
   "cell_type": "markdown",
   "id": "60c24a30-eecd-4a94-bf3a-faceb60699c1",
   "metadata": {},
   "source": [
    "__Unzipping the Database CSV files___ \n",
    "\n",
    "Please Upload the California_Crime_2021_DB.zip file at this stage to your working directory to run the code.\n",
    "\n",
    "Use the command line !pwd to confirm where to upload the Zip File."
   ]
  },
  {
   "cell_type": "code",
   "execution_count": 150,
   "id": "63059762-7bb4-4fc1-b026-bc852b27b994",
   "metadata": {},
   "outputs": [
    {
     "name": "stdout",
     "output_type": "stream",
     "text": [
      "/home/ubuntu/notebooks/Assignment2\n"
     ]
    }
   ],
   "source": [
    "!pwd"
   ]
  },
  {
   "cell_type": "code",
   "execution_count": 151,
   "id": "271e80f4-a5af-4174-aa92-c00837c1f4e9",
   "metadata": {},
   "outputs": [
    {
     "name": "stdout",
     "output_type": "stream",
     "text": [
      "Archive:  California_Crime_2021_DB.zip\n",
      "  inflating: NIBRS_ARRESTEE.csv      \n",
      "  inflating: NIBRS_DataDictionary_highlighted.pdf  \n",
      "  inflating: NIBRS_ETHNICITY.csv     \n",
      "  inflating: NIBRS_incident.csv      \n",
      "  inflating: NIBRS_LOCATION_TYPE.csv  \n",
      "  inflating: NIBRS_OFFENDER.csv      \n",
      "  inflating: NIBRS_OFFENSE.csv       \n",
      "  inflating: NIBRS_OFFENSE_TYPE.csv  \n",
      "  inflating: NIBRS_RELATIONSHIP.csv  \n",
      "  inflating: NIBRS_VICTIM.csv        \n",
      "  inflating: NIBRS_VICTIM_OFFENDER_REL.csv  \n",
      "  inflating: NIBRS_VICTIM_OFFENSE.csv  \n",
      "  inflating: NIBRS_VICTIM_TYPE.csv   \n",
      "  inflating: REF_RACE.csv            \n"
     ]
    }
   ],
   "source": [
    "!unzip -o California_Crime_2021_DB.zip"
   ]
  },
  {
   "cell_type": "markdown",
   "id": "9655fe60-b5cd-4bda-9e92-a1168e8eb211",
   "metadata": {},
   "source": [
    "We decided to remove the California_Crime_2021_DB.zip file to clean our working directory"
   ]
  },
  {
   "cell_type": "code",
   "execution_count": 152,
   "id": "e48f9f1b-c852-4659-9e2c-f2ba87483433",
   "metadata": {},
   "outputs": [],
   "source": [
    "!rm California_Crime_2021_DB.zip"
   ]
  },
  {
   "cell_type": "code",
   "execution_count": 153,
   "id": "a2d0a65c-0baa-4df8-9540-59b64c6e25b7",
   "metadata": {},
   "outputs": [],
   "source": [
    "!rm NIBRS_DataDictionary_highlighted.pdf \n",
    "#We don't need the Data Dictionary for any Queries so, we decided to delete in from our Working Directory"
   ]
  },
  {
   "cell_type": "markdown",
   "id": "0f2d3e01-1790-45e6-9a5c-692bb831b855",
   "metadata": {
    "tags": []
   },
   "source": [
    "### C. Checking Data, Creating Tables and Loading Data\n",
    "__Please Note:__ We referred to the Data Dictionary and Schema to identify which attributes/columns to select, create tables, and load data within those specific tables."
   ]
  },
  {
   "cell_type": "markdown",
   "id": "00d08daa-7818-4744-941a-73e626955992",
   "metadata": {
    "tags": [],
    "toc-hr-collapsed": true
   },
   "source": [
    "#### 1. Incident Data\n",
    "Reading CSV files, Creating Database Tables and Loading Data into Tables"
   ]
  },
  {
   "cell_type": "markdown",
   "id": "4270f9f8-f7c1-474e-8383-de5885e25393",
   "metadata": {
    "tags": []
   },
   "source": [
    "##### a) Looking at the csv file columns"
   ]
  },
  {
   "cell_type": "code",
   "execution_count": 154,
   "id": "89afe8a7-e06e-47c6-b3dc-5fc3fde7e71a",
   "metadata": {},
   "outputs": [
    {
     "name": "stdout",
     "output_type": "stream",
     "text": [
      "  1: data_year\n",
      "  2: agency_id\n",
      "  3: incident_id\n",
      "  4: nibrs_month_id\n",
      "  5: cargo_theft_flag\n",
      "  6: submission_date\n",
      "  7: incident_date\n",
      "  8: report_date_flag\n",
      "  9: incident_hour\n",
      " 10: cleared_except_id\n",
      " 11: cleared_except_date\n",
      " 12: incident_status\n",
      " 13: data_home\n",
      " 14: orig_format\n",
      " 15: did\n"
     ]
    }
   ],
   "source": [
    "!csvcut -n NIBRS_incident.csv"
   ]
  },
  {
   "cell_type": "markdown",
   "id": "69fb240f-85ce-4024-a7bc-8b9d951307ec",
   "metadata": {
    "tags": []
   },
   "source": [
    "##### b) Select the columns we need from csv file and append it to a new csv file named incident.csv"
   ]
  },
  {
   "cell_type": "code",
   "execution_count": 155,
   "id": "3c7465e8-5f0b-4e18-b667-3804f0f73e34",
   "metadata": {},
   "outputs": [
    {
     "name": "stdout",
     "output_type": "stream",
     "text": [
      "/home/ubuntu/notebooks/Assignment2\n"
     ]
    }
   ],
   "source": [
    "!pwd"
   ]
  },
  {
   "cell_type": "code",
   "execution_count": 156,
   "id": "9dac387b-451d-44c8-a084-702fe5ea1081",
   "metadata": {},
   "outputs": [],
   "source": [
    "!csvcut -c agency_id,incident_id,incident_date,incident_hour '/home/ubuntu/notebooks/Assignment2/NIBRS_incident.csv' > incident.csv"
   ]
  },
  {
   "cell_type": "markdown",
   "id": "5c485a1f-d77a-4c8c-8b8a-3af76512a6a1",
   "metadata": {
    "tags": []
   },
   "source": [
    "##### c) Preliminary look at the data and data types"
   ]
  },
  {
   "cell_type": "code",
   "execution_count": 157,
   "id": "7ee83fc4-b939-4577-b963-fed79305047a",
   "metadata": {
    "tags": []
   },
   "outputs": [
    {
     "name": "stdout",
     "output_type": "stream",
     "text": [
      "  1. \"agency_id\"\n",
      "\n",
      "\tType of data:          Number\n",
      "\tContains null values:  False\n",
      "\tUnique values:         2\n",
      "\tSmallest value:        1516\n",
      "\tLargest value:         1823\n",
      "\tSum:                   161443\n",
      "\tMean:                  1630.737\n",
      "\tMedian:                1516\n",
      "\tStDev:                 149.281\n",
      "\tMost common values:    1516 (62x)\n",
      "\t                       1823 (37x)\n",
      "\n",
      "  2. \"incident_id\"\n",
      "\n",
      "\tType of data:          Number\n",
      "\tContains null values:  False\n",
      "\tUnique values:         99\n",
      "\tSmallest value:        133362971\n",
      "\tLargest value:         149760824\n",
      "\tSum:                   13942342449\n",
      "\tMean:                  140831741.909\n",
      "\tMedian:                139098258\n",
      "\tStDev:                 5715933.64\n",
      "\tMost common values:    141774651 (1x)\n",
      "\t                       136500530 (1x)\n",
      "\t                       136580646 (1x)\n",
      "\t                       136530548 (1x)\n",
      "\t                       136516079 (1x)\n",
      "\n",
      "  3. \"incident_date\"\n",
      "\n",
      "\tType of data:          Date\n",
      "\tContains null values:  False\n",
      "\tUnique values:         34\n",
      "\tSmallest value:        2021-01-01\n",
      "\tLargest value:         2021-08-26\n",
      "\tMost common values:    2021-01-01 (46x)\n",
      "\t                       2021-01-02 (15x)\n",
      "\t                       2021-07-21 (3x)\n",
      "\t                       2021-03-12 (2x)\n",
      "\t                       2021-07-13 (2x)\n",
      "\n",
      "  4. \"incident_hour\"\n",
      "\n",
      "\tType of data:          Number\n",
      "\tContains null values:  True (excluded from calculations)\n",
      "\tUnique values:         22\n",
      "\tSmallest value:        0\n",
      "\tLargest value:         22\n",
      "\tSum:                   760\n",
      "\tMean:                  10.704\n",
      "\tMedian:                11\n",
      "\tStDev:                 6.625\n",
      "\tMost common values:    None (28x)\n",
      "\t                       12 (7x)\n",
      "\t                       9 (7x)\n",
      "\t                       0 (5x)\n",
      "\t                       13 (5x)\n",
      "\n",
      "Row count: 99\n"
     ]
    }
   ],
   "source": [
    "!head -n 100 incident.csv | csvstat"
   ]
  },
  {
   "cell_type": "markdown",
   "id": "b1c4a286-1657-41a4-8139-04b6efff9620",
   "metadata": {
    "tags": []
   },
   "source": [
    "##### d) Create the incident entity table based on the data types from csv and the needed rows from customer requirement (i.e. Data Dictionary)"
   ]
  },
  {
   "cell_type": "code",
   "execution_count": 158,
   "id": "ab36ba0f-d85a-4d59-8b36-4b859096a850",
   "metadata": {},
   "outputs": [
    {
     "name": "stdout",
     "output_type": "stream",
     "text": [
      " * postgresql://student@/NIBRS\n",
      "Done.\n",
      "Done.\n"
     ]
    },
    {
     "data": {
      "text/plain": [
       "[]"
      ]
     },
     "execution_count": 158,
     "metadata": {},
     "output_type": "execute_result"
    }
   ],
   "source": [
    "%%sql\n",
    "DROP TABLE IF EXISTS INCIDENT Cascade;\n",
    "\n",
    "CREATE TABLE INCIDENT (\n",
    "  agency_id     Numeric(10) NOT NULL,\n",
    "  incident_id   Numeric(10) NOT NULL, \n",
    "  incident_date Date,\n",
    "  incident_hour Numeric(2), \n",
    "  PRIMARY KEY (incident_id)\n",
    ");"
   ]
  },
  {
   "cell_type": "markdown",
   "id": "17747111-de4b-4c0d-a4a9-48368cc6992d",
   "metadata": {
    "tags": []
   },
   "source": [
    "##### e) Loading the data from the new csv created above into the table"
   ]
  },
  {
   "cell_type": "code",
   "execution_count": 159,
   "id": "94f13fb3-39d0-4390-bef1-99922f7ca014",
   "metadata": {},
   "outputs": [
    {
     "name": "stdout",
     "output_type": "stream",
     "text": [
      "/home/ubuntu/notebooks/Assignment2\n"
     ]
    }
   ],
   "source": [
    "!pwd"
   ]
  },
  {
   "cell_type": "code",
   "execution_count": 160,
   "id": "73d40bd2-5e7e-4de8-a760-6fd898b2af2c",
   "metadata": {},
   "outputs": [
    {
     "name": "stdout",
     "output_type": "stream",
     "text": [
      " * postgresql://student@/NIBRS\n",
      "118176 rows affected.\n"
     ]
    },
    {
     "data": {
      "text/plain": [
       "[]"
      ]
     },
     "execution_count": 160,
     "metadata": {},
     "output_type": "execute_result"
    }
   ],
   "source": [
    "%%sql\n",
    "COPY INCIDENT FROM '/home/ubuntu/notebooks/Assignment2/incident.csv'\n",
    "CSV\n",
    "HEADER; "
   ]
  },
  {
   "cell_type": "markdown",
   "id": "4a2b8079-1c7d-4445-96b6-67813291eb51",
   "metadata": {
    "tags": []
   },
   "source": [
    "##### f) Confirm whether the bulk loading is completed correctly"
   ]
  },
  {
   "cell_type": "code",
   "execution_count": 161,
   "id": "887bca64-afb6-4ae3-a156-5ce432c7920e",
   "metadata": {},
   "outputs": [
    {
     "name": "stdout",
     "output_type": "stream",
     "text": [
      " * postgresql://student@/NIBRS\n",
      "10 rows affected.\n"
     ]
    },
    {
     "data": {
      "text/html": [
       "<table>\n",
       "    <thead>\n",
       "        <tr>\n",
       "            <th>agency_id</th>\n",
       "            <th>incident_id</th>\n",
       "            <th>incident_date</th>\n",
       "            <th>incident_hour</th>\n",
       "        </tr>\n",
       "    </thead>\n",
       "    <tbody>\n",
       "        <tr>\n",
       "            <td>1516</td>\n",
       "            <td>141774651</td>\n",
       "            <td>2021-08-26</td>\n",
       "            <td>12</td>\n",
       "        </tr>\n",
       "        <tr>\n",
       "            <td>1516</td>\n",
       "            <td>136500530</td>\n",
       "            <td>2021-01-01</td>\n",
       "            <td>0</td>\n",
       "        </tr>\n",
       "        <tr>\n",
       "            <td>1516</td>\n",
       "            <td>136580646</td>\n",
       "            <td>2021-01-01</td>\n",
       "            <td>0</td>\n",
       "        </tr>\n",
       "        <tr>\n",
       "            <td>1516</td>\n",
       "            <td>136530548</td>\n",
       "            <td>2021-01-01</td>\n",
       "            <td>1</td>\n",
       "        </tr>\n",
       "        <tr>\n",
       "            <td>1516</td>\n",
       "            <td>136516079</td>\n",
       "            <td>2021-01-01</td>\n",
       "            <td>0</td>\n",
       "        </tr>\n",
       "        <tr>\n",
       "            <td>1516</td>\n",
       "            <td>143243093</td>\n",
       "            <td>2021-01-01</td>\n",
       "            <td>1</td>\n",
       "        </tr>\n",
       "        <tr>\n",
       "            <td>1516</td>\n",
       "            <td>137248920</td>\n",
       "            <td>2021-01-01</td>\n",
       "            <td>1</td>\n",
       "        </tr>\n",
       "        <tr>\n",
       "            <td>1516</td>\n",
       "            <td>136694620</td>\n",
       "            <td>2021-01-01</td>\n",
       "            <td>2</td>\n",
       "        </tr>\n",
       "        <tr>\n",
       "            <td>1516</td>\n",
       "            <td>136456227</td>\n",
       "            <td>2021-01-01</td>\n",
       "            <td>4</td>\n",
       "        </tr>\n",
       "        <tr>\n",
       "            <td>1516</td>\n",
       "            <td>134186719</td>\n",
       "            <td>2021-01-01</td>\n",
       "            <td>2</td>\n",
       "        </tr>\n",
       "    </tbody>\n",
       "</table>"
      ],
      "text/plain": [
       "[(Decimal('1516'), Decimal('141774651'), datetime.date(2021, 8, 26), Decimal('12')),\n",
       " (Decimal('1516'), Decimal('136500530'), datetime.date(2021, 1, 1), Decimal('0')),\n",
       " (Decimal('1516'), Decimal('136580646'), datetime.date(2021, 1, 1), Decimal('0')),\n",
       " (Decimal('1516'), Decimal('136530548'), datetime.date(2021, 1, 1), Decimal('1')),\n",
       " (Decimal('1516'), Decimal('136516079'), datetime.date(2021, 1, 1), Decimal('0')),\n",
       " (Decimal('1516'), Decimal('143243093'), datetime.date(2021, 1, 1), Decimal('1')),\n",
       " (Decimal('1516'), Decimal('137248920'), datetime.date(2021, 1, 1), Decimal('1')),\n",
       " (Decimal('1516'), Decimal('136694620'), datetime.date(2021, 1, 1), Decimal('2')),\n",
       " (Decimal('1516'), Decimal('136456227'), datetime.date(2021, 1, 1), Decimal('4')),\n",
       " (Decimal('1516'), Decimal('134186719'), datetime.date(2021, 1, 1), Decimal('2'))]"
      ]
     },
     "execution_count": 161,
     "metadata": {},
     "output_type": "execute_result"
    }
   ],
   "source": [
    "%%sql\n",
    "Select * from INCIDENT\n",
    "limit 10;"
   ]
  },
  {
   "cell_type": "markdown",
   "id": "a3f73e1c-c97c-42e1-a147-13b34fb49ab7",
   "metadata": {
    "tags": [],
    "toc-hr-collapsed": true
   },
   "source": [
    "#### 2. Race Data\n",
    "Reading CSV files, Creating Database Tables and Loading Data into Tables. \n",
    "\n",
    "We considered all the columns/attributes of the Race Entity the Entity wasn't specified within the Data Dictionary."
   ]
  },
  {
   "cell_type": "markdown",
   "id": "3fd05125-52b1-4380-8625-1b771009ebd3",
   "metadata": {
    "tags": []
   },
   "source": [
    "##### a) Looking at the csv file columns"
   ]
  },
  {
   "cell_type": "code",
   "execution_count": 162,
   "id": "3400c63a-8ec1-4851-8d21-1d2227eaad57",
   "metadata": {},
   "outputs": [
    {
     "name": "stdout",
     "output_type": "stream",
     "text": [
      "  1: race_id\n",
      "  2: race_code\n",
      "  3: race_desc\n",
      "  4: sort_order\n",
      "  5: start_year\n",
      "  6: end_year\n",
      "  7: notes\n"
     ]
    }
   ],
   "source": [
    "!csvcut -n REF_RACE.csv"
   ]
  },
  {
   "cell_type": "markdown",
   "id": "f5b1b19c-0d1f-4f4f-855b-a2b887c71d6d",
   "metadata": {
    "tags": []
   },
   "source": [
    "##### b) Preliminary look at the data and data types\n",
    "\n"
   ]
  },
  {
   "cell_type": "code",
   "execution_count": 163,
   "id": "ea25c5b8-0877-4867-b507-d214c4c45073",
   "metadata": {
    "tags": []
   },
   "outputs": [
    {
     "name": "stdout",
     "output_type": "stream",
     "text": [
      "  1. \"race_id\"\n",
      "\n",
      "\tType of data:          Number\n",
      "\tContains null values:  False\n",
      "\tUnique values:         12\n",
      "\tSmallest value:        10\n",
      "\tLargest value:         99\n",
      "\tSum:                   603\n",
      "\tMean:                  50.25\n",
      "\tMedian:                42.5\n",
      "\tStDev:                 27.631\n",
      "\tMost common values:    98 (1x)\n",
      "\t                       10 (1x)\n",
      "\t                       20 (1x)\n",
      "\t                       30 (1x)\n",
      "\t                       40 (1x)\n",
      "\n",
      "  2. \"race_code\"\n",
      "\n",
      "\tType of data:          Text\n",
      "\tContains null values:  False\n",
      "\tUnique values:         12\n",
      "\tLongest value:         2 characters\n",
      "\tMost common values:    U (1x)\n",
      "\t                       W (1x)\n",
      "\t                       B (1x)\n",
      "\t                       I (1x)\n",
      "\t                       A (1x)\n",
      "\n",
      "  3. \"race_desc\"\n",
      "\n",
      "\tType of data:          Text\n",
      "\tContains null values:  False\n",
      "\tUnique values:         12\n",
      "\tLongest value:         49 characters\n",
      "\tMost common values:    Unknown (1x)\n",
      "\t                       White (1x)\n",
      "\t                       Black or African American (1x)\n",
      "\t                       American Indian or Alaska Native (1x)\n",
      "\t                       Asian (1x)\n",
      "\n",
      "  4. \"sort_order\"\n",
      "\n",
      "\tType of data:          Number\n",
      "\tContains null values:  False\n",
      "\tUnique values:         12\n",
      "\tSmallest value:        10\n",
      "\tLargest value:         99\n",
      "\tSum:                   603\n",
      "\tMean:                  50.25\n",
      "\tMedian:                42.5\n",
      "\tStDev:                 27.631\n",
      "\tMost common values:    98 (1x)\n",
      "\t                       10 (1x)\n",
      "\t                       20 (1x)\n",
      "\t                       30 (1x)\n",
      "\t                       40 (1x)\n",
      "\n",
      "  5. \"start_year\"\n",
      "\n",
      "\tType of data:          Number\n",
      "\tContains null values:  True (excluded from calculations)\n",
      "\tUnique values:         4\n",
      "\tSmallest value:        1960\n",
      "\tLargest value:         2013\n",
      "\tSum:                   11886\n",
      "\tMean:                  1981\n",
      "\tMedian:                1970\n",
      "\tStDev:                 25.969\n",
      "\tMost common values:    None (6x)\n",
      "\t                       1960 (3x)\n",
      "\t                       2013 (2x)\n",
      "\t                       1980 (1x)\n",
      "\n",
      "  6. \"end_year\"\n",
      "\n",
      "\tType of data:          Number\n",
      "\tContains null values:  True (excluded from calculations)\n",
      "\tUnique values:         3\n",
      "\tSmallest value:        1979\n",
      "\tLargest value:         2012\n",
      "\tSum:                   7949\n",
      "\tMean:                  1987.25\n",
      "\tMedian:                1979\n",
      "\tStDev:                 16.5\n",
      "\tMost common values:    None (8x)\n",
      "\t                       1979 (3x)\n",
      "\t                       2012 (1x)\n",
      "\n",
      "  7. \"notes\"\n",
      "\n",
      "\tType of data:          Text\n",
      "\tContains null values:  True (excluded from calculations)\n",
      "\tUnique values:         6\n",
      "\tLongest value:         67 characters\n",
      "\tMost common values:    None (6x)\n",
      "\t                       Includes Asian Indian (2x)\n",
      "\t                       Race is explicitly unknown (1x)\n",
      "\t                       Includes Native Hawaiian or Other Pacific Islander and Asian Indian (1x)\n",
      "\t                       Used for groups with multiple races (1x)\n",
      "\n",
      "Row count: 12\n"
     ]
    }
   ],
   "source": [
    "!head -n 100 REF_RACE.csv | csvstat"
   ]
  },
  {
   "cell_type": "markdown",
   "id": "12b39e1b-773e-4b26-92a2-330e0a004327",
   "metadata": {
    "tags": []
   },
   "source": [
    "##### c) Create the race entity table based on the data types from csv and the needed rows from customer requirement (i.e. Data Dictionary)"
   ]
  },
  {
   "cell_type": "code",
   "execution_count": 164,
   "id": "62c3fb12-2c9d-40f9-8a89-ae91f8e067dc",
   "metadata": {},
   "outputs": [
    {
     "name": "stdout",
     "output_type": "stream",
     "text": [
      " * postgresql://student@/NIBRS\n",
      "Done.\n",
      "Done.\n"
     ]
    },
    {
     "data": {
      "text/plain": [
       "[]"
      ]
     },
     "execution_count": 164,
     "metadata": {},
     "output_type": "execute_result"
    }
   ],
   "source": [
    "%%sql\n",
    "DROP TABLE IF EXISTS RACE Cascade;\n",
    "\n",
    "CREATE TABLE RACE (\n",
    "    race_id      Numeric(4)   NOT NULL,\n",
    "    race_code    CHAR(2)      NOT NULL,  \n",
    "    race_desc    VARCHAR(100) NOT NULL,\n",
    "    sort_order   Numeric(2)   NOT NULL,\n",
    "    start_year   Numeric(4),\n",
    "    end_year     Numeric(4),\n",
    "    notes        Varchar(100),\n",
    "    PRIMARY KEY (race_id),\n",
    "    UNIQUE (race_code) \n",
    ");"
   ]
  },
  {
   "cell_type": "markdown",
   "id": "dcdd6082-b088-40ed-9ba8-896e10ed5ac8",
   "metadata": {
    "tags": []
   },
   "source": [
    "##### d) Load the data from csv file"
   ]
  },
  {
   "cell_type": "code",
   "execution_count": 165,
   "id": "3b4598f0-a616-4230-ac9e-3af4f89a5ec3",
   "metadata": {},
   "outputs": [
    {
     "name": "stdout",
     "output_type": "stream",
     "text": [
      "/home/ubuntu/notebooks/Assignment2\n"
     ]
    }
   ],
   "source": [
    "!pwd"
   ]
  },
  {
   "cell_type": "code",
   "execution_count": 166,
   "id": "d3c5d8de-b645-4348-86f3-8088c82ddfba",
   "metadata": {},
   "outputs": [
    {
     "name": "stdout",
     "output_type": "stream",
     "text": [
      " * postgresql://student@/NIBRS\n",
      "12 rows affected.\n"
     ]
    },
    {
     "data": {
      "text/plain": [
       "[]"
      ]
     },
     "execution_count": 166,
     "metadata": {},
     "output_type": "execute_result"
    }
   ],
   "source": [
    "%%sql\n",
    "COPY RACE FROM '/home/ubuntu/notebooks/Assignment2/REF_RACE.csv'\n",
    "CSV\n",
    "HEADER;"
   ]
  },
  {
   "cell_type": "markdown",
   "id": "aee7f266-5d82-4d52-84a2-df617e09fa44",
   "metadata": {
    "tags": []
   },
   "source": [
    "##### e) Confirm whether the bulk loading is completed correctly"
   ]
  },
  {
   "cell_type": "code",
   "execution_count": 167,
   "id": "13bda872-9597-44ac-93e1-c82b5db86c47",
   "metadata": {},
   "outputs": [
    {
     "name": "stdout",
     "output_type": "stream",
     "text": [
      " * postgresql://student@/NIBRS\n",
      "10 rows affected.\n"
     ]
    },
    {
     "data": {
      "text/html": [
       "<table>\n",
       "    <thead>\n",
       "        <tr>\n",
       "            <th>race_id</th>\n",
       "            <th>race_code</th>\n",
       "            <th>race_desc</th>\n",
       "            <th>sort_order</th>\n",
       "            <th>start_year</th>\n",
       "            <th>end_year</th>\n",
       "            <th>notes</th>\n",
       "        </tr>\n",
       "    </thead>\n",
       "    <tbody>\n",
       "        <tr>\n",
       "            <td>98</td>\n",
       "            <td>U </td>\n",
       "            <td>Unknown</td>\n",
       "            <td>98</td>\n",
       "            <td>None</td>\n",
       "            <td>None</td>\n",
       "            <td>Race is explicitly unknown</td>\n",
       "        </tr>\n",
       "        <tr>\n",
       "            <td>10</td>\n",
       "            <td>W </td>\n",
       "            <td>White</td>\n",
       "            <td>10</td>\n",
       "            <td>None</td>\n",
       "            <td>None</td>\n",
       "            <td></td>\n",
       "        </tr>\n",
       "        <tr>\n",
       "            <td>20</td>\n",
       "            <td>B </td>\n",
       "            <td>Black or African American</td>\n",
       "            <td>20</td>\n",
       "            <td>None</td>\n",
       "            <td>None</td>\n",
       "            <td></td>\n",
       "        </tr>\n",
       "        <tr>\n",
       "            <td>30</td>\n",
       "            <td>I </td>\n",
       "            <td>American Indian or Alaska Native</td>\n",
       "            <td>30</td>\n",
       "            <td>None</td>\n",
       "            <td>None</td>\n",
       "            <td></td>\n",
       "        </tr>\n",
       "        <tr>\n",
       "            <td>40</td>\n",
       "            <td>A </td>\n",
       "            <td>Asian</td>\n",
       "            <td>40</td>\n",
       "            <td>2013</td>\n",
       "            <td>None</td>\n",
       "            <td>Includes Asian Indian</td>\n",
       "        </tr>\n",
       "        <tr>\n",
       "            <td>41</td>\n",
       "            <td>AP</td>\n",
       "            <td>Asian, Native Hawaiian, or Other Pacific Islander</td>\n",
       "            <td>41</td>\n",
       "            <td>1980</td>\n",
       "            <td>2012</td>\n",
       "            <td>Includes Asian Indian</td>\n",
       "        </tr>\n",
       "        <tr>\n",
       "            <td>42</td>\n",
       "            <td>C </td>\n",
       "            <td>Chinese</td>\n",
       "            <td>42</td>\n",
       "            <td>1960</td>\n",
       "            <td>1979</td>\n",
       "            <td></td>\n",
       "        </tr>\n",
       "        <tr>\n",
       "            <td>43</td>\n",
       "            <td>J </td>\n",
       "            <td>Japanese</td>\n",
       "            <td>43</td>\n",
       "            <td>1960</td>\n",
       "            <td>1979</td>\n",
       "            <td></td>\n",
       "        </tr>\n",
       "        <tr>\n",
       "            <td>50</td>\n",
       "            <td>P </td>\n",
       "            <td>Native Hawaiian or Other Pacific Islander</td>\n",
       "            <td>50</td>\n",
       "            <td>2013</td>\n",
       "            <td>None</td>\n",
       "            <td></td>\n",
       "        </tr>\n",
       "        <tr>\n",
       "            <td>60</td>\n",
       "            <td>O </td>\n",
       "            <td>Other</td>\n",
       "            <td>60</td>\n",
       "            <td>1960</td>\n",
       "            <td>1979</td>\n",
       "            <td>Includes Native Hawaiian or Other Pacific Islander and Asian Indian</td>\n",
       "        </tr>\n",
       "    </tbody>\n",
       "</table>"
      ],
      "text/plain": [
       "[(Decimal('98'), 'U ', 'Unknown', Decimal('98'), None, None, 'Race is explicitly unknown'),\n",
       " (Decimal('10'), 'W ', 'White', Decimal('10'), None, None, ''),\n",
       " (Decimal('20'), 'B ', 'Black or African American', Decimal('20'), None, None, ''),\n",
       " (Decimal('30'), 'I ', 'American Indian or Alaska Native', Decimal('30'), None, None, ''),\n",
       " (Decimal('40'), 'A ', 'Asian', Decimal('40'), Decimal('2013'), None, 'Includes Asian Indian'),\n",
       " (Decimal('41'), 'AP', 'Asian, Native Hawaiian, or Other Pacific Islander', Decimal('41'), Decimal('1980'), Decimal('2012'), 'Includes Asian Indian'),\n",
       " (Decimal('42'), 'C ', 'Chinese', Decimal('42'), Decimal('1960'), Decimal('1979'), ''),\n",
       " (Decimal('43'), 'J ', 'Japanese', Decimal('43'), Decimal('1960'), Decimal('1979'), ''),\n",
       " (Decimal('50'), 'P ', 'Native Hawaiian or Other Pacific Islander', Decimal('50'), Decimal('2013'), None, ''),\n",
       " (Decimal('60'), 'O ', 'Other', Decimal('60'), Decimal('1960'), Decimal('1979'), 'Includes Native Hawaiian or Other Pacific Islander and Asian Indian')]"
      ]
     },
     "execution_count": 167,
     "metadata": {},
     "output_type": "execute_result"
    }
   ],
   "source": [
    "%%sql\n",
    "Select * from RACE\n",
    "limit 10;"
   ]
  },
  {
   "cell_type": "markdown",
   "id": "74299361-0fe6-4ffb-a9a3-fc65e4d0291c",
   "metadata": {
    "toc-hr-collapsed": true
   },
   "source": [
    "#### 3. Ethnicity Data\n",
    "Reading CSV files, Creating Database Tables and Loading Data into Tables"
   ]
  },
  {
   "cell_type": "markdown",
   "id": "640b3871-681d-47dd-ba26-e7aa73f97668",
   "metadata": {
    "tags": []
   },
   "source": [
    "##### a) Looking at the csv file columns"
   ]
  },
  {
   "cell_type": "code",
   "execution_count": 168,
   "id": "3b580880-db4a-473c-8161-d49e72a63476",
   "metadata": {},
   "outputs": [
    {
     "name": "stdout",
     "output_type": "stream",
     "text": [
      "  1: ethnicity_id\n",
      "  2: ethnicity_code\n",
      "  3: ethnicity_name\n"
     ]
    }
   ],
   "source": [
    "!csvcut -n NIBRS_ETHNICITY.csv"
   ]
  },
  {
   "cell_type": "markdown",
   "id": "3e31656a-9438-4226-9f5e-eb6205e184b4",
   "metadata": {
    "tags": []
   },
   "source": [
    "##### b) Preliminary look at the data and data types"
   ]
  },
  {
   "cell_type": "code",
   "execution_count": 169,
   "id": "29dcd98c-46af-4bdb-8300-7db59343a902",
   "metadata": {
    "tags": []
   },
   "outputs": [
    {
     "name": "stdout",
     "output_type": "stream",
     "text": [
      "  1. \"ethnicity_id\"\n",
      "\n",
      "\tType of data:          Number\n",
      "\tContains null values:  False\n",
      "\tUnique values:         5\n",
      "\tSmallest value:        10\n",
      "\tLargest value:         50\n",
      "\tSum:                   150\n",
      "\tMean:                  30\n",
      "\tMedian:                30\n",
      "\tStDev:                 15.811\n",
      "\tMost common values:    10 (1x)\n",
      "\t                       20 (1x)\n",
      "\t                       30 (1x)\n",
      "\t                       40 (1x)\n",
      "\t                       50 (1x)\n",
      "\n",
      "  2. \"ethnicity_code\"\n",
      "\n",
      "\tType of data:          Text\n",
      "\tContains null values:  False\n",
      "\tUnique values:         5\n",
      "\tLongest value:         1 characters\n",
      "\tMost common values:    H (1x)\n",
      "\t                       N (1x)\n",
      "\t                       M (1x)\n",
      "\t                       U (1x)\n",
      "\t                       X (1x)\n",
      "\n",
      "  3. \"ethnicity_name\"\n",
      "\n",
      "\tType of data:          Text\n",
      "\tContains null values:  False\n",
      "\tUnique values:         5\n",
      "\tLongest value:         22 characters\n",
      "\tMost common values:    Hispanic or Latino (1x)\n",
      "\t                       Not Hispanic or Latino (1x)\n",
      "\t                       Multiple (1x)\n",
      "\t                       Unknown (1x)\n",
      "\t                       Not Specified (1x)\n",
      "\n",
      "Row count: 5\n"
     ]
    }
   ],
   "source": [
    "!head -n 100 NIBRS_ETHNICITY.csv | csvstat"
   ]
  },
  {
   "cell_type": "markdown",
   "id": "c6435521-da23-46ba-be47-1a3292e78857",
   "metadata": {
    "tags": []
   },
   "source": [
    "##### c) Create the ethnicity entity table based on the data types from csv and the needed rows from customer requirement (i.e. Data Dictionary)"
   ]
  },
  {
   "cell_type": "code",
   "execution_count": 170,
   "id": "f2f39955-a8ad-45ab-8a05-cb890293b247",
   "metadata": {},
   "outputs": [
    {
     "name": "stdout",
     "output_type": "stream",
     "text": [
      " * postgresql://student@/NIBRS\n",
      "Done.\n",
      "Done.\n"
     ]
    },
    {
     "data": {
      "text/plain": [
       "[]"
      ]
     },
     "execution_count": 170,
     "metadata": {},
     "output_type": "execute_result"
    }
   ],
   "source": [
    "%%sql\n",
    "DROP TABLE IF EXISTS ETHNICITY Cascade;\n",
    "\n",
    "CREATE TABLE ETHNICITY (\n",
    "  ethnicity_id     Numeric(4)   NOT NULL, \n",
    "  ethnicity_code   CHAR(1),      \n",
    "  ethnicity_name   VARCHAR(100),\n",
    "PRIMARY KEY (ethnicity_id),\n",
    "UNIQUE (ethnicity_code)    \n",
    ");    "
   ]
  },
  {
   "cell_type": "markdown",
   "id": "144fa99e-1c36-4d3e-b071-c946d790a03a",
   "metadata": {
    "tags": []
   },
   "source": [
    "##### d) Load the data from csv file"
   ]
  },
  {
   "cell_type": "code",
   "execution_count": 171,
   "id": "3ba745c0-2136-4b0e-b017-9521cf07d6b3",
   "metadata": {},
   "outputs": [
    {
     "name": "stdout",
     "output_type": "stream",
     "text": [
      " * postgresql://student@/NIBRS\n",
      "5 rows affected.\n"
     ]
    },
    {
     "data": {
      "text/plain": [
       "[]"
      ]
     },
     "execution_count": 171,
     "metadata": {},
     "output_type": "execute_result"
    }
   ],
   "source": [
    "%%sql\n",
    "COPY ETHNICITY FROM '/home/ubuntu/notebooks/Assignment2/NIBRS_ETHNICITY.csv'\n",
    "CSV\n",
    "HEADER;"
   ]
  },
  {
   "cell_type": "markdown",
   "id": "fd651c3b-da7f-437c-8676-8586f07d3bbe",
   "metadata": {
    "tags": []
   },
   "source": [
    "##### e) Confirm whether the bulk loading is completed correctly"
   ]
  },
  {
   "cell_type": "code",
   "execution_count": 172,
   "id": "7941dbe8-236b-43f3-a0e4-c30efba065bd",
   "metadata": {},
   "outputs": [
    {
     "name": "stdout",
     "output_type": "stream",
     "text": [
      " * postgresql://student@/NIBRS\n",
      "5 rows affected.\n"
     ]
    },
    {
     "data": {
      "text/html": [
       "<table>\n",
       "    <thead>\n",
       "        <tr>\n",
       "            <th>ethnicity_id</th>\n",
       "            <th>ethnicity_code</th>\n",
       "            <th>ethnicity_name</th>\n",
       "        </tr>\n",
       "    </thead>\n",
       "    <tbody>\n",
       "        <tr>\n",
       "            <td>10</td>\n",
       "            <td>H</td>\n",
       "            <td>Hispanic or Latino</td>\n",
       "        </tr>\n",
       "        <tr>\n",
       "            <td>20</td>\n",
       "            <td>N</td>\n",
       "            <td>Not Hispanic or Latino</td>\n",
       "        </tr>\n",
       "        <tr>\n",
       "            <td>30</td>\n",
       "            <td>M</td>\n",
       "            <td>Multiple</td>\n",
       "        </tr>\n",
       "        <tr>\n",
       "            <td>40</td>\n",
       "            <td>U</td>\n",
       "            <td>Unknown</td>\n",
       "        </tr>\n",
       "        <tr>\n",
       "            <td>50</td>\n",
       "            <td>X</td>\n",
       "            <td>Not Specified</td>\n",
       "        </tr>\n",
       "    </tbody>\n",
       "</table>"
      ],
      "text/plain": [
       "[(Decimal('10'), 'H', 'Hispanic or Latino'),\n",
       " (Decimal('20'), 'N', 'Not Hispanic or Latino'),\n",
       " (Decimal('30'), 'M', 'Multiple'),\n",
       " (Decimal('40'), 'U', 'Unknown'),\n",
       " (Decimal('50'), 'X', 'Not Specified')]"
      ]
     },
     "execution_count": 172,
     "metadata": {},
     "output_type": "execute_result"
    }
   ],
   "source": [
    "%%sql\n",
    "Select * from ETHNICITY\n",
    "limit 10;"
   ]
  },
  {
   "cell_type": "markdown",
   "id": "0a4f4eb3-e30f-4aba-8c10-8fa515cb5a1e",
   "metadata": {
    "tags": [],
    "toc-hr-collapsed": true
   },
   "source": [
    "#### 4. Location Type Data\n",
    "Reading CSV files, Creating Database Tables and Loading Data into Tables"
   ]
  },
  {
   "cell_type": "markdown",
   "id": "c4d8f9da-a797-4284-bdf3-b1af5750f0b6",
   "metadata": {
    "tags": []
   },
   "source": [
    "##### a) Looking at the csv file columns"
   ]
  },
  {
   "cell_type": "code",
   "execution_count": 173,
   "id": "03c839cf-4c55-463e-ab22-5a66573e0faf",
   "metadata": {},
   "outputs": [
    {
     "name": "stdout",
     "output_type": "stream",
     "text": [
      "  1: location_id\n",
      "  2: location_code\n",
      "  3: location_name\n"
     ]
    }
   ],
   "source": [
    "!csvcut -n NIBRS_LOCATION_TYPE.csv"
   ]
  },
  {
   "cell_type": "markdown",
   "id": "951506b2-30b7-4f23-b204-00f3d57d8ff5",
   "metadata": {
    "tags": []
   },
   "source": [
    "##### b) Preliminary look at the data and data types"
   ]
  },
  {
   "cell_type": "code",
   "execution_count": 174,
   "id": "1b696da8-1f13-4334-b4df-8c5f6298bb26",
   "metadata": {
    "tags": []
   },
   "outputs": [
    {
     "name": "stdout",
     "output_type": "stream",
     "text": [
      "  1. \"location_id\"\n",
      "\n",
      "\tType of data:          Number\n",
      "\tContains null values:  False\n",
      "\tUnique values:         47\n",
      "\tSmallest value:        1\n",
      "\tLargest value:         99\n",
      "\tSum:                   1232\n",
      "\tMean:                  26.213\n",
      "\tMedian:                24\n",
      "\tStDev:                 20.057\n",
      "\tMost common values:    1 (1x)\n",
      "\t                       2 (1x)\n",
      "\t                       3 (1x)\n",
      "\t                       4 (1x)\n",
      "\t                       5 (1x)\n",
      "\n",
      "  2. \"location_code\"\n",
      "\n",
      "\tType of data:          Number\n",
      "\tContains null values:  False\n",
      "\tUnique values:         47\n",
      "\tSmallest value:        0\n",
      "\tLargest value:         58\n",
      "\tSum:                   1327\n",
      "\tMean:                  28.234\n",
      "\tMedian:                23\n",
      "\tStDev:                 19.072\n",
      "\tMost common values:    37 (1x)\n",
      "\t                       1 (1x)\n",
      "\t                       38 (1x)\n",
      "\t                       39 (1x)\n",
      "\t                       40 (1x)\n",
      "\n",
      "  3. \"location_name\"\n",
      "\n",
      "\tType of data:          Text\n",
      "\tContains null values:  False\n",
      "\tUnique values:         47\n",
      "\tLongest value:         45 characters\n",
      "\tMost common values:    Abandoned/Condemned Structure (1x)\n",
      "\t                       Air/Bus/Train Terminal (1x)\n",
      "\t                       Amusement Park (1x)\n",
      "\t                       Arena/Stadium/Fairgrounds/Coliseum (1x)\n",
      "\t                       ATM Separate from Bank (1x)\n",
      "\n",
      "Row count: 47\n"
     ]
    }
   ],
   "source": [
    "!head -n 100 NIBRS_LOCATION_TYPE.csv | csvstat"
   ]
  },
  {
   "cell_type": "markdown",
   "id": "c29d897d-7360-420d-8c32-8494a3af51d8",
   "metadata": {
    "tags": []
   },
   "source": [
    "##### c) Create the LOCATION_TYPE entity table based on the data types from csv and the needed rows from customer requirement (i.e. Data Dictionary)"
   ]
  },
  {
   "cell_type": "code",
   "execution_count": 175,
   "id": "a9931254-e754-418d-a976-e554fe21cb39",
   "metadata": {},
   "outputs": [
    {
     "name": "stdout",
     "output_type": "stream",
     "text": [
      " * postgresql://student@/NIBRS\n",
      "Done.\n",
      "Done.\n"
     ]
    },
    {
     "data": {
      "text/plain": [
       "[]"
      ]
     },
     "execution_count": 175,
     "metadata": {},
     "output_type": "execute_result"
    }
   ],
   "source": [
    "%%sql\n",
    "DROP TABLE IF EXISTS LOCATION_TYPE Cascade;\n",
    "\n",
    "CREATE TABLE LOCATION_TYPE (\n",
    "  location_id      Numeric(10) NOT NULL,   \n",
    "  location_code    CHAR(2),   \n",
    "  location_name    VARCHAR(100),\n",
    "PRIMARY KEY (location_id),\n",
    "UNIQUE (location_code)    \n",
    ");   "
   ]
  },
  {
   "cell_type": "markdown",
   "id": "0171e443-e9a4-49ac-bae8-86312e025dae",
   "metadata": {
    "tags": []
   },
   "source": [
    "##### d) Load the data from csv file"
   ]
  },
  {
   "cell_type": "code",
   "execution_count": 176,
   "id": "1123c28a-915c-4094-b850-8a0d90dd3936",
   "metadata": {},
   "outputs": [
    {
     "name": "stdout",
     "output_type": "stream",
     "text": [
      " * postgresql://student@/NIBRS\n",
      "47 rows affected.\n"
     ]
    },
    {
     "data": {
      "text/plain": [
       "[]"
      ]
     },
     "execution_count": 176,
     "metadata": {},
     "output_type": "execute_result"
    }
   ],
   "source": [
    "%%sql\n",
    "COPY LOCATION_TYPE FROM '/home/ubuntu/notebooks/Assignment2/NIBRS_LOCATION_TYPE.csv'\n",
    "CSV\n",
    "HEADER;"
   ]
  },
  {
   "cell_type": "markdown",
   "id": "38a8e70d-c013-4a48-b95f-b69f662d47b9",
   "metadata": {
    "tags": []
   },
   "source": [
    "##### e) Confirm whether the bulk loading is completed correctly"
   ]
  },
  {
   "cell_type": "code",
   "execution_count": 177,
   "id": "80da1d2f-7ca7-48dd-b5b5-bb57739d853a",
   "metadata": {},
   "outputs": [
    {
     "name": "stdout",
     "output_type": "stream",
     "text": [
      " * postgresql://student@/NIBRS\n",
      "10 rows affected.\n"
     ]
    },
    {
     "data": {
      "text/html": [
       "<table>\n",
       "    <thead>\n",
       "        <tr>\n",
       "            <th>location_id</th>\n",
       "            <th>location_code</th>\n",
       "            <th>location_name</th>\n",
       "        </tr>\n",
       "    </thead>\n",
       "    <tbody>\n",
       "        <tr>\n",
       "            <td>1</td>\n",
       "            <td>37</td>\n",
       "            <td>Abandoned/Condemned Structure</td>\n",
       "        </tr>\n",
       "        <tr>\n",
       "            <td>2</td>\n",
       "            <td>01</td>\n",
       "            <td>Air/Bus/Train Terminal</td>\n",
       "        </tr>\n",
       "        <tr>\n",
       "            <td>3</td>\n",
       "            <td>38</td>\n",
       "            <td>Amusement Park</td>\n",
       "        </tr>\n",
       "        <tr>\n",
       "            <td>4</td>\n",
       "            <td>39</td>\n",
       "            <td>Arena/Stadium/Fairgrounds/Coliseum</td>\n",
       "        </tr>\n",
       "        <tr>\n",
       "            <td>5</td>\n",
       "            <td>40</td>\n",
       "            <td>ATM Separate from Bank</td>\n",
       "        </tr>\n",
       "        <tr>\n",
       "            <td>6</td>\n",
       "            <td>41</td>\n",
       "            <td>Auto Dealership New/Used</td>\n",
       "        </tr>\n",
       "        <tr>\n",
       "            <td>7</td>\n",
       "            <td>02</td>\n",
       "            <td>Bank/Savings and Loan</td>\n",
       "        </tr>\n",
       "        <tr>\n",
       "            <td>8</td>\n",
       "            <td>03</td>\n",
       "            <td>Bar/Nightclub</td>\n",
       "        </tr>\n",
       "        <tr>\n",
       "            <td>9</td>\n",
       "            <td>42</td>\n",
       "            <td>Camp/Campground</td>\n",
       "        </tr>\n",
       "        <tr>\n",
       "            <td>10</td>\n",
       "            <td>04</td>\n",
       "            <td>Church/Synagogue/Temple/Mosque</td>\n",
       "        </tr>\n",
       "    </tbody>\n",
       "</table>"
      ],
      "text/plain": [
       "[(Decimal('1'), '37', 'Abandoned/Condemned Structure'),\n",
       " (Decimal('2'), '01', 'Air/Bus/Train Terminal'),\n",
       " (Decimal('3'), '38', 'Amusement Park'),\n",
       " (Decimal('4'), '39', 'Arena/Stadium/Fairgrounds/Coliseum'),\n",
       " (Decimal('5'), '40', 'ATM Separate from Bank'),\n",
       " (Decimal('6'), '41', 'Auto Dealership New/Used'),\n",
       " (Decimal('7'), '02', 'Bank/Savings and Loan'),\n",
       " (Decimal('8'), '03', 'Bar/Nightclub'),\n",
       " (Decimal('9'), '42', 'Camp/Campground'),\n",
       " (Decimal('10'), '04', 'Church/Synagogue/Temple/Mosque')]"
      ]
     },
     "execution_count": 177,
     "metadata": {},
     "output_type": "execute_result"
    }
   ],
   "source": [
    "%%sql\n",
    "Select * from LOCATION_TYPE\n",
    "limit 10;"
   ]
  },
  {
   "cell_type": "markdown",
   "id": "29c4853f-edd5-496f-b09d-7425c4aca8e5",
   "metadata": {
    "tags": [],
    "toc-hr-collapsed": true
   },
   "source": [
    "#### 5. Offender Data \n",
    "Reading CSV files, Creating Database Tables and Loading Data into Tables"
   ]
  },
  {
   "cell_type": "markdown",
   "id": "09644d30-fc9b-4c9c-a0c7-813d1a868620",
   "metadata": {
    "tags": []
   },
   "source": [
    "##### a) Looking at the csv file columns"
   ]
  },
  {
   "cell_type": "code",
   "execution_count": 178,
   "id": "679ad4d1-c2af-44d8-a5e8-9f2279326594",
   "metadata": {},
   "outputs": [
    {
     "name": "stdout",
     "output_type": "stream",
     "text": [
      "  1: data_year\n",
      "  2: offender_id\n",
      "  3: incident_id\n",
      "  4: offender_seq_num\n",
      "  5: age_id\n",
      "  6: age_num\n",
      "  7: sex_code\n",
      "  8: race_id\n",
      "  9: ethnicity_id\n",
      " 10: age_range_low_num\n",
      " 11: age_range_high_num\n"
     ]
    }
   ],
   "source": [
    "!csvcut -n NIBRS_OFFENDER.csv"
   ]
  },
  {
   "cell_type": "markdown",
   "id": "d4b86871-58db-486d-a55d-746d9f7b80d3",
   "metadata": {
    "tags": []
   },
   "source": [
    "##### b) Select only the columns we need and append it to a csv file named offender.csv"
   ]
  },
  {
   "cell_type": "code",
   "execution_count": 179,
   "id": "8e40b454-f6eb-4f22-bde4-ff1a78136cbd",
   "metadata": {},
   "outputs": [],
   "source": [
    "!csvcut -c offender_id,incident_id,offender_seq_num,age_num,sex_code,race_id,ethnicity_id '/home/ubuntu/notebooks/Assignment2/NIBRS_OFFENDER.csv' > offender.csv"
   ]
  },
  {
   "cell_type": "markdown",
   "id": "f7558ccb-b83e-4b07-afa1-92b04eb889dc",
   "metadata": {
    "tags": []
   },
   "source": [
    "##### c) Preliminary look at the data and data types"
   ]
  },
  {
   "cell_type": "code",
   "execution_count": 180,
   "id": "951c4e50-5360-4e5b-a29f-eb2bd886d358",
   "metadata": {},
   "outputs": [
    {
     "name": "stdout",
     "output_type": "stream",
     "text": [
      "  1. \"offender_id\"\n",
      "\n",
      "\tType of data:          Number\n",
      "\tContains null values:  False\n",
      "\tUnique values:         99\n",
      "\tSmallest value:        151542146\n",
      "\tLargest value:         170096007\n",
      "\tSum:                   15672487728\n",
      "\tMean:                  158307956.848\n",
      "\tMedian:                155233089\n",
      "\tStDev:                 5951831.626\n",
      "\tMost common values:    161073930 (1x)\n",
      "\t                       155090892 (1x)\n",
      "\t                       155181712 (1x)\n",
      "\t                       155125626 (1x)\n",
      "\t                       155108544 (1x)\n",
      "\n",
      "  2. \"incident_id\"\n",
      "\n",
      "\tType of data:          Number\n",
      "\tContains null values:  False\n",
      "\tUnique values:         72\n",
      "\tSmallest value:        133362971\n",
      "\tLargest value:         149760824\n",
      "\tSum:                   13794288145\n",
      "\tMean:                  139336243.889\n",
      "\tMedian:                136624968\n",
      "\tStDev:                 5262333.455\n",
      "\tMost common values:    147282554 (9x)\n",
      "\t                       134859394 (4x)\n",
      "\t                       135775205 (4x)\n",
      "\t                       144963734 (3x)\n",
      "\t                       134997190 (3x)\n",
      "\n",
      "  3. \"offender_seq_num\"\n",
      "\n",
      "\tType of data:          Number\n",
      "\tContains null values:  False\n",
      "\tUnique values:         10\n",
      "\tSmallest value:        0\n",
      "\tLargest value:         9\n",
      "\tSum:                   147\n",
      "\tMean:                  1.485\n",
      "\tMedian:                1\n",
      "\tStDev:                 1.58\n",
      "\tMost common values:    1 (55x)\n",
      "\t                       0 (16x)\n",
      "\t                       2 (15x)\n",
      "\t                       3 (5x)\n",
      "\t                       4 (3x)\n",
      "\n",
      "  4. \"age_num\"\n",
      "\n",
      "\tType of data:          Text\n",
      "\tContains null values:  False\n",
      "\tUnique values:         34\n",
      "\tLongest value:         2 characters\n",
      "\tMost common values:    NS (16x)\n",
      "\t                       30 (7x)\n",
      "\t                       00 (7x)\n",
      "\t                       36 (5x)\n",
      "\t                       17 (5x)\n",
      "\n",
      "  5. \"sex_code\"\n",
      "\n",
      "\tType of data:          Text\n",
      "\tContains null values:  False\n",
      "\tUnique values:         4\n",
      "\tLongest value:         1 characters\n",
      "\tMost common values:    M (61x)\n",
      "\t                       F (16x)\n",
      "\t                       X (16x)\n",
      "\t                       U (6x)\n",
      "\n",
      "  6. \"race_id\"\n",
      "\n",
      "\tType of data:          Number\n",
      "\tContains null values:  False\n",
      "\tUnique values:         6\n",
      "\tSmallest value:        10\n",
      "\tLargest value:         99\n",
      "\tSum:                   3722\n",
      "\tMean:                  37.596\n",
      "\tMedian:                20\n",
      "\tStDev:                 38.136\n",
      "\tMost common values:    10 (49x)\n",
      "\t                       99 (16x)\n",
      "\t                       20 (14x)\n",
      "\t                       98 (11x)\n",
      "\t                       30 (7x)\n",
      "\n",
      "  7. \"ethnicity_id\"\n",
      "\n",
      "\tType of data:          Number\n",
      "\tContains null values:  False\n",
      "\tUnique values:         4\n",
      "\tSmallest value:        10\n",
      "\tLargest value:         50\n",
      "\tSum:                   2600\n",
      "\tMean:                  26.263\n",
      "\tMedian:                20\n",
      "\tStDev:                 15.687\n",
      "\tMost common values:    20 (42x)\n",
      "\t                       10 (26x)\n",
      "\t                       50 (26x)\n",
      "\t                       40 (5x)\n",
      "\n",
      "Row count: 99\n"
     ]
    }
   ],
   "source": [
    "!head -n 100 offender.csv | csvstat"
   ]
  },
  {
   "cell_type": "markdown",
   "id": "966b66b3-1f94-41a4-90e4-5c07b1764e66",
   "metadata": {
    "tags": []
   },
   "source": [
    "##### d) Dealing with the Non-Numeric Values in age_num column\n",
    "__Note:__ From (c) we saw that there are some non-numeric values in the age_num column, so we decided to deal with them using the command line function. \n",
    "\n",
    "Below we used the command line to count the unique instances of NS (which we assumed meant that that specific Offender's Age was 'Not Supplied')"
   ]
  },
  {
   "cell_type": "code",
   "execution_count": 277,
   "id": "7c016569-a239-4c73-9550-1c8aee592d00",
   "metadata": {},
   "outputs": [
    {
     "name": "stdout",
     "output_type": "stream",
     "text": [
      "/home/ubuntu/.local/lib/python3.8/site-packages/agate/table/from_csv.py:74: RuntimeWarning: Error sniffing CSV dialect: Could not determine delimiter\n",
      "  47726 NS\n",
      "   8051 00\n",
      "   5529 30\n",
      "   4136 25\n",
      "   3238 35\n",
      "   2635 40\n",
      "   2634 27\n",
      "   2468 32\n",
      "   2248 28\n",
      "   2200 29\n"
     ]
    }
   ],
   "source": [
    "!csvcut -c age_num offender.csv | csvsort | uniq -c | sort -rn | head -n 10"
   ]
  },
  {
   "cell_type": "markdown",
   "id": "c59a3735-1a0d-4057-a560-856235c7436d",
   "metadata": {},
   "source": [
    "__Note:__ We use awk function to find the non-numeric values NS etc (as seen above) and replace them with NULL values because:\n",
    "* There are 47726 non-numeric value NS and if we drop their specific tuples/rows, our data integrity would be affected \n",
    "\n",
    "* The rows/tuples have primary keys that are foreign keys in other tables therefore, we didn't drop these rows/tuples to avoid future issues when loading data.\n",
    "\n",
    "* NULL values are still useful and will allow us to do mathematical operations on the age_num column which is better than changing the column data type to CHAR. Futhermore, changing the datatype to CHAR would be going against the data dictionary, which we used as our guide in creating our table."
   ]
  },
  {
   "cell_type": "code",
   "execution_count": 182,
   "id": "6af448c3-dc51-47d1-aea9-985c9fdfaf95",
   "metadata": {},
   "outputs": [],
   "source": [
    "!awk -F, 'BEGIN {OFS = FS} { if ($4 ~ /^[a-zA-Z]+$/) $4 = NULL; print}' offender.csv > offender_updated.csv"
   ]
  },
  {
   "cell_type": "markdown",
   "id": "a173dc79-7c53-4014-8860-93e14c1e1efc",
   "metadata": {
    "tags": []
   },
   "source": [
    "##### e) Looking at the updated data and data types"
   ]
  },
  {
   "cell_type": "code",
   "execution_count": 183,
   "id": "ce35620d-6442-4633-b0a8-1236e9422a14",
   "metadata": {
    "tags": []
   },
   "outputs": [
    {
     "name": "stdout",
     "output_type": "stream",
     "text": [
      "  1. \"offender_id\"\n",
      "\n",
      "\tType of data:          Number\n",
      "\tContains null values:  False\n",
      "\tUnique values:         99\n",
      "\tSmallest value:        151542146\n",
      "\tLargest value:         170096007\n",
      "\tSum:                   15672487728\n",
      "\tMean:                  158307956.848\n",
      "\tMedian:                155233089\n",
      "\tStDev:                 5951831.626\n",
      "\tMost common values:    161073930 (1x)\n",
      "\t                       155090892 (1x)\n",
      "\t                       155181712 (1x)\n",
      "\t                       155125626 (1x)\n",
      "\t                       155108544 (1x)\n",
      "\n",
      "  2. \"incident_id\"\n",
      "\n",
      "\tType of data:          Number\n",
      "\tContains null values:  False\n",
      "\tUnique values:         72\n",
      "\tSmallest value:        133362971\n",
      "\tLargest value:         149760824\n",
      "\tSum:                   13794288145\n",
      "\tMean:                  139336243.889\n",
      "\tMedian:                136624968\n",
      "\tStDev:                 5262333.455\n",
      "\tMost common values:    147282554 (9x)\n",
      "\t                       134859394 (4x)\n",
      "\t                       135775205 (4x)\n",
      "\t                       144963734 (3x)\n",
      "\t                       134997190 (3x)\n",
      "\n",
      "  3. \"offender_seq_num\"\n",
      "\n",
      "\tType of data:          Number\n",
      "\tContains null values:  False\n",
      "\tUnique values:         10\n",
      "\tSmallest value:        0\n",
      "\tLargest value:         9\n",
      "\tSum:                   147\n",
      "\tMean:                  1.485\n",
      "\tMedian:                1\n",
      "\tStDev:                 1.58\n",
      "\tMost common values:    1 (55x)\n",
      "\t                       0 (16x)\n",
      "\t                       2 (15x)\n",
      "\t                       3 (5x)\n",
      "\t                       4 (3x)\n",
      "\n",
      "  4. \"age_num\"\n",
      "\n",
      "\tType of data:          Number\n",
      "\tContains null values:  True (excluded from calculations)\n",
      "\tUnique values:         34\n",
      "\tSmallest value:        0\n",
      "\tLargest value:         61\n",
      "\tSum:                   2367\n",
      "\tMean:                  28.518\n",
      "\tMedian:                29\n",
      "\tStDev:                 13.739\n",
      "\tMost common values:    None (16x)\n",
      "\t                       30 (7x)\n",
      "\t                       0 (7x)\n",
      "\t                       36 (5x)\n",
      "\t                       17 (5x)\n",
      "\n",
      "  5. \"sex_code\"\n",
      "\n",
      "\tType of data:          Text\n",
      "\tContains null values:  False\n",
      "\tUnique values:         4\n",
      "\tLongest value:         1 characters\n",
      "\tMost common values:    M (61x)\n",
      "\t                       F (16x)\n",
      "\t                       X (16x)\n",
      "\t                       U (6x)\n",
      "\n",
      "  6. \"race_id\"\n",
      "\n",
      "\tType of data:          Number\n",
      "\tContains null values:  False\n",
      "\tUnique values:         6\n",
      "\tSmallest value:        10\n",
      "\tLargest value:         99\n",
      "\tSum:                   3722\n",
      "\tMean:                  37.596\n",
      "\tMedian:                20\n",
      "\tStDev:                 38.136\n",
      "\tMost common values:    10 (49x)\n",
      "\t                       99 (16x)\n",
      "\t                       20 (14x)\n",
      "\t                       98 (11x)\n",
      "\t                       30 (7x)\n",
      "\n",
      "  7. \"ethnicity_id\"\n",
      "\n",
      "\tType of data:          Number\n",
      "\tContains null values:  False\n",
      "\tUnique values:         4\n",
      "\tSmallest value:        10\n",
      "\tLargest value:         50\n",
      "\tSum:                   2600\n",
      "\tMean:                  26.263\n",
      "\tMedian:                20\n",
      "\tStDev:                 15.687\n",
      "\tMost common values:    20 (42x)\n",
      "\t                       10 (26x)\n",
      "\t                       50 (26x)\n",
      "\t                       40 (5x)\n",
      "\n",
      "Row count: 99\n"
     ]
    }
   ],
   "source": [
    "!head -n 100 offender_updated.csv | csvstat"
   ]
  },
  {
   "cell_type": "markdown",
   "id": "4f1269b0-84da-4ff4-ad54-8c7fb0bb57af",
   "metadata": {
    "tags": []
   },
   "source": [
    "##### f) Create the OFFENDER entity table based on the data types from csv and the needed rows from customer requirement (i.e. Data Dictionary)"
   ]
  },
  {
   "cell_type": "code",
   "execution_count": 184,
   "id": "9d04d62c-8328-4a50-a375-9d869bdb35bc",
   "metadata": {},
   "outputs": [
    {
     "name": "stdout",
     "output_type": "stream",
     "text": [
      " * postgresql://student@/NIBRS\n",
      "Done.\n",
      "Done.\n"
     ]
    },
    {
     "data": {
      "text/plain": [
       "[]"
      ]
     },
     "execution_count": 184,
     "metadata": {},
     "output_type": "execute_result"
    }
   ],
   "source": [
    "%%sql\n",
    "DROP TABLE IF EXISTS OFFENDER Cascade;\n",
    "\n",
    "CREATE TABLE OFFENDER (\n",
    "  offender_id          Numeric(10) NOT NULL,\n",
    "  incident_id          Numeric(10) NOT NULL,\n",
    "  offender_seq_num     Numeric(3), \n",
    "  age_num              NUmeric(3),  \n",
    "  sex_code             CHAR(1),\n",
    "  race_id              Numeric(4) NOT NULL,\n",
    "  ethnicity_id         Numeric(4),\n",
    "PRIMARY KEY (offender_id),\n",
    "FOREIGN KEY (incident_id) REFERENCES INCIDENT(incident_id),\n",
    "FOREIGN KEY (race_id) REFERENCES RACE(race_id),\n",
    "FOREIGN KEY (ethnicity_id) REFERENCES ETHNICITY(ethnicity_id) \n",
    ");"
   ]
  },
  {
   "cell_type": "markdown",
   "id": "80022f96-a26b-4b0d-ad02-cde3c5e4a442",
   "metadata": {
    "tags": []
   },
   "source": [
    "##### g) Load the data from csv file"
   ]
  },
  {
   "cell_type": "code",
   "execution_count": 185,
   "id": "b1ebe002-fd27-42b0-9e62-6b26333ec1a3",
   "metadata": {},
   "outputs": [
    {
     "name": "stdout",
     "output_type": "stream",
     "text": [
      " * postgresql://student@/NIBRS\n",
      "131342 rows affected.\n"
     ]
    },
    {
     "data": {
      "text/plain": [
       "[]"
      ]
     },
     "execution_count": 185,
     "metadata": {},
     "output_type": "execute_result"
    }
   ],
   "source": [
    "%%sql\n",
    "COPY OFFENDER FROM '/home/ubuntu/notebooks/Assignment2/offender_updated.csv'\n",
    "CSV\n",
    "HEADER;"
   ]
  },
  {
   "cell_type": "markdown",
   "id": "8c86181c-8b9a-4921-a6a6-78b12e552704",
   "metadata": {
    "tags": []
   },
   "source": [
    "##### h) Confirm whether the bulk loading is completed correctly"
   ]
  },
  {
   "cell_type": "code",
   "execution_count": 186,
   "id": "2009bd08-4e93-4d78-a003-cf7506586a5e",
   "metadata": {},
   "outputs": [
    {
     "name": "stdout",
     "output_type": "stream",
     "text": [
      " * postgresql://student@/NIBRS\n",
      "10 rows affected.\n"
     ]
    },
    {
     "data": {
      "text/html": [
       "<table>\n",
       "    <thead>\n",
       "        <tr>\n",
       "            <th>offender_id</th>\n",
       "            <th>incident_id</th>\n",
       "            <th>offender_seq_num</th>\n",
       "            <th>age_num</th>\n",
       "            <th>sex_code</th>\n",
       "            <th>race_id</th>\n",
       "            <th>ethnicity_id</th>\n",
       "        </tr>\n",
       "    </thead>\n",
       "    <tbody>\n",
       "        <tr>\n",
       "            <td>161073930</td>\n",
       "            <td>141774651</td>\n",
       "            <td>1</td>\n",
       "            <td>33</td>\n",
       "            <td>M</td>\n",
       "            <td>10</td>\n",
       "            <td>20</td>\n",
       "        </tr>\n",
       "        <tr>\n",
       "            <td>155090892</td>\n",
       "            <td>136500530</td>\n",
       "            <td>1</td>\n",
       "            <td>28</td>\n",
       "            <td>M</td>\n",
       "            <td>10</td>\n",
       "            <td>10</td>\n",
       "        </tr>\n",
       "        <tr>\n",
       "            <td>155181712</td>\n",
       "            <td>136580646</td>\n",
       "            <td>1</td>\n",
       "            <td>36</td>\n",
       "            <td>F</td>\n",
       "            <td>10</td>\n",
       "            <td>20</td>\n",
       "        </tr>\n",
       "        <tr>\n",
       "            <td>155125626</td>\n",
       "            <td>136530548</td>\n",
       "            <td>1</td>\n",
       "            <td>40</td>\n",
       "            <td>F</td>\n",
       "            <td>10</td>\n",
       "            <td>20</td>\n",
       "        </tr>\n",
       "        <tr>\n",
       "            <td>155108544</td>\n",
       "            <td>136516079</td>\n",
       "            <td>1</td>\n",
       "            <td>30</td>\n",
       "            <td>F</td>\n",
       "            <td>30</td>\n",
       "            <td>20</td>\n",
       "        </tr>\n",
       "        <tr>\n",
       "            <td>155108545</td>\n",
       "            <td>136516079</td>\n",
       "            <td>2</td>\n",
       "            <td>21</td>\n",
       "            <td>M</td>\n",
       "            <td>30</td>\n",
       "            <td>20</td>\n",
       "        </tr>\n",
       "        <tr>\n",
       "            <td>162730171</td>\n",
       "            <td>143243093</td>\n",
       "            <td>1</td>\n",
       "            <td>27</td>\n",
       "            <td>M</td>\n",
       "            <td>10</td>\n",
       "            <td>10</td>\n",
       "        </tr>\n",
       "        <tr>\n",
       "            <td>155943307</td>\n",
       "            <td>137248920</td>\n",
       "            <td>1</td>\n",
       "            <td>44</td>\n",
       "            <td>F</td>\n",
       "            <td>20</td>\n",
       "            <td>20</td>\n",
       "        </tr>\n",
       "        <tr>\n",
       "            <td>155312639</td>\n",
       "            <td>136694620</td>\n",
       "            <td>1</td>\n",
       "            <td>29</td>\n",
       "            <td>M</td>\n",
       "            <td>10</td>\n",
       "            <td>10</td>\n",
       "        </tr>\n",
       "        <tr>\n",
       "            <td>155039704</td>\n",
       "            <td>136456227</td>\n",
       "            <td>1</td>\n",
       "            <td>50</td>\n",
       "            <td>M</td>\n",
       "            <td>10</td>\n",
       "            <td>20</td>\n",
       "        </tr>\n",
       "    </tbody>\n",
       "</table>"
      ],
      "text/plain": [
       "[(Decimal('161073930'), Decimal('141774651'), Decimal('1'), Decimal('33'), 'M', Decimal('10'), Decimal('20')),\n",
       " (Decimal('155090892'), Decimal('136500530'), Decimal('1'), Decimal('28'), 'M', Decimal('10'), Decimal('10')),\n",
       " (Decimal('155181712'), Decimal('136580646'), Decimal('1'), Decimal('36'), 'F', Decimal('10'), Decimal('20')),\n",
       " (Decimal('155125626'), Decimal('136530548'), Decimal('1'), Decimal('40'), 'F', Decimal('10'), Decimal('20')),\n",
       " (Decimal('155108544'), Decimal('136516079'), Decimal('1'), Decimal('30'), 'F', Decimal('30'), Decimal('20')),\n",
       " (Decimal('155108545'), Decimal('136516079'), Decimal('2'), Decimal('21'), 'M', Decimal('30'), Decimal('20')),\n",
       " (Decimal('162730171'), Decimal('143243093'), Decimal('1'), Decimal('27'), 'M', Decimal('10'), Decimal('10')),\n",
       " (Decimal('155943307'), Decimal('137248920'), Decimal('1'), Decimal('44'), 'F', Decimal('20'), Decimal('20')),\n",
       " (Decimal('155312639'), Decimal('136694620'), Decimal('1'), Decimal('29'), 'M', Decimal('10'), Decimal('10')),\n",
       " (Decimal('155039704'), Decimal('136456227'), Decimal('1'), Decimal('50'), 'M', Decimal('10'), Decimal('20'))]"
      ]
     },
     "execution_count": 186,
     "metadata": {},
     "output_type": "execute_result"
    }
   ],
   "source": [
    "%%sql\n",
    "Select * from OFFENDER\n",
    "limit 10;"
   ]
  },
  {
   "cell_type": "markdown",
   "id": "7910e427-c327-499a-b4a1-b1726712a4d5",
   "metadata": {
    "tags": [],
    "toc-hr-collapsed": true
   },
   "source": [
    "#### 6. Offense Type Data\n",
    "Reading CSV files, Creating Database Tables and Loading Data into Tables"
   ]
  },
  {
   "cell_type": "markdown",
   "id": "c0447f72-ada3-4be8-825b-b1add01a2c55",
   "metadata": {
    "tags": []
   },
   "source": [
    "##### a) Looking at the csv file columns"
   ]
  },
  {
   "cell_type": "code",
   "execution_count": 187,
   "id": "dec0e406-67da-4ccd-8b5d-bbcf77e972be",
   "metadata": {},
   "outputs": [
    {
     "name": "stdout",
     "output_type": "stream",
     "text": [
      "  1: offense_code\n",
      "  2: offense_name\n",
      "  3: crime_against\n",
      "  4: ct_flag\n",
      "  5: hc_flag\n",
      "  6: hc_code\n",
      "  7: offense_category_name\n",
      "  8: offense_group\n"
     ]
    }
   ],
   "source": [
    "!csvcut -n NIBRS_OFFENSE_TYPE.csv"
   ]
  },
  {
   "cell_type": "markdown",
   "id": "35f052dd-9831-48ac-a63d-de1b6ab6be22",
   "metadata": {
    "tags": []
   },
   "source": [
    "##### b) Select only the columns we need and append it to a csv file named offense_type.csv"
   ]
  },
  {
   "cell_type": "code",
   "execution_count": 188,
   "id": "115a39b5-595b-4504-8df9-0f0c5495f072",
   "metadata": {},
   "outputs": [],
   "source": [
    "!csvcut -c offense_code,offense_name,crime_against,offense_category_name '/home/ubuntu/notebooks/Assignment2/NIBRS_OFFENSE_TYPE.csv' > offense_type.csv"
   ]
  },
  {
   "cell_type": "markdown",
   "id": "bf2d0ce2-e066-4735-a93c-e4d37e187148",
   "metadata": {
    "tags": []
   },
   "source": [
    "##### c) Preliminary look at the data and data types"
   ]
  },
  {
   "cell_type": "code",
   "execution_count": 189,
   "id": "35032b21-d95a-467b-b0c5-2fa131fcab76",
   "metadata": {
    "tags": []
   },
   "outputs": [
    {
     "name": "stdout",
     "output_type": "stream",
     "text": [
      "  1. \"offense_code\"\n",
      "\n",
      "\tType of data:          Text\n",
      "\tContains null values:  False\n",
      "\tUnique values:         86\n",
      "\tLongest value:         3 characters\n",
      "\tMost common values:    09A (1x)\n",
      "\t                       09B (1x)\n",
      "\t                       09C (1x)\n",
      "\t                       11A (1x)\n",
      "\t                       11B (1x)\n",
      "\n",
      "  2. \"offense_name\"\n",
      "\n",
      "\tType of data:          Text\n",
      "\tContains null values:  False\n",
      "\tUnique values:         86\n",
      "\tLongest value:         43 characters\n",
      "\tMost common values:    Murder and Nonnegligent Manslaughter (1x)\n",
      "\t                       Negligent Manslaughter (1x)\n",
      "\t                       Justifiable Homicide (1x)\n",
      "\t                       Rape (1x)\n",
      "\t                       Sodomy (1x)\n",
      "\n",
      "  3. \"crime_against\"\n",
      "\n",
      "\tType of data:          Text\n",
      "\tContains null values:  False\n",
      "\tUnique values:         4\n",
      "\tLongest value:         11 characters\n",
      "\tMost common values:    Society (41x)\n",
      "\t                       Property (27x)\n",
      "\t                       Person (17x)\n",
      "\t                       Not a Crime (1x)\n",
      "\n",
      "  4. \"offense_category_name\"\n",
      "\n",
      "\tType of data:          Text\n",
      "\tContains null values:  False\n",
      "\tUnique values:         35\n",
      "\tLongest value:         40 characters\n",
      "\tMost common values:    Other Offenses (23x)\n",
      "\t                       Larceny/Theft Offenses (9x)\n",
      "\t                       Fraud Offenses (7x)\n",
      "\t                       Sex Offenses (4x)\n",
      "\t                       Gambling Offenses (4x)\n",
      "\n",
      "Row count: 86\n"
     ]
    }
   ],
   "source": [
    "!head -n 100 offense_type.csv | csvstat"
   ]
  },
  {
   "cell_type": "markdown",
   "id": "6b1bdcb2-50c9-437a-9498-0fa2850840f2",
   "metadata": {
    "tags": []
   },
   "source": [
    "##### d) Create the OFFENSE_TYPE entity table based on the data types from csv and the needed rows from customer requirement (i.e. Data Dictionary)\n",
    "Note: We use offense_code as the primary key because offense_type_id doesn't exist in the data. Also, offense code has non-numeric values so it has be created as a varchar attribute and change all references of victim_type_id in other tables to offense_code"
   ]
  },
  {
   "cell_type": "code",
   "execution_count": 190,
   "id": "d8b1e94f-1c3e-489e-82e6-b7ccd8b2e12b",
   "metadata": {},
   "outputs": [
    {
     "name": "stdout",
     "output_type": "stream",
     "text": [
      " * postgresql://student@/NIBRS\n",
      "Done.\n",
      "Done.\n"
     ]
    },
    {
     "data": {
      "text/plain": [
       "[]"
      ]
     },
     "execution_count": 190,
     "metadata": {},
     "output_type": "execute_result"
    }
   ],
   "source": [
    "%%sql\n",
    "DROP TABLE IF EXISTS OFFENSE_TYPE Cascade;\n",
    "\n",
    "CREATE TABLE OFFENSE_TYPE (\n",
    "  offense_code                  VARCHAR(5)    NOT NULL,  \n",
    "  offense_name                  VARCHAR(100)  NOT NULL,\n",
    "  crime_against                 VARCHAR(100), \n",
    "  offense_category_name         VARCHAR(100),\n",
    "PRIMARY KEY(offense_code)\n",
    ");"
   ]
  },
  {
   "cell_type": "markdown",
   "id": "0532c202-2c2d-4051-ab1f-8f515580ce90",
   "metadata": {
    "tags": []
   },
   "source": [
    "##### e) Load the data from csv file"
   ]
  },
  {
   "cell_type": "code",
   "execution_count": 191,
   "id": "6b3b2507-899a-4db0-800f-6540eaa715f4",
   "metadata": {},
   "outputs": [
    {
     "name": "stdout",
     "output_type": "stream",
     "text": [
      " * postgresql://student@/NIBRS\n",
      "86 rows affected.\n"
     ]
    },
    {
     "data": {
      "text/plain": [
       "[]"
      ]
     },
     "execution_count": 191,
     "metadata": {},
     "output_type": "execute_result"
    }
   ],
   "source": [
    "%%sql\n",
    "COPY OFFENSE_TYPE FROM '/home/ubuntu/notebooks/Assignment2/offense_type.csv'\n",
    "CSV\n",
    "HEADER;"
   ]
  },
  {
   "cell_type": "markdown",
   "id": "966668d2-26da-4df7-88cd-671b96be1946",
   "metadata": {
    "tags": []
   },
   "source": [
    "##### f) Confirm whether the bulk loading is completed correctly"
   ]
  },
  {
   "cell_type": "code",
   "execution_count": 192,
   "id": "4de84b91-8dad-4710-98db-76bc66296c18",
   "metadata": {},
   "outputs": [
    {
     "name": "stdout",
     "output_type": "stream",
     "text": [
      " * postgresql://student@/NIBRS\n",
      "10 rows affected.\n"
     ]
    },
    {
     "data": {
      "text/html": [
       "<table>\n",
       "    <thead>\n",
       "        <tr>\n",
       "            <th>offense_code</th>\n",
       "            <th>offense_name</th>\n",
       "            <th>crime_against</th>\n",
       "            <th>offense_category_name</th>\n",
       "        </tr>\n",
       "    </thead>\n",
       "    <tbody>\n",
       "        <tr>\n",
       "            <td>09A</td>\n",
       "            <td>Murder and Nonnegligent Manslaughter</td>\n",
       "            <td>Person</td>\n",
       "            <td>Homicide Offenses</td>\n",
       "        </tr>\n",
       "        <tr>\n",
       "            <td>09B</td>\n",
       "            <td>Negligent Manslaughter</td>\n",
       "            <td>Person</td>\n",
       "            <td>Homicide Offenses</td>\n",
       "        </tr>\n",
       "        <tr>\n",
       "            <td>09C</td>\n",
       "            <td>Justifiable Homicide</td>\n",
       "            <td>Person</td>\n",
       "            <td>Homicide Offenses</td>\n",
       "        </tr>\n",
       "        <tr>\n",
       "            <td>11A</td>\n",
       "            <td>Rape</td>\n",
       "            <td>Person</td>\n",
       "            <td>Sex Offenses</td>\n",
       "        </tr>\n",
       "        <tr>\n",
       "            <td>11B</td>\n",
       "            <td>Sodomy</td>\n",
       "            <td>Person</td>\n",
       "            <td>Sex Offenses</td>\n",
       "        </tr>\n",
       "        <tr>\n",
       "            <td>11C</td>\n",
       "            <td>Sexual Assault With An Object</td>\n",
       "            <td>Person</td>\n",
       "            <td>Sex Offenses</td>\n",
       "        </tr>\n",
       "        <tr>\n",
       "            <td>11D</td>\n",
       "            <td>Fondling</td>\n",
       "            <td>Person</td>\n",
       "            <td>Sex Offenses</td>\n",
       "        </tr>\n",
       "        <tr>\n",
       "            <td>120</td>\n",
       "            <td>Robbery</td>\n",
       "            <td>Property</td>\n",
       "            <td>Robbery</td>\n",
       "        </tr>\n",
       "        <tr>\n",
       "            <td>13A</td>\n",
       "            <td>Aggravated Assault</td>\n",
       "            <td>Person</td>\n",
       "            <td>Assault Offenses</td>\n",
       "        </tr>\n",
       "        <tr>\n",
       "            <td>220</td>\n",
       "            <td>Burglary/Breaking &amp; Entering</td>\n",
       "            <td>Property</td>\n",
       "            <td>Burglary/Breaking &amp; Entering</td>\n",
       "        </tr>\n",
       "    </tbody>\n",
       "</table>"
      ],
      "text/plain": [
       "[('09A', 'Murder and Nonnegligent Manslaughter', 'Person', 'Homicide Offenses'),\n",
       " ('09B', 'Negligent Manslaughter', 'Person', 'Homicide Offenses'),\n",
       " ('09C', 'Justifiable Homicide', 'Person', 'Homicide Offenses'),\n",
       " ('11A', 'Rape', 'Person', 'Sex Offenses'),\n",
       " ('11B', 'Sodomy', 'Person', 'Sex Offenses'),\n",
       " ('11C', 'Sexual Assault With An Object', 'Person', 'Sex Offenses'),\n",
       " ('11D', 'Fondling', 'Person', 'Sex Offenses'),\n",
       " ('120', 'Robbery', 'Property', 'Robbery'),\n",
       " ('13A', 'Aggravated Assault', 'Person', 'Assault Offenses'),\n",
       " ('220', 'Burglary/Breaking & Entering', 'Property', 'Burglary/Breaking & Entering')]"
      ]
     },
     "execution_count": 192,
     "metadata": {},
     "output_type": "execute_result"
    }
   ],
   "source": [
    "%%sql\n",
    "Select * from OFFENSE_TYPE\n",
    "limit 10;"
   ]
  },
  {
   "cell_type": "markdown",
   "id": "3ebf15d8-50ba-4e7f-8f5a-15dceb3c264a",
   "metadata": {
    "tags": [],
    "toc-hr-collapsed": true
   },
   "source": [
    "#### 7. Offense Data\n",
    "Reading CSV files, Creating Database Tables and Loading Data into Tables"
   ]
  },
  {
   "cell_type": "markdown",
   "id": "d08e971d-ccc1-4ed5-a665-9db101e9bc34",
   "metadata": {
    "tags": []
   },
   "source": [
    "##### a) Looking at the csv file columns"
   ]
  },
  {
   "cell_type": "code",
   "execution_count": 193,
   "id": "7f0c19bf-5751-4f7d-93b8-6efe0eed7c0b",
   "metadata": {},
   "outputs": [
    {
     "name": "stdout",
     "output_type": "stream",
     "text": [
      "  1: data_year\n",
      "  2: offense_id\n",
      "  3: incident_id\n",
      "  4: offense_code\n",
      "  5: attempt_complete_flag\n",
      "  6: location_id\n",
      "  7: num_premises_entered\n",
      "  8: method_entry_code\n"
     ]
    }
   ],
   "source": [
    "!csvcut -n NIBRS_OFFENSE.csv"
   ]
  },
  {
   "cell_type": "markdown",
   "id": "e6cb1cb9-3a53-4589-a107-3ca87ca821a4",
   "metadata": {
    "tags": []
   },
   "source": [
    "##### b) Select only the columns we need and append it to a new csv file named offense.csv"
   ]
  },
  {
   "cell_type": "code",
   "execution_count": 194,
   "id": "5e03614d-e17b-4a62-b48d-f4ee03663bc2",
   "metadata": {
    "tags": []
   },
   "outputs": [],
   "source": [
    "!csvcut -c offense_id,incident_id,offense_code,location_id '/home/ubuntu/notebooks/Assignment2/NIBRS_OFFENSE.csv' > offense.csv"
   ]
  },
  {
   "cell_type": "markdown",
   "id": "23846686-60ea-4f59-9f4a-c4d732c08f9c",
   "metadata": {
    "tags": []
   },
   "source": [
    "##### c) Preliminary look at the data and data types"
   ]
  },
  {
   "cell_type": "code",
   "execution_count": 195,
   "id": "ee6725f2-dad8-4311-a924-8ce48d2725ec",
   "metadata": {
    "tags": []
   },
   "outputs": [
    {
     "name": "stdout",
     "output_type": "stream",
     "text": [
      "  1. \"offense_id\"\n",
      "\n",
      "\tType of data:          Number\n",
      "\tContains null values:  False\n",
      "\tUnique values:         99\n",
      "\tSmallest value:        160652352\n",
      "\tLargest value:         179538866\n",
      "\tSum:                   16326053622\n",
      "\tMean:                  164909632.545\n",
      "\tMedian:                164370837\n",
      "\tStDev:                 3979734.125\n",
      "\tMost common values:    170403568 (1x)\n",
      "\t                       164352006 (1x)\n",
      "\t                       164444800 (1x)\n",
      "\t                       164387076 (1x)\n",
      "\t                       164370837 (1x)\n",
      "\n",
      "  2. \"incident_id\"\n",
      "\n",
      "\tType of data:          Number\n",
      "\tContains null values:  False\n",
      "\tUnique values:         78\n",
      "\tSmallest value:        133362971\n",
      "\tLargest value:         149760824\n",
      "\tSum:                   13564512668\n",
      "\tMean:                  137015279.475\n",
      "\tMedian:                136516079\n",
      "\tStDev:                 3446662.877\n",
      "\tMost common values:    135691997 (4x)\n",
      "\t                       137248920 (3x)\n",
      "\t                       134011096 (3x)\n",
      "\t                       133522129 (3x)\n",
      "\t                       136621397 (2x)\n",
      "\n",
      "  3. \"offense_code\"\n",
      "\n",
      "\tType of data:          Text\n",
      "\tContains null values:  False\n",
      "\tUnique values:         24\n",
      "\tLongest value:         3 characters\n",
      "\tMost common values:    13B (25x)\n",
      "\t                       35B (10x)\n",
      "\t                       35A (9x)\n",
      "\t                       23F (9x)\n",
      "\t                       13A (8x)\n",
      "\n",
      "  4. \"location_id\"\n",
      "\n",
      "\tType of data:          Number\n",
      "\tContains null values:  False\n",
      "\tUnique values:         12\n",
      "\tSmallest value:        2\n",
      "\tLargest value:         98\n",
      "\tSum:                   2969\n",
      "\tMean:                  29.99\n",
      "\tMedian:                32\n",
      "\tStDev:                 12.617\n",
      "\tMost common values:    35 (31x)\n",
      "\t                       25 (26x)\n",
      "\t                       33 (11x)\n",
      "\t                       32 (9x)\n",
      "\t                       11 (8x)\n",
      "\n",
      "Row count: 99\n"
     ]
    }
   ],
   "source": [
    "!head -n 100 offense.csv | csvstat"
   ]
  },
  {
   "cell_type": "markdown",
   "id": "2ec0d22e-af6c-414e-85b3-8447ad93f350",
   "metadata": {
    "tags": []
   },
   "source": [
    "##### d) Create the OFFENSE entity table based on the data types from csv and the needed rows from customer requirement (i.e. Data Dictionary)\n",
    " "
   ]
  },
  {
   "cell_type": "code",
   "execution_count": 196,
   "id": "a692aa36-5d08-480f-b863-1d6c9c98f0d2",
   "metadata": {},
   "outputs": [
    {
     "name": "stdout",
     "output_type": "stream",
     "text": [
      " * postgresql://student@/NIBRS\n",
      "Done.\n",
      "Done.\n"
     ]
    },
    {
     "data": {
      "text/plain": [
       "[]"
      ]
     },
     "execution_count": 196,
     "metadata": {},
     "output_type": "execute_result"
    }
   ],
   "source": [
    "%%sql\n",
    "DROP TABLE IF EXISTS OFFENSE Cascade;\n",
    "\n",
    "CREATE TABLE OFFENSE (\n",
    "  offense_id          Numeric(10) NOT NULL,\n",
    "  incident_id         Numeric(10) NOT NULL, \n",
    "  offense_code        VARCHAR(5)  NOT NULL, \n",
    "  location_id         Numeric(10) NOT NULL,  \n",
    "PRIMARY KEY (offense_id),\n",
    "FOREIGN KEY (incident_id) REFERENCES INCIDENT(incident_id),\n",
    "FOREIGN KEY (offense_code) REFERENCES OFFENSE_TYPE(offense_code),\n",
    "FOREIGN KEY (location_id) REFERENCES LOCATION_TYPE(location_id)\n",
    ");"
   ]
  },
  {
   "cell_type": "markdown",
   "id": "7f30103f-e284-4820-8b6a-b9bcf30000c6",
   "metadata": {
    "tags": []
   },
   "source": [
    "##### e) Load the data from csv file"
   ]
  },
  {
   "cell_type": "code",
   "execution_count": 197,
   "id": "ee519ffc-2031-4e0f-bc2c-9e84e284af45",
   "metadata": {},
   "outputs": [
    {
     "name": "stdout",
     "output_type": "stream",
     "text": [
      " * postgresql://student@/NIBRS\n",
      "136848 rows affected.\n"
     ]
    },
    {
     "data": {
      "text/plain": [
       "[]"
      ]
     },
     "execution_count": 197,
     "metadata": {},
     "output_type": "execute_result"
    }
   ],
   "source": [
    "%%sql\n",
    "COPY OFFENSE FROM '/home/ubuntu/notebooks/Assignment2/offense.csv'\n",
    "CSV\n",
    "HEADER;"
   ]
  },
  {
   "cell_type": "markdown",
   "id": "772bdede-3e6a-4ed5-aa7e-9083773a149f",
   "metadata": {
    "tags": []
   },
   "source": [
    "##### f) Confirm whether the bulk loading is completed correctly"
   ]
  },
  {
   "cell_type": "code",
   "execution_count": 198,
   "id": "7e475eb0-1c10-40d5-9bef-0c570d5d2d71",
   "metadata": {},
   "outputs": [
    {
     "name": "stdout",
     "output_type": "stream",
     "text": [
      " * postgresql://student@/NIBRS\n",
      "10 rows affected.\n"
     ]
    },
    {
     "data": {
      "text/html": [
       "<table>\n",
       "    <thead>\n",
       "        <tr>\n",
       "            <th>offense_id</th>\n",
       "            <th>incident_id</th>\n",
       "            <th>offense_code</th>\n",
       "            <th>location_id</th>\n",
       "        </tr>\n",
       "    </thead>\n",
       "    <tbody>\n",
       "        <tr>\n",
       "            <td>170403568</td>\n",
       "            <td>141774651</td>\n",
       "            <td>11A</td>\n",
       "            <td>35</td>\n",
       "        </tr>\n",
       "        <tr>\n",
       "            <td>164352006</td>\n",
       "            <td>136500530</td>\n",
       "            <td>13A</td>\n",
       "            <td>25</td>\n",
       "        </tr>\n",
       "        <tr>\n",
       "            <td>164444800</td>\n",
       "            <td>136580646</td>\n",
       "            <td>13B</td>\n",
       "            <td>35</td>\n",
       "        </tr>\n",
       "        <tr>\n",
       "            <td>164387076</td>\n",
       "            <td>136530548</td>\n",
       "            <td>13B</td>\n",
       "            <td>98</td>\n",
       "        </tr>\n",
       "        <tr>\n",
       "            <td>164370837</td>\n",
       "            <td>136516079</td>\n",
       "            <td>13B</td>\n",
       "            <td>14</td>\n",
       "        </tr>\n",
       "        <tr>\n",
       "            <td>172082117</td>\n",
       "            <td>143243093</td>\n",
       "            <td>13B</td>\n",
       "            <td>35</td>\n",
       "        </tr>\n",
       "        <tr>\n",
       "            <td>165205693</td>\n",
       "            <td>137248920</td>\n",
       "            <td>280</td>\n",
       "            <td>25</td>\n",
       "        </tr>\n",
       "        <tr>\n",
       "            <td>165205694</td>\n",
       "            <td>137248920</td>\n",
       "            <td>35A</td>\n",
       "            <td>25</td>\n",
       "        </tr>\n",
       "        <tr>\n",
       "            <td>165205695</td>\n",
       "            <td>137248920</td>\n",
       "            <td>35B</td>\n",
       "            <td>25</td>\n",
       "        </tr>\n",
       "        <tr>\n",
       "            <td>164575617</td>\n",
       "            <td>136694620</td>\n",
       "            <td>13B</td>\n",
       "            <td>35</td>\n",
       "        </tr>\n",
       "    </tbody>\n",
       "</table>"
      ],
      "text/plain": [
       "[(Decimal('170403568'), Decimal('141774651'), '11A', Decimal('35')),\n",
       " (Decimal('164352006'), Decimal('136500530'), '13A', Decimal('25')),\n",
       " (Decimal('164444800'), Decimal('136580646'), '13B', Decimal('35')),\n",
       " (Decimal('164387076'), Decimal('136530548'), '13B', Decimal('98')),\n",
       " (Decimal('164370837'), Decimal('136516079'), '13B', Decimal('14')),\n",
       " (Decimal('172082117'), Decimal('143243093'), '13B', Decimal('35')),\n",
       " (Decimal('165205693'), Decimal('137248920'), '280', Decimal('25')),\n",
       " (Decimal('165205694'), Decimal('137248920'), '35A', Decimal('25')),\n",
       " (Decimal('165205695'), Decimal('137248920'), '35B', Decimal('25')),\n",
       " (Decimal('164575617'), Decimal('136694620'), '13B', Decimal('35'))]"
      ]
     },
     "execution_count": 198,
     "metadata": {},
     "output_type": "execute_result"
    }
   ],
   "source": [
    "%%sql\n",
    "Select * from OFFENSE\n",
    "limit 10;"
   ]
  },
  {
   "cell_type": "markdown",
   "id": "541e2eb5-eeea-47e3-934b-5031555e3ed5",
   "metadata": {
    "toc-hr-collapsed": true
   },
   "source": [
    "#### 8. Relationship Data\n",
    "Reading CSV files, Creating Database Tables and Loading Data into Tables"
   ]
  },
  {
   "cell_type": "markdown",
   "id": "4be66663-445b-43b9-bcf4-f9940308b576",
   "metadata": {
    "tags": []
   },
   "source": [
    "##### a) Looking at the csv file columns"
   ]
  },
  {
   "cell_type": "code",
   "execution_count": 199,
   "id": "a6e435e7-7d25-4f08-9a62-3b6007cf3e7d",
   "metadata": {},
   "outputs": [
    {
     "name": "stdout",
     "output_type": "stream",
     "text": [
      "  1: relationship_id\n",
      "  2: relationship_code\n",
      "  3: relationship_name\n"
     ]
    }
   ],
   "source": [
    "!csvcut -n NIBRS_RELATIONSHIP.csv"
   ]
  },
  {
   "cell_type": "markdown",
   "id": "a98777f5-7b5e-43ea-8e6f-9f83f8c168b2",
   "metadata": {
    "tags": []
   },
   "source": [
    "##### b) Preliminary look at the data and data types"
   ]
  },
  {
   "cell_type": "code",
   "execution_count": 200,
   "id": "e04770a8-3913-4e98-9910-2a32a5229de6",
   "metadata": {},
   "outputs": [
    {
     "name": "stdout",
     "output_type": "stream",
     "text": [
      "  1. \"relationship_id\"\n",
      "\n",
      "\tType of data:          Number\n",
      "\tContains null values:  False\n",
      "\tUnique values:         27\n",
      "\tSmallest value:        1\n",
      "\tLargest value:         27\n",
      "\tSum:                   378\n",
      "\tMean:                  14\n",
      "\tMedian:                14\n",
      "\tStDev:                 7.937\n",
      "\tMost common values:    1 (1x)\n",
      "\t                       2 (1x)\n",
      "\t                       3 (1x)\n",
      "\t                       4 (1x)\n",
      "\t                       5 (1x)\n",
      "\n",
      "  2. \"relationship_code\"\n",
      "\n",
      "\tType of data:          Text\n",
      "\tContains null values:  False\n",
      "\tUnique values:         27\n",
      "\tLongest value:         2 characters\n",
      "\tMost common values:    AQ (1x)\n",
      "\t                       BE (1x)\n",
      "\t                       BG (1x)\n",
      "\t                       CF (1x)\n",
      "\t                       CH (1x)\n",
      "\n",
      "  3. \"relationship_name\"\n",
      "\n",
      "\tType of data:          Text\n",
      "\tContains null values:  False\n",
      "\tUnique values:         27\n",
      "\tLongest value:         52 characters\n",
      "\tMost common values:    Victim Was Acquaintance (1x)\n",
      "\t                       Victim Was Babysittee (1x)\n",
      "\t                       Victim Was Boyfriend/Girlfriend (1x)\n",
      "\t                       Victim Was Child of Boyfriend or Girlfriend (1x)\n",
      "\t                       Victim Was Child (1x)\n",
      "\n",
      "Row count: 27\n"
     ]
    }
   ],
   "source": [
    "!head -n 100 NIBRS_RELATIONSHIP.csv | csvstat"
   ]
  },
  {
   "cell_type": "markdown",
   "id": "f9da29a7-033e-42c4-a033-56b44bc720ef",
   "metadata": {
    "tags": []
   },
   "source": [
    "##### c) Create the RELATIONSHIP entity table based on the data types from csv and the needed rows from customer requirement (i.e. Data Dictionary)"
   ]
  },
  {
   "cell_type": "code",
   "execution_count": 201,
   "id": "857c89fd-b417-4c8f-8abc-0b10e4247ca6",
   "metadata": {},
   "outputs": [
    {
     "name": "stdout",
     "output_type": "stream",
     "text": [
      " * postgresql://student@/NIBRS\n",
      "Done.\n",
      "Done.\n"
     ]
    },
    {
     "data": {
      "text/plain": [
       "[]"
      ]
     },
     "execution_count": 201,
     "metadata": {},
     "output_type": "execute_result"
    }
   ],
   "source": [
    "%%sql\n",
    "DROP TABLE IF EXISTS RELATIONSHIP Cascade;\n",
    "\n",
    "CREATE TABLE RELATIONSHIP (\n",
    "  relationship_id          Numeric(4) NOT NULL,\n",
    "  relationship_code        CHAR(2),\n",
    "  relationship_name        VARCHAR(100),\n",
    "PRIMARY KEY (relationship_id),\n",
    "UNIQUE (relationship_code)\n",
    ");"
   ]
  },
  {
   "cell_type": "markdown",
   "id": "df58d70d-cb56-4344-9a84-94cafa8c29df",
   "metadata": {
    "tags": []
   },
   "source": [
    "##### d) Load the data from csv file"
   ]
  },
  {
   "cell_type": "code",
   "execution_count": 202,
   "id": "bc8dc16a-3baa-4456-ab0c-71c85a754a9a",
   "metadata": {},
   "outputs": [
    {
     "name": "stdout",
     "output_type": "stream",
     "text": [
      " * postgresql://student@/NIBRS\n",
      "27 rows affected.\n"
     ]
    },
    {
     "data": {
      "text/plain": [
       "[]"
      ]
     },
     "execution_count": 202,
     "metadata": {},
     "output_type": "execute_result"
    }
   ],
   "source": [
    "%%sql\n",
    "COPY RELATIONSHIP FROM '/home/ubuntu/notebooks/Assignment2/NIBRS_RELATIONSHIP.csv'\n",
    "CSV\n",
    "HEADER;"
   ]
  },
  {
   "cell_type": "markdown",
   "id": "aebb1c92-d3ce-4cb6-9d3c-e22b095089b5",
   "metadata": {
    "tags": []
   },
   "source": [
    "##### e) Confirm whether the bulk loading is completed correctly"
   ]
  },
  {
   "cell_type": "code",
   "execution_count": 203,
   "id": "a87bd980-1a90-4ed5-837d-531bda074f72",
   "metadata": {},
   "outputs": [
    {
     "name": "stdout",
     "output_type": "stream",
     "text": [
      " * postgresql://student@/NIBRS\n",
      "10 rows affected.\n"
     ]
    },
    {
     "data": {
      "text/html": [
       "<table>\n",
       "    <thead>\n",
       "        <tr>\n",
       "            <th>relationship_id</th>\n",
       "            <th>relationship_code</th>\n",
       "            <th>relationship_name</th>\n",
       "        </tr>\n",
       "    </thead>\n",
       "    <tbody>\n",
       "        <tr>\n",
       "            <td>1</td>\n",
       "            <td>AQ</td>\n",
       "            <td>Victim Was Acquaintance</td>\n",
       "        </tr>\n",
       "        <tr>\n",
       "            <td>2</td>\n",
       "            <td>BE</td>\n",
       "            <td>Victim Was Babysittee</td>\n",
       "        </tr>\n",
       "        <tr>\n",
       "            <td>3</td>\n",
       "            <td>BG</td>\n",
       "            <td>Victim Was Boyfriend/Girlfriend</td>\n",
       "        </tr>\n",
       "        <tr>\n",
       "            <td>4</td>\n",
       "            <td>CF</td>\n",
       "            <td>Victim Was Child of Boyfriend or Girlfriend</td>\n",
       "        </tr>\n",
       "        <tr>\n",
       "            <td>5</td>\n",
       "            <td>CH</td>\n",
       "            <td>Victim Was Child</td>\n",
       "        </tr>\n",
       "        <tr>\n",
       "            <td>6</td>\n",
       "            <td>CS</td>\n",
       "            <td>Victim Was Common-Law Spouse</td>\n",
       "        </tr>\n",
       "        <tr>\n",
       "            <td>7</td>\n",
       "            <td>EE</td>\n",
       "            <td>Victim was Employee</td>\n",
       "        </tr>\n",
       "        <tr>\n",
       "            <td>8</td>\n",
       "            <td>ER</td>\n",
       "            <td>Victim was Employer</td>\n",
       "        </tr>\n",
       "        <tr>\n",
       "            <td>9</td>\n",
       "            <td>FR</td>\n",
       "            <td>Victim Was Friend</td>\n",
       "        </tr>\n",
       "        <tr>\n",
       "            <td>10</td>\n",
       "            <td>GC</td>\n",
       "            <td>Victim Was Grandchild</td>\n",
       "        </tr>\n",
       "    </tbody>\n",
       "</table>"
      ],
      "text/plain": [
       "[(Decimal('1'), 'AQ', 'Victim Was Acquaintance'),\n",
       " (Decimal('2'), 'BE', 'Victim Was Babysittee'),\n",
       " (Decimal('3'), 'BG', 'Victim Was Boyfriend/Girlfriend'),\n",
       " (Decimal('4'), 'CF', 'Victim Was Child of Boyfriend or Girlfriend'),\n",
       " (Decimal('5'), 'CH', 'Victim Was Child'),\n",
       " (Decimal('6'), 'CS', 'Victim Was Common-Law Spouse'),\n",
       " (Decimal('7'), 'EE', 'Victim was Employee'),\n",
       " (Decimal('8'), 'ER', 'Victim was Employer'),\n",
       " (Decimal('9'), 'FR', 'Victim Was Friend'),\n",
       " (Decimal('10'), 'GC', 'Victim Was Grandchild')]"
      ]
     },
     "execution_count": 203,
     "metadata": {},
     "output_type": "execute_result"
    }
   ],
   "source": [
    "%%sql\n",
    "Select * from RELATIONSHIP\n",
    "limit 10;"
   ]
  },
  {
   "cell_type": "markdown",
   "id": "a98d499e-7b73-4de5-9cd3-75ba003f6ba3",
   "metadata": {
    "tags": [],
    "toc-hr-collapsed": true
   },
   "source": [
    "#### 9. Victim Type Data\n",
    "Reading CSV files, Creating Database Tables and Loading Data into Tables"
   ]
  },
  {
   "cell_type": "markdown",
   "id": "02231a0a-6c54-47e0-a1e8-3b3bce6c40ad",
   "metadata": {
    "tags": []
   },
   "source": [
    "##### a) Looking at the csv file columns"
   ]
  },
  {
   "cell_type": "code",
   "execution_count": 204,
   "id": "27c93ba9-bb7a-4025-96c0-81edf57d5707",
   "metadata": {},
   "outputs": [
    {
     "name": "stdout",
     "output_type": "stream",
     "text": [
      "  1: victim_type_id\n",
      "  2: victim_type_code\n",
      "  3: victim_type_name\n"
     ]
    }
   ],
   "source": [
    "!csvcut -n NIBRS_VICTIM_TYPE.csv"
   ]
  },
  {
   "cell_type": "markdown",
   "id": "40c1e5a9-f4dd-412a-b4ce-c0c929a98c05",
   "metadata": {
    "tags": []
   },
   "source": [
    "##### b) Preliminary look at the data and data types"
   ]
  },
  {
   "cell_type": "code",
   "execution_count": 205,
   "id": "ad9a73b4-7bda-4e41-8ef2-d0f618679f5e",
   "metadata": {},
   "outputs": [
    {
     "name": "stdout",
     "output_type": "stream",
     "text": [
      "  1. \"victim_type_id\"\n",
      "\n",
      "\tType of data:          Number\n",
      "\tContains null values:  False\n",
      "\tUnique values:         9\n",
      "\tSmallest value:        1\n",
      "\tLargest value:         9\n",
      "\tSum:                   45\n",
      "\tMean:                  5\n",
      "\tMedian:                5\n",
      "\tStDev:                 2.739\n",
      "\tMost common values:    1 (1x)\n",
      "\t                       2 (1x)\n",
      "\t                       3 (1x)\n",
      "\t                       4 (1x)\n",
      "\t                       5 (1x)\n",
      "\n",
      "  2. \"victim_type_code\"\n",
      "\n",
      "\tType of data:          Text\n",
      "\tContains null values:  False\n",
      "\tUnique values:         9\n",
      "\tLongest value:         1 characters\n",
      "\tMost common values:    B (1x)\n",
      "\t                       F (1x)\n",
      "\t                       G (1x)\n",
      "\t                       I (1x)\n",
      "\t                       L (1x)\n",
      "\n",
      "  3. \"victim_type_name\"\n",
      "\n",
      "\tType of data:          Text\n",
      "\tContains null values:  False\n",
      "\tUnique values:         9\n",
      "\tLongest value:         23 characters\n",
      "\tMost common values:    Business (1x)\n",
      "\t                       Financial Institution (1x)\n",
      "\t                       Government (1x)\n",
      "\t                       Individual (1x)\n",
      "\t                       Law Enforcement Officer (1x)\n",
      "\n",
      "Row count: 9\n"
     ]
    }
   ],
   "source": [
    "!head -n 10000 NIBRS_VICTIM_TYPE.csv | csvstat"
   ]
  },
  {
   "cell_type": "markdown",
   "id": "e68e974f-40b3-46b5-92f5-a496a92e9434",
   "metadata": {
    "tags": []
   },
   "source": [
    "##### c) Create the VICTIM_TYPE entity table based on the data types from csv and the needed rows from customer requirement (i.e. Data Dictionary)"
   ]
  },
  {
   "cell_type": "code",
   "execution_count": 206,
   "id": "d7fc4852-106e-4df9-9322-12c2c626beae",
   "metadata": {},
   "outputs": [
    {
     "name": "stdout",
     "output_type": "stream",
     "text": [
      " * postgresql://student@/NIBRS\n",
      "Done.\n",
      "Done.\n"
     ]
    },
    {
     "data": {
      "text/plain": [
       "[]"
      ]
     },
     "execution_count": 206,
     "metadata": {},
     "output_type": "execute_result"
    }
   ],
   "source": [
    "%%sql\n",
    "DROP TABLE IF EXISTS VICTIM_TYPE Cascade;\n",
    "\n",
    "CREATE TABLE VICTIM_TYPE (\n",
    "  victim_type_id     Numeric(4)   NOT NULL,\n",
    "  victim_type_code   CHAR(1),\n",
    "  victim_type_name   VARCHAR(100),\n",
    "PRIMARY KEY (victim_type_id),\n",
    "UNIQUE (victim_type_code)\n",
    ");"
   ]
  },
  {
   "cell_type": "markdown",
   "id": "80ad53c3-c4c5-460f-a448-ebaaa4aabaa6",
   "metadata": {
    "tags": []
   },
   "source": [
    "##### d) Load the data from csv file"
   ]
  },
  {
   "cell_type": "code",
   "execution_count": 207,
   "id": "f2bed9fd-f404-4e6e-bfb9-d5dbe2e4f495",
   "metadata": {},
   "outputs": [
    {
     "name": "stdout",
     "output_type": "stream",
     "text": [
      " * postgresql://student@/NIBRS\n",
      "9 rows affected.\n"
     ]
    },
    {
     "data": {
      "text/plain": [
       "[]"
      ]
     },
     "execution_count": 207,
     "metadata": {},
     "output_type": "execute_result"
    }
   ],
   "source": [
    "%%sql\n",
    "COPY VICTIM_TYPE FROM '/home/ubuntu/notebooks/Assignment2/NIBRS_VICTIM_TYPE.csv'\n",
    "CSV\n",
    "HEADER;"
   ]
  },
  {
   "cell_type": "markdown",
   "id": "f4ca63fb-6d0c-4f9d-9b1e-4b913d48d3ee",
   "metadata": {
    "tags": []
   },
   "source": [
    "##### e) Confirm whether the bulk loading is completed correctly"
   ]
  },
  {
   "cell_type": "code",
   "execution_count": 208,
   "id": "1e240ff1-524e-41a4-b168-e4bb51b5d758",
   "metadata": {},
   "outputs": [
    {
     "name": "stdout",
     "output_type": "stream",
     "text": [
      " * postgresql://student@/NIBRS\n",
      "9 rows affected.\n"
     ]
    },
    {
     "data": {
      "text/html": [
       "<table>\n",
       "    <thead>\n",
       "        <tr>\n",
       "            <th>victim_type_id</th>\n",
       "            <th>victim_type_code</th>\n",
       "            <th>victim_type_name</th>\n",
       "        </tr>\n",
       "    </thead>\n",
       "    <tbody>\n",
       "        <tr>\n",
       "            <td>1</td>\n",
       "            <td>B</td>\n",
       "            <td>Business</td>\n",
       "        </tr>\n",
       "        <tr>\n",
       "            <td>2</td>\n",
       "            <td>F</td>\n",
       "            <td>Financial Institution</td>\n",
       "        </tr>\n",
       "        <tr>\n",
       "            <td>3</td>\n",
       "            <td>G</td>\n",
       "            <td>Government</td>\n",
       "        </tr>\n",
       "        <tr>\n",
       "            <td>4</td>\n",
       "            <td>I</td>\n",
       "            <td>Individual</td>\n",
       "        </tr>\n",
       "        <tr>\n",
       "            <td>5</td>\n",
       "            <td>L</td>\n",
       "            <td>Law Enforcement Officer</td>\n",
       "        </tr>\n",
       "        <tr>\n",
       "            <td>6</td>\n",
       "            <td>O</td>\n",
       "            <td>Other</td>\n",
       "        </tr>\n",
       "        <tr>\n",
       "            <td>7</td>\n",
       "            <td>R</td>\n",
       "            <td>Religious Organization</td>\n",
       "        </tr>\n",
       "        <tr>\n",
       "            <td>8</td>\n",
       "            <td>S</td>\n",
       "            <td>Society/Public</td>\n",
       "        </tr>\n",
       "        <tr>\n",
       "            <td>9</td>\n",
       "            <td>U</td>\n",
       "            <td>Unknown</td>\n",
       "        </tr>\n",
       "    </tbody>\n",
       "</table>"
      ],
      "text/plain": [
       "[(Decimal('1'), 'B', 'Business'),\n",
       " (Decimal('2'), 'F', 'Financial Institution'),\n",
       " (Decimal('3'), 'G', 'Government'),\n",
       " (Decimal('4'), 'I', 'Individual'),\n",
       " (Decimal('5'), 'L', 'Law Enforcement Officer'),\n",
       " (Decimal('6'), 'O', 'Other'),\n",
       " (Decimal('7'), 'R', 'Religious Organization'),\n",
       " (Decimal('8'), 'S', 'Society/Public'),\n",
       " (Decimal('9'), 'U', 'Unknown')]"
      ]
     },
     "execution_count": 208,
     "metadata": {},
     "output_type": "execute_result"
    }
   ],
   "source": [
    "%%sql\n",
    "Select * from VICTIM_TYPE"
   ]
  },
  {
   "cell_type": "markdown",
   "id": "bba80bd1-d51a-49d7-bc76-0fde11ba90ea",
   "metadata": {
    "toc-hr-collapsed": true
   },
   "source": [
    "#### 10. Victim Data\n",
    "Reading CSV files, Creating Database Tables and Loading Data into Tables"
   ]
  },
  {
   "cell_type": "markdown",
   "id": "c349753a-4a41-44f1-86a5-a1f632525ff7",
   "metadata": {
    "tags": []
   },
   "source": [
    "##### a) Looking at the csv file columns"
   ]
  },
  {
   "cell_type": "code",
   "execution_count": 209,
   "id": "cb6176a4-57a6-4d8d-a795-2fe9835a68f5",
   "metadata": {},
   "outputs": [
    {
     "name": "stdout",
     "output_type": "stream",
     "text": [
      "  1: data_year\n",
      "  2: victim_id\n",
      "  3: incident_id\n",
      "  4: victim_seq_num\n",
      "  5: victim_type_id\n",
      "  6: assignment_type_id\n",
      "  7: activity_type_id\n",
      "  8: outside_agency_id\n",
      "  9: age_id\n",
      " 10: age_num\n",
      " 11: sex_code\n",
      " 12: race_id\n",
      " 13: ethnicity_id\n",
      " 14: resident_status_code\n",
      " 15: age_range_low_num\n",
      " 16: age_code_range_high\n"
     ]
    }
   ],
   "source": [
    "!csvcut -n NIBRS_VICTIM.csv"
   ]
  },
  {
   "cell_type": "markdown",
   "id": "f91cf01b-e609-4b70-abfd-c6a67835c341",
   "metadata": {
    "tags": []
   },
   "source": [
    "##### b) Select only the columns we need"
   ]
  },
  {
   "cell_type": "code",
   "execution_count": 210,
   "id": "a4bf0c21-5259-4649-b637-81db9d194c25",
   "metadata": {},
   "outputs": [],
   "source": [
    "!csvcut -c victim_id,incident_id,victim_seq_num,victim_type_id,age_num,sex_code,race_id,ethnicity_id '/home/ubuntu/notebooks/Assignment2/NIBRS_VICTIM.csv' > victim.csv"
   ]
  },
  {
   "cell_type": "markdown",
   "id": "056974e8-56dd-409d-93df-9443935fa3d4",
   "metadata": {
    "tags": []
   },
   "source": [
    "##### c) Preliminary look at the csv data"
   ]
  },
  {
   "cell_type": "code",
   "execution_count": 211,
   "id": "6f700ba1-58a9-4bd5-b350-963e828919b7",
   "metadata": {},
   "outputs": [
    {
     "name": "stdout",
     "output_type": "stream",
     "text": [
      "  1. \"victim_id\"\n",
      "\n",
      "\tType of data:          Number\n",
      "\tContains null values:  False\n",
      "\tUnique values:         99\n",
      "\tSmallest value:        146510584\n",
      "\tLargest value:         165253072\n",
      "\tSum:                   14891168948\n",
      "\tMean:                  150415847.96\n",
      "\tMedian:                149954107\n",
      "\tStDev:                 3911504.943\n",
      "\tMost common values:    156137715 (1x)\n",
      "\t                       150097155 (1x)\n",
      "\t                       150188607 (1x)\n",
      "\t                       150131489 (1x)\n",
      "\t                       150115100 (1x)\n",
      "\n",
      "  2. \"incident_id\"\n",
      "\n",
      "\tType of data:          Number\n",
      "\tContains null values:  False\n",
      "\tUnique values:         80\n",
      "\tSmallest value:        133362971\n",
      "\tLargest value:         149760824\n",
      "\tSum:                   13540477373\n",
      "\tMean:                  136772498.717\n",
      "\tMedian:                136374074\n",
      "\tStDev:                 3424259.353\n",
      "\tMost common values:    135691997 (6x)\n",
      "\t                       133522129 (4x)\n",
      "\t                       134183793 (3x)\n",
      "\t                       136432719 (3x)\n",
      "\t                       136516079 (2x)\n",
      "\n",
      "  3. \"victim_seq_num\"\n",
      "\n",
      "\tType of data:          Number\n",
      "\tContains null values:  False\n",
      "\tUnique values:         6\n",
      "\tSmallest value:        1\n",
      "\tLargest value:         6\n",
      "\tSum:                   133\n",
      "\tMean:                  1.343\n",
      "\tMedian:                1\n",
      "\tStDev:                 0.871\n",
      "\tMost common values:    1 (80x)\n",
      "\t                       2 (11x)\n",
      "\t                       3 (4x)\n",
      "\t                       4 (2x)\n",
      "\t                       5 (1x)\n",
      "\n",
      "  4. \"victim_type_id\"\n",
      "\n",
      "\tType of data:          Number\n",
      "\tContains null values:  False\n",
      "\tUnique values:         4\n",
      "\tSmallest value:        1\n",
      "\tLargest value:         8\n",
      "\tSum:                   435\n",
      "\tMean:                  4.394\n",
      "\tMedian:                4\n",
      "\tStDev:                 2.009\n",
      "\tMost common values:    4 (62x)\n",
      "\t                       8 (18x)\n",
      "\t                       1 (13x)\n",
      "\t                       5 (6x)\n",
      "\n",
      "  5. \"age_num\"\n",
      "\n",
      "\tType of data:          Text\n",
      "\tContains null values:  False\n",
      "\tUnique values:         45\n",
      "\tLongest value:         2 characters\n",
      "\tMost common values:    NS (31x)\n",
      "\t                       00 (7x)\n",
      "\t                       31 (4x)\n",
      "\t                       30 (4x)\n",
      "\t                       25 (3x)\n",
      "\n",
      "  6. \"sex_code\"\n",
      "\n",
      "\tType of data:          Text\n",
      "\tContains null values:  False\n",
      "\tUnique values:         4\n",
      "\tLongest value:         1 characters\n",
      "\tMost common values:    M (37x)\n",
      "\t                       X (31x)\n",
      "\t                       F (27x)\n",
      "\t                       U (4x)\n",
      "\n",
      "  7. \"race_id\"\n",
      "\n",
      "\tType of data:          Number\n",
      "\tContains null values:  False\n",
      "\tUnique values:         6\n",
      "\tSmallest value:        10\n",
      "\tLargest value:         99\n",
      "\tSum:                   4799\n",
      "\tMean:                  48.475\n",
      "\tMedian:                20\n",
      "\tStDev:                 42.85\n",
      "\tMost common values:    10 (46x)\n",
      "\t                       99 (31x)\n",
      "\t                       20 (10x)\n",
      "\t                       98 (10x)\n",
      "\t                       50 (1x)\n",
      "\n",
      "  8. \"ethnicity_id\"\n",
      "\n",
      "\tType of data:          Number\n",
      "\tContains null values:  False\n",
      "\tUnique values:         3\n",
      "\tSmallest value:        10\n",
      "\tLargest value:         50\n",
      "\tSum:                   3040\n",
      "\tMean:                  30.707\n",
      "\tMedian:                20\n",
      "\tStDev:                 16.675\n",
      "\tMost common values:    20 (41x)\n",
      "\t                       50 (41x)\n",
      "\t                       10 (17x)\n",
      "\n",
      "Row count: 99\n"
     ]
    }
   ],
   "source": [
    "!head -n 100 victim.csv | csvstat"
   ]
  },
  {
   "cell_type": "markdown",
   "id": "50b967d7-4999-4f56-8699-81192f81ce1f",
   "metadata": {
    "tags": []
   },
   "source": [
    "##### d) Dealing with non-numeric values in age_num\n",
    "__Note:__ From (c) we saw that ther are some non-numeric values in the age_num column for the VICTIM Entity"
   ]
  },
  {
   "cell_type": "code",
   "execution_count": 212,
   "id": "b9a39f78-8656-44c5-83b4-23666bf362e9",
   "metadata": {},
   "outputs": [
    {
     "name": "stdout",
     "output_type": "stream",
     "text": [
      "/home/ubuntu/.local/lib/python3.8/site-packages/agate/table/from_csv.py:74: RuntimeWarning: Error sniffing CSV dialect: Could not determine delimiter\n",
      "  38823 NS\n",
      "   2643 00\n",
      "   2548 26\n",
      "   2547 30\n",
      "   2517 29\n",
      "   2478 28\n",
      "   2476 31\n",
      "   2468 25\n",
      "   2438 27\n",
      "   2375 32\n"
     ]
    }
   ],
   "source": [
    "!csvcut -c age_num victim.csv | csvsort | uniq -c | sort -r | head -n 10"
   ]
  },
  {
   "cell_type": "markdown",
   "id": "1fe992dc-19e0-4f47-80d5-571ff1cb9b43",
   "metadata": {},
   "source": [
    "Note: We use awk function to find the non-numeric values NS, NN, NP, BB etc (as seen above) and replace them with NULL values because:\n",
    "* There are 38823 non-numeric value NS and if we drop them the data integrity would be affected \n",
    "* They have primary keys that are foreign keys in other tables and would create issues with loading data for those\n",
    "* NUll values are still useful if we want to do mathematical operations on the age_num column rather than changing the column to text"
   ]
  },
  {
   "cell_type": "code",
   "execution_count": 213,
   "id": "5626ed98-4b4e-4bbf-bc4c-ddcc580bfaf4",
   "metadata": {},
   "outputs": [],
   "source": [
    "!awk -F, 'BEGIN {OFS = FS} { if ($5 ~ /^[a-zA-Z]+$/) $5 = NULL; print}' victim.csv > victim_updated.csv"
   ]
  },
  {
   "cell_type": "markdown",
   "id": "1f55828f-8dd8-47c9-9d3f-04f7e0b25f18",
   "metadata": {
    "tags": []
   },
   "source": [
    "##### e) Looking at the updated data and data types"
   ]
  },
  {
   "cell_type": "code",
   "execution_count": 214,
   "id": "b886a457-398b-42cd-bc59-89ef15252cf8",
   "metadata": {
    "tags": []
   },
   "outputs": [
    {
     "name": "stdout",
     "output_type": "stream",
     "text": [
      "  1. \"victim_id\"\n",
      "\n",
      "\tType of data:          Number\n",
      "\tContains null values:  False\n",
      "\tUnique values:         99\n",
      "\tSmallest value:        146510584\n",
      "\tLargest value:         165253072\n",
      "\tSum:                   14891168948\n",
      "\tMean:                  150415847.96\n",
      "\tMedian:                149954107\n",
      "\tStDev:                 3911504.943\n",
      "\tMost common values:    156137715 (1x)\n",
      "\t                       150097155 (1x)\n",
      "\t                       150188607 (1x)\n",
      "\t                       150131489 (1x)\n",
      "\t                       150115100 (1x)\n",
      "\n",
      "  2. \"incident_id\"\n",
      "\n",
      "\tType of data:          Number\n",
      "\tContains null values:  False\n",
      "\tUnique values:         80\n",
      "\tSmallest value:        133362971\n",
      "\tLargest value:         149760824\n",
      "\tSum:                   13540477373\n",
      "\tMean:                  136772498.717\n",
      "\tMedian:                136374074\n",
      "\tStDev:                 3424259.353\n",
      "\tMost common values:    135691997 (6x)\n",
      "\t                       133522129 (4x)\n",
      "\t                       134183793 (3x)\n",
      "\t                       136432719 (3x)\n",
      "\t                       136516079 (2x)\n",
      "\n",
      "  3. \"victim_seq_num\"\n",
      "\n",
      "\tType of data:          Number\n",
      "\tContains null values:  False\n",
      "\tUnique values:         6\n",
      "\tSmallest value:        1\n",
      "\tLargest value:         6\n",
      "\tSum:                   133\n",
      "\tMean:                  1.343\n",
      "\tMedian:                1\n",
      "\tStDev:                 0.871\n",
      "\tMost common values:    1 (80x)\n",
      "\t                       2 (11x)\n",
      "\t                       3 (4x)\n",
      "\t                       4 (2x)\n",
      "\t                       5 (1x)\n",
      "\n",
      "  4. \"victim_type_id\"\n",
      "\n",
      "\tType of data:          Number\n",
      "\tContains null values:  False\n",
      "\tUnique values:         4\n",
      "\tSmallest value:        1\n",
      "\tLargest value:         8\n",
      "\tSum:                   435\n",
      "\tMean:                  4.394\n",
      "\tMedian:                4\n",
      "\tStDev:                 2.009\n",
      "\tMost common values:    4 (62x)\n",
      "\t                       8 (18x)\n",
      "\t                       1 (13x)\n",
      "\t                       5 (6x)\n",
      "\n",
      "  5. \"age_num\"\n",
      "\n",
      "\tType of data:          Number\n",
      "\tContains null values:  True (excluded from calculations)\n",
      "\tUnique values:         44\n",
      "\tSmallest value:        0\n",
      "\tLargest value:         84\n",
      "\tSum:                   2247\n",
      "\tMean:                  33.537\n",
      "\tMedian:                31\n",
      "\tStDev:                 20.165\n",
      "\tMost common values:    None (32x)\n",
      "\t                       0 (7x)\n",
      "\t                       31 (4x)\n",
      "\t                       30 (4x)\n",
      "\t                       25 (3x)\n",
      "\n",
      "  6. \"sex_code\"\n",
      "\n",
      "\tType of data:          Text\n",
      "\tContains null values:  False\n",
      "\tUnique values:         4\n",
      "\tLongest value:         1 characters\n",
      "\tMost common values:    M (37x)\n",
      "\t                       X (31x)\n",
      "\t                       F (27x)\n",
      "\t                       U (4x)\n",
      "\n",
      "  7. \"race_id\"\n",
      "\n",
      "\tType of data:          Number\n",
      "\tContains null values:  False\n",
      "\tUnique values:         6\n",
      "\tSmallest value:        10\n",
      "\tLargest value:         99\n",
      "\tSum:                   4799\n",
      "\tMean:                  48.475\n",
      "\tMedian:                20\n",
      "\tStDev:                 42.85\n",
      "\tMost common values:    10 (46x)\n",
      "\t                       99 (31x)\n",
      "\t                       20 (10x)\n",
      "\t                       98 (10x)\n",
      "\t                       50 (1x)\n",
      "\n",
      "  8. \"ethnicity_id\"\n",
      "\n",
      "\tType of data:          Number\n",
      "\tContains null values:  False\n",
      "\tUnique values:         3\n",
      "\tSmallest value:        10\n",
      "\tLargest value:         50\n",
      "\tSum:                   3040\n",
      "\tMean:                  30.707\n",
      "\tMedian:                20\n",
      "\tStDev:                 16.675\n",
      "\tMost common values:    20 (41x)\n",
      "\t                       50 (41x)\n",
      "\t                       10 (17x)\n",
      "\n",
      "Row count: 99\n"
     ]
    }
   ],
   "source": [
    "!head -n 100 victim_updated.csv | csvstat"
   ]
  },
  {
   "cell_type": "markdown",
   "id": "94a7425b-beb2-46f6-b281-2f3da064095d",
   "metadata": {
    "tags": []
   },
   "source": [
    "##### f) Create the VICTIM entity table based on the data types from csv and the needed rows from customer requirement (i.e. Data Dictionary)"
   ]
  },
  {
   "cell_type": "code",
   "execution_count": 215,
   "id": "af568613-4fa6-41dc-a255-96f106ed3f4a",
   "metadata": {},
   "outputs": [
    {
     "name": "stdout",
     "output_type": "stream",
     "text": [
      " * postgresql://student@/NIBRS\n",
      "Done.\n",
      "Done.\n"
     ]
    },
    {
     "data": {
      "text/plain": [
       "[]"
      ]
     },
     "execution_count": 215,
     "metadata": {},
     "output_type": "execute_result"
    }
   ],
   "source": [
    "%%sql\n",
    "DROP TABLE IF EXISTS VICTIM Cascade;\n",
    "\n",
    "CREATE TABLE VICTIM (\n",
    "  victim_id       Numeric(10) NOT NULL, \n",
    "  incident_id     Numeric(10) NOT NULL,\n",
    "  victim_seq_num  Numeric(3),\n",
    "  victim_type_id  Numeric(4) NOT NULL,\n",
    "  age_num         Numeric(3),\n",
    "  sex_code        CHAR(1),\n",
    "  race_id         Numeric(4) NOT NULL,\n",
    "  ethnicity_id    Numeric(4),\n",
    "PRIMARY KEY (victim_id),\n",
    "FOREIGN KEY (incident_id) REFERENCES INCIDENT(incident_id),\n",
    "FOREIGN KEY (race_id) REFERENCES RACE(race_id),\n",
    "FOREIGN KEY (ethnicity_id) REFERENCES ETHNICITY(ethnicity_id),\n",
    "FOREIGN KEY (victim_type_id) REFERENCES VICTIM_TYPE(victim_type_id)\n",
    ");"
   ]
  },
  {
   "cell_type": "markdown",
   "id": "067bb640-3e19-43d2-8628-212547e31cf1",
   "metadata": {
    "tags": []
   },
   "source": [
    "##### g) Load the data from updated CSV file"
   ]
  },
  {
   "cell_type": "code",
   "execution_count": 216,
   "id": "42d580df-bfd7-4d41-a55b-4eef788439f9",
   "metadata": {},
   "outputs": [
    {
     "name": "stdout",
     "output_type": "stream",
     "text": [
      " * postgresql://student@/NIBRS\n",
      "133987 rows affected.\n"
     ]
    },
    {
     "data": {
      "text/plain": [
       "[]"
      ]
     },
     "execution_count": 216,
     "metadata": {},
     "output_type": "execute_result"
    }
   ],
   "source": [
    "%%sql\n",
    "COPY VICTIM FROM '/home/ubuntu/notebooks/Assignment2/victim_updated.csv'\n",
    "CSV\n",
    "HEADER;"
   ]
  },
  {
   "cell_type": "markdown",
   "id": "2e3309f1-122f-4ea7-9c06-a6da829b1e12",
   "metadata": {
    "tags": []
   },
   "source": [
    "##### h) Confirm whether the bulk loading is completed correctly"
   ]
  },
  {
   "cell_type": "code",
   "execution_count": 217,
   "id": "324823fb-0f30-4215-bcf4-713d31c9b38b",
   "metadata": {},
   "outputs": [
    {
     "name": "stdout",
     "output_type": "stream",
     "text": [
      " * postgresql://student@/NIBRS\n",
      "10 rows affected.\n"
     ]
    },
    {
     "data": {
      "text/html": [
       "<table>\n",
       "    <thead>\n",
       "        <tr>\n",
       "            <th>victim_id</th>\n",
       "            <th>incident_id</th>\n",
       "            <th>victim_seq_num</th>\n",
       "            <th>victim_type_id</th>\n",
       "            <th>age_num</th>\n",
       "            <th>sex_code</th>\n",
       "            <th>race_id</th>\n",
       "            <th>ethnicity_id</th>\n",
       "        </tr>\n",
       "    </thead>\n",
       "    <tbody>\n",
       "        <tr>\n",
       "            <td>156137715</td>\n",
       "            <td>141774651</td>\n",
       "            <td>1</td>\n",
       "            <td>4</td>\n",
       "            <td>29</td>\n",
       "            <td>F</td>\n",
       "            <td>10</td>\n",
       "            <td>20</td>\n",
       "        </tr>\n",
       "        <tr>\n",
       "            <td>150097155</td>\n",
       "            <td>136500530</td>\n",
       "            <td>1</td>\n",
       "            <td>4</td>\n",
       "            <td>17</td>\n",
       "            <td>M</td>\n",
       "            <td>10</td>\n",
       "            <td>10</td>\n",
       "        </tr>\n",
       "        <tr>\n",
       "            <td>150188607</td>\n",
       "            <td>136580646</td>\n",
       "            <td>1</td>\n",
       "            <td>4</td>\n",
       "            <td>38</td>\n",
       "            <td>M</td>\n",
       "            <td>10</td>\n",
       "            <td>20</td>\n",
       "        </tr>\n",
       "        <tr>\n",
       "            <td>150131489</td>\n",
       "            <td>136530548</td>\n",
       "            <td>1</td>\n",
       "            <td>4</td>\n",
       "            <td>42</td>\n",
       "            <td>M</td>\n",
       "            <td>20</td>\n",
       "            <td>20</td>\n",
       "        </tr>\n",
       "        <tr>\n",
       "            <td>150115100</td>\n",
       "            <td>136516079</td>\n",
       "            <td>1</td>\n",
       "            <td>4</td>\n",
       "            <td>31</td>\n",
       "            <td>F</td>\n",
       "            <td>10</td>\n",
       "            <td>20</td>\n",
       "        </tr>\n",
       "        <tr>\n",
       "            <td>150115101</td>\n",
       "            <td>136516079</td>\n",
       "            <td>2</td>\n",
       "            <td>4</td>\n",
       "            <td>None</td>\n",
       "            <td>M</td>\n",
       "            <td>10</td>\n",
       "            <td>20</td>\n",
       "        </tr>\n",
       "        <tr>\n",
       "            <td>157809774</td>\n",
       "            <td>143243093</td>\n",
       "            <td>1</td>\n",
       "            <td>4</td>\n",
       "            <td>30</td>\n",
       "            <td>F</td>\n",
       "            <td>10</td>\n",
       "            <td>20</td>\n",
       "        </tr>\n",
       "        <tr>\n",
       "            <td>150953725</td>\n",
       "            <td>137248920</td>\n",
       "            <td>1</td>\n",
       "            <td>4</td>\n",
       "            <td>46</td>\n",
       "            <td>F</td>\n",
       "            <td>10</td>\n",
       "            <td>20</td>\n",
       "        </tr>\n",
       "        <tr>\n",
       "            <td>150953726</td>\n",
       "            <td>137248920</td>\n",
       "            <td>2</td>\n",
       "            <td>8</td>\n",
       "            <td>None</td>\n",
       "            <td>X</td>\n",
       "            <td>99</td>\n",
       "            <td>50</td>\n",
       "        </tr>\n",
       "        <tr>\n",
       "            <td>150318415</td>\n",
       "            <td>136694620</td>\n",
       "            <td>1</td>\n",
       "            <td>4</td>\n",
       "            <td>20</td>\n",
       "            <td>F</td>\n",
       "            <td>10</td>\n",
       "            <td>10</td>\n",
       "        </tr>\n",
       "    </tbody>\n",
       "</table>"
      ],
      "text/plain": [
       "[(Decimal('156137715'), Decimal('141774651'), Decimal('1'), Decimal('4'), Decimal('29'), 'F', Decimal('10'), Decimal('20')),\n",
       " (Decimal('150097155'), Decimal('136500530'), Decimal('1'), Decimal('4'), Decimal('17'), 'M', Decimal('10'), Decimal('10')),\n",
       " (Decimal('150188607'), Decimal('136580646'), Decimal('1'), Decimal('4'), Decimal('38'), 'M', Decimal('10'), Decimal('20')),\n",
       " (Decimal('150131489'), Decimal('136530548'), Decimal('1'), Decimal('4'), Decimal('42'), 'M', Decimal('20'), Decimal('20')),\n",
       " (Decimal('150115100'), Decimal('136516079'), Decimal('1'), Decimal('4'), Decimal('31'), 'F', Decimal('10'), Decimal('20')),\n",
       " (Decimal('150115101'), Decimal('136516079'), Decimal('2'), Decimal('4'), None, 'M', Decimal('10'), Decimal('20')),\n",
       " (Decimal('157809774'), Decimal('143243093'), Decimal('1'), Decimal('4'), Decimal('30'), 'F', Decimal('10'), Decimal('20')),\n",
       " (Decimal('150953725'), Decimal('137248920'), Decimal('1'), Decimal('4'), Decimal('46'), 'F', Decimal('10'), Decimal('20')),\n",
       " (Decimal('150953726'), Decimal('137248920'), Decimal('2'), Decimal('8'), None, 'X', Decimal('99'), Decimal('50')),\n",
       " (Decimal('150318415'), Decimal('136694620'), Decimal('1'), Decimal('4'), Decimal('20'), 'F', Decimal('10'), Decimal('10'))]"
      ]
     },
     "execution_count": 217,
     "metadata": {},
     "output_type": "execute_result"
    }
   ],
   "source": [
    "%%sql\n",
    "Select * from VICTIM\n",
    "limit 10;"
   ]
  },
  {
   "cell_type": "markdown",
   "id": "7a5c3d3b-b28b-4a9e-a2a8-47a2dca261dc",
   "metadata": {
    "tags": [],
    "toc-hr-collapsed": true
   },
   "source": [
    "#### 11. Victim Offender Relationship Data\n",
    "Reading CSV files, Creating Database Tables and Loading Data into Tables"
   ]
  },
  {
   "cell_type": "markdown",
   "id": "33504125-7e6e-4ba1-89b4-a1d641652443",
   "metadata": {
    "tags": []
   },
   "source": [
    "##### a) Looking at the csv file columns"
   ]
  },
  {
   "cell_type": "code",
   "execution_count": 218,
   "id": "4017f650-5f88-4674-9cb7-429f3a9360df",
   "metadata": {},
   "outputs": [
    {
     "name": "stdout",
     "output_type": "stream",
     "text": [
      "  1: data_year\n",
      "  2: victim_id\n",
      "  3: offender_id\n",
      "  4: relationship_id\n",
      "  5: nibrs_victim_offender_id\n"
     ]
    }
   ],
   "source": [
    "!csvcut -n NIBRS_VICTIM_OFFENDER_REL.csv"
   ]
  },
  {
   "cell_type": "markdown",
   "id": "1cf72d3a-cae1-4797-9f55-4b96534d0594",
   "metadata": {
    "tags": []
   },
   "source": [
    "##### b) Select only the columns we need\n",
    "Note: We didn't use the nirbs_victim_offender_id because the column was empty"
   ]
  },
  {
   "cell_type": "code",
   "execution_count": 219,
   "id": "64657765-6454-4574-8603-6ca574dd8dee",
   "metadata": {},
   "outputs": [],
   "source": [
    "!csvcut -c victim_id,offender_id,relationship_id '/home/ubuntu/notebooks/Assignment2/NIBRS_VICTIM_OFFENDER_REL.csv' > victim_offender_rel.csv"
   ]
  },
  {
   "cell_type": "markdown",
   "id": "e70ae690-7c08-4e0c-9ac3-64717431464c",
   "metadata": {
    "tags": []
   },
   "source": [
    "##### c) Preliminary look at the csv data and data types"
   ]
  },
  {
   "cell_type": "code",
   "execution_count": 220,
   "id": "e8524cd2-d88f-4132-bedd-49b1442a1c46",
   "metadata": {
    "tags": []
   },
   "outputs": [
    {
     "name": "stdout",
     "output_type": "stream",
     "text": [
      "  1. \"victim_id\"\n",
      "\n",
      "\tType of data:          Number\n",
      "\tContains null values:  False\n",
      "\tUnique values:         82\n",
      "\tSmallest value:        146510761\n",
      "\tLargest value:         162789351\n",
      "\tSum:                   15167700178\n",
      "\tMean:                  153209092.707\n",
      "\tMedian:                150299870\n",
      "\tStDev:                 6153850.374\n",
      "\tMost common values:    162419294 (9x)\n",
      "\t                       149275901 (4x)\n",
      "\t                       162263507 (3x)\n",
      "\t                       150115100 (2x)\n",
      "\t                       150115101 (2x)\n",
      "\n",
      "  2. \"offender_id\"\n",
      "\n",
      "\tType of data:          Number\n",
      "\tContains null values:  False\n",
      "\tUnique values:         89\n",
      "\tSmallest value:        151542325\n",
      "\tLargest value:         167657654\n",
      "\tSum:                   15659050800\n",
      "\tMean:                  158172230.303\n",
      "\tMedian:                155293718\n",
      "\tStDev:                 6094132.387\n",
      "\tMost common values:    151726024 (4x)\n",
      "\t                       155012214 (3x)\n",
      "\t                       155108544 (2x)\n",
      "\t                       155108545 (2x)\n",
      "\t                       151686421 (2x)\n",
      "\n",
      "  3. \"relationship_id\"\n",
      "\n",
      "\tType of data:          Number\n",
      "\tContains null values:  False\n",
      "\tUnique values:         14\n",
      "\tSmallest value:        1\n",
      "\tLargest value:         27\n",
      "\tSum:                   1353\n",
      "\tMean:                  13.667\n",
      "\tMedian:                18\n",
      "\tStDev:                 8.855\n",
      "\tMost common values:    18 (33x)\n",
      "\t                       24 (19x)\n",
      "\t                       1 (16x)\n",
      "\t                       4 (10x)\n",
      "\t                       3 (7x)\n",
      "\n",
      "Row count: 99\n"
     ]
    }
   ],
   "source": [
    "!head -n 100 victim_offender_rel.csv | csvstat"
   ]
  },
  {
   "cell_type": "markdown",
   "id": "5a83bd79-bbc0-44a6-88a1-9013afe349bc",
   "metadata": {
    "tags": []
   },
   "source": [
    "##### d) Create the VICTIM_OFFENDER_REL entity table based on the data types from csv and the needed rows from customer requirement (i.e. Data Dictionary)"
   ]
  },
  {
   "cell_type": "code",
   "execution_count": 221,
   "id": "02f6fdc3-c872-4819-b6db-fe849280cefa",
   "metadata": {},
   "outputs": [
    {
     "name": "stdout",
     "output_type": "stream",
     "text": [
      " * postgresql://student@/NIBRS\n",
      "Done.\n",
      "Done.\n"
     ]
    },
    {
     "data": {
      "text/plain": [
       "[]"
      ]
     },
     "execution_count": 221,
     "metadata": {},
     "output_type": "execute_result"
    }
   ],
   "source": [
    "%%sql\n",
    "DROP TABLE IF EXISTS VICTIM_OFFENDER_REL Cascade;\n",
    "\n",
    "CREATE TABLE VICTIM_OFFENDER_REL (\n",
    "  victim_id           Numeric(10) NOT NULL, \n",
    "  offender_id         Numeric(10)  NOT NULL,\n",
    "  relationship_id     Numeric(4)  NOT NULL,\n",
    "PRIMARY KEY (victim_id,offender_id,relationship_id),\n",
    "FOREIGN KEY (victim_id) REFERENCES VICTIM(victim_id),\n",
    "FOREIGN KEY (offender_id) REFERENCES OFFENDER(offender_id),\n",
    "FOREIGN KEY (relationship_id) REFERENCES RELATIONSHIP(relationship_id)    \n",
    ");"
   ]
  },
  {
   "cell_type": "markdown",
   "id": "54600cdc-371a-4c92-b247-cd120127dcd0",
   "metadata": {
    "tags": []
   },
   "source": [
    "##### e) Load the data from csv file"
   ]
  },
  {
   "cell_type": "code",
   "execution_count": 222,
   "id": "693952a7-aafb-41f5-a6ab-56f626b4ea2c",
   "metadata": {},
   "outputs": [
    {
     "name": "stdout",
     "output_type": "stream",
     "text": [
      " * postgresql://student@/NIBRS\n",
      "39187 rows affected.\n"
     ]
    },
    {
     "data": {
      "text/plain": [
       "[]"
      ]
     },
     "execution_count": 222,
     "metadata": {},
     "output_type": "execute_result"
    }
   ],
   "source": [
    "%%sql\n",
    "COPY VICTIM_OFFENDER_REL FROM '/home/ubuntu/notebooks/Assignment2/victim_offender_rel.csv'\n",
    "CSV\n",
    "HEADER;"
   ]
  },
  {
   "cell_type": "markdown",
   "id": "b70ed184-ffba-4b0f-8889-d00fbd6736c0",
   "metadata": {
    "tags": []
   },
   "source": [
    "##### f) Confirm whether the bulk loading is completed correctly"
   ]
  },
  {
   "cell_type": "code",
   "execution_count": 223,
   "id": "11e23c8c-c599-4362-a354-0cbbdac9678f",
   "metadata": {},
   "outputs": [
    {
     "name": "stdout",
     "output_type": "stream",
     "text": [
      " * postgresql://student@/NIBRS\n",
      "10 rows affected.\n"
     ]
    },
    {
     "data": {
      "text/html": [
       "<table>\n",
       "    <thead>\n",
       "        <tr>\n",
       "            <th>victim_id</th>\n",
       "            <th>offender_id</th>\n",
       "            <th>relationship_id</th>\n",
       "        </tr>\n",
       "    </thead>\n",
       "    <tbody>\n",
       "        <tr>\n",
       "            <td>156137715</td>\n",
       "            <td>161073930</td>\n",
       "            <td>18</td>\n",
       "        </tr>\n",
       "        <tr>\n",
       "            <td>150097155</td>\n",
       "            <td>155090892</td>\n",
       "            <td>1</td>\n",
       "        </tr>\n",
       "        <tr>\n",
       "            <td>150188607</td>\n",
       "            <td>155181712</td>\n",
       "            <td>21</td>\n",
       "        </tr>\n",
       "        <tr>\n",
       "            <td>150131489</td>\n",
       "            <td>155125626</td>\n",
       "            <td>4</td>\n",
       "        </tr>\n",
       "        <tr>\n",
       "            <td>150115100</td>\n",
       "            <td>155108544</td>\n",
       "            <td>24</td>\n",
       "        </tr>\n",
       "        <tr>\n",
       "            <td>150115100</td>\n",
       "            <td>155108545</td>\n",
       "            <td>24</td>\n",
       "        </tr>\n",
       "        <tr>\n",
       "            <td>150115101</td>\n",
       "            <td>155108544</td>\n",
       "            <td>24</td>\n",
       "        </tr>\n",
       "        <tr>\n",
       "            <td>150115101</td>\n",
       "            <td>155108545</td>\n",
       "            <td>24</td>\n",
       "        </tr>\n",
       "        <tr>\n",
       "            <td>157809774</td>\n",
       "            <td>162730171</td>\n",
       "            <td>18</td>\n",
       "        </tr>\n",
       "        <tr>\n",
       "            <td>150318415</td>\n",
       "            <td>155312639</td>\n",
       "            <td>4</td>\n",
       "        </tr>\n",
       "    </tbody>\n",
       "</table>"
      ],
      "text/plain": [
       "[(Decimal('156137715'), Decimal('161073930'), Decimal('18')),\n",
       " (Decimal('150097155'), Decimal('155090892'), Decimal('1')),\n",
       " (Decimal('150188607'), Decimal('155181712'), Decimal('21')),\n",
       " (Decimal('150131489'), Decimal('155125626'), Decimal('4')),\n",
       " (Decimal('150115100'), Decimal('155108544'), Decimal('24')),\n",
       " (Decimal('150115100'), Decimal('155108545'), Decimal('24')),\n",
       " (Decimal('150115101'), Decimal('155108544'), Decimal('24')),\n",
       " (Decimal('150115101'), Decimal('155108545'), Decimal('24')),\n",
       " (Decimal('157809774'), Decimal('162730171'), Decimal('18')),\n",
       " (Decimal('150318415'), Decimal('155312639'), Decimal('4'))]"
      ]
     },
     "execution_count": 223,
     "metadata": {},
     "output_type": "execute_result"
    }
   ],
   "source": [
    "%%sql\n",
    "Select * from VICTIM_OFFENDER_REL\n",
    "limit 10;"
   ]
  },
  {
   "cell_type": "markdown",
   "id": "8dbf7137-dba9-4d29-b756-5655c971bfb7",
   "metadata": {
    "tags": [],
    "toc-hr-collapsed": true
   },
   "source": [
    "#### 12. Victim Offense Data\n",
    "Reading CSV files, Creating Database Tables and Loading Data into Tables"
   ]
  },
  {
   "cell_type": "markdown",
   "id": "d4e30202-3e0b-4838-a248-f4f152aab2d4",
   "metadata": {
    "tags": []
   },
   "source": [
    "##### a) Looking at the csv file columns"
   ]
  },
  {
   "cell_type": "code",
   "execution_count": 224,
   "id": "2422e0fa-40b6-4914-8182-a8067f5db3a8",
   "metadata": {},
   "outputs": [
    {
     "name": "stdout",
     "output_type": "stream",
     "text": [
      "  1: data_year\n",
      "  2: victim_id\n",
      "  3: offense_id\n"
     ]
    }
   ],
   "source": [
    "!csvcut -n NIBRS_VICTIM_OFFENSE.csv"
   ]
  },
  {
   "cell_type": "markdown",
   "id": "4c482ccb-2156-49b4-adbb-f09881c86bee",
   "metadata": {
    "tags": []
   },
   "source": [
    "##### b) Select only the columns we need"
   ]
  },
  {
   "cell_type": "code",
   "execution_count": 225,
   "id": "c6735885-90fe-4887-8978-4a1c256f6405",
   "metadata": {},
   "outputs": [],
   "source": [
    "!csvcut -c victim_id,offense_id '/home/ubuntu/notebooks/Assignment2/NIBRS_VICTIM_OFFENSE.csv' > victim_offense.csv"
   ]
  },
  {
   "cell_type": "markdown",
   "id": "9a895d5d-aa25-4ded-9c25-fcd2cf42cf3b",
   "metadata": {
    "tags": []
   },
   "source": [
    "##### c) Preliminary look at the csv data and data types"
   ]
  },
  {
   "cell_type": "code",
   "execution_count": 226,
   "id": "b7570af9-be1a-4b3a-80a5-27b453c6eff2",
   "metadata": {
    "tags": []
   },
   "outputs": [
    {
     "name": "stdout",
     "output_type": "stream",
     "text": [
      "  1. \"victim_id\"\n",
      "\n",
      "\tType of data:          Number\n",
      "\tContains null values:  False\n",
      "\tUnique values:         86\n",
      "\tSmallest value:        146510584\n",
      "\tLargest value:         165253072\n",
      "\tSum:                   14900549111\n",
      "\tMean:                  150510597.081\n",
      "\tMedian:                150097155\n",
      "\tStDev:                 4036769.726\n",
      "\tMost common values:    150953726 (2x)\n",
      "\t                       150234939 (2x)\n",
      "\t                       147262089 (2x)\n",
      "\t                       158089822 (2x)\n",
      "\t                       146737323 (2x)\n",
      "\n",
      "  2. \"offense_id\"\n",
      "\n",
      "\tType of data:          Number\n",
      "\tContains null values:  False\n",
      "\tUnique values:         91\n",
      "\tSmallest value:        160652352\n",
      "\tLargest value:         179538866\n",
      "\tSum:                   16307190441\n",
      "\tMean:                  164719095.364\n",
      "\tMedian:                164352006\n",
      "\tStDev:                 4083652.853\n",
      "\tMost common values:    161617992 (3x)\n",
      "\t                       160825859 (3x)\n",
      "\t                       164370837 (2x)\n",
      "\t                       161617991 (2x)\n",
      "\t                       160785183 (2x)\n",
      "\n",
      "Row count: 99\n"
     ]
    }
   ],
   "source": [
    "!head -n 100 victim_offense.csv | csvstat"
   ]
  },
  {
   "cell_type": "markdown",
   "id": "8bb2d251-74f4-48b8-abd8-10e9d2406017",
   "metadata": {
    "tags": []
   },
   "source": [
    "##### d) Create the VICTIM_OFFENSE relationship table based on the data types from csv and the needed rows from customer requirement (i.e. Data Dictionary)"
   ]
  },
  {
   "cell_type": "code",
   "execution_count": 227,
   "id": "c4401240-010b-4d78-91bc-da2d1fd589d6",
   "metadata": {},
   "outputs": [
    {
     "name": "stdout",
     "output_type": "stream",
     "text": [
      " * postgresql://student@/NIBRS\n",
      "Done.\n",
      "Done.\n"
     ]
    },
    {
     "data": {
      "text/plain": [
       "[]"
      ]
     },
     "execution_count": 227,
     "metadata": {},
     "output_type": "execute_result"
    }
   ],
   "source": [
    "%%sql\n",
    "DROP TABLE IF EXISTS VICTIM_OFFENSE Cascade;\n",
    "\n",
    "CREATE TABLE VICTIM_OFFENSE (\n",
    "  victim_id          Numeric(10) NOT NULL, \n",
    "  offense_id         Numeric(10)  NOT NULL,\n",
    "PRIMARY KEY (victim_id,offense_id),\n",
    "FOREIGN KEY (victim_id) REFERENCES VICTIM(victim_id),\n",
    "FOREIGN KEY (offense_id) REFERENCES OFFENSE(offense_id)    \n",
    ");"
   ]
  },
  {
   "cell_type": "markdown",
   "id": "fc4aed25-5608-4afc-bdc3-9b88341d8af5",
   "metadata": {
    "tags": []
   },
   "source": [
    "##### e) Load the data from csv file"
   ]
  },
  {
   "cell_type": "code",
   "execution_count": 228,
   "id": "d6415b91-febb-4348-b717-10f9f7b2d930",
   "metadata": {},
   "outputs": [
    {
     "name": "stdout",
     "output_type": "stream",
     "text": [
      " * postgresql://student@/NIBRS\n",
      "148672 rows affected.\n"
     ]
    },
    {
     "data": {
      "text/plain": [
       "[]"
      ]
     },
     "execution_count": 228,
     "metadata": {},
     "output_type": "execute_result"
    }
   ],
   "source": [
    "%%sql\n",
    "COPY VICTIM_OFFENSE FROM '/home/ubuntu/notebooks/Assignment2/victim_offense.csv'\n",
    "CSV\n",
    "HEADER;"
   ]
  },
  {
   "cell_type": "markdown",
   "id": "4ea8b19e-cca7-4a6a-ac7a-fedfd4f33fe0",
   "metadata": {
    "tags": []
   },
   "source": [
    "##### f) Confirm whether the bulk loading is completed correctly"
   ]
  },
  {
   "cell_type": "code",
   "execution_count": 229,
   "id": "0cf95b62-34c8-42df-87eb-f73ca8b31edf",
   "metadata": {},
   "outputs": [
    {
     "name": "stdout",
     "output_type": "stream",
     "text": [
      " * postgresql://student@/NIBRS\n",
      "10 rows affected.\n"
     ]
    },
    {
     "data": {
      "text/html": [
       "<table>\n",
       "    <thead>\n",
       "        <tr>\n",
       "            <th>victim_id</th>\n",
       "            <th>offense_id</th>\n",
       "        </tr>\n",
       "    </thead>\n",
       "    <tbody>\n",
       "        <tr>\n",
       "            <td>156137715</td>\n",
       "            <td>170403568</td>\n",
       "        </tr>\n",
       "        <tr>\n",
       "            <td>150097155</td>\n",
       "            <td>164352006</td>\n",
       "        </tr>\n",
       "        <tr>\n",
       "            <td>150188607</td>\n",
       "            <td>164444800</td>\n",
       "        </tr>\n",
       "        <tr>\n",
       "            <td>150131489</td>\n",
       "            <td>164387076</td>\n",
       "        </tr>\n",
       "        <tr>\n",
       "            <td>150115100</td>\n",
       "            <td>164370837</td>\n",
       "        </tr>\n",
       "        <tr>\n",
       "            <td>150115101</td>\n",
       "            <td>164370837</td>\n",
       "        </tr>\n",
       "        <tr>\n",
       "            <td>157809774</td>\n",
       "            <td>172082117</td>\n",
       "        </tr>\n",
       "        <tr>\n",
       "            <td>150953725</td>\n",
       "            <td>165205693</td>\n",
       "        </tr>\n",
       "        <tr>\n",
       "            <td>150953726</td>\n",
       "            <td>165205694</td>\n",
       "        </tr>\n",
       "        <tr>\n",
       "            <td>150953726</td>\n",
       "            <td>165205695</td>\n",
       "        </tr>\n",
       "    </tbody>\n",
       "</table>"
      ],
      "text/plain": [
       "[(Decimal('156137715'), Decimal('170403568')),\n",
       " (Decimal('150097155'), Decimal('164352006')),\n",
       " (Decimal('150188607'), Decimal('164444800')),\n",
       " (Decimal('150131489'), Decimal('164387076')),\n",
       " (Decimal('150115100'), Decimal('164370837')),\n",
       " (Decimal('150115101'), Decimal('164370837')),\n",
       " (Decimal('157809774'), Decimal('172082117')),\n",
       " (Decimal('150953725'), Decimal('165205693')),\n",
       " (Decimal('150953726'), Decimal('165205694')),\n",
       " (Decimal('150953726'), Decimal('165205695'))]"
      ]
     },
     "execution_count": 229,
     "metadata": {},
     "output_type": "execute_result"
    }
   ],
   "source": [
    "%%sql\n",
    "Select * from VICTIM_OFFENSE\n",
    "limit 10;"
   ]
  },
  {
   "cell_type": "markdown",
   "id": "0ee1b532-b06d-4177-8697-9f935653b8cb",
   "metadata": {
    "toc-hr-collapsed": true
   },
   "source": [
    "#### 13. Arrestee Data \n",
    "Reading CSV files, Creating Database Tables and Loading Data into Tables"
   ]
  },
  {
   "cell_type": "markdown",
   "id": "a6699cd7-fdf5-420e-a73a-d726787a087c",
   "metadata": {
    "tags": []
   },
   "source": [
    "##### a) Looking at the csv file columns"
   ]
  },
  {
   "cell_type": "code",
   "execution_count": 230,
   "id": "f657e373-f647-4976-b211-be524152676d",
   "metadata": {},
   "outputs": [
    {
     "name": "stdout",
     "output_type": "stream",
     "text": [
      "  1: data_year\n",
      "  2: arrestee_id\n",
      "  3: incident_id\n",
      "  4: arrestee_seq_num\n",
      "  5: arrest_date\n",
      "  6: arrest_type_id\n",
      "  7: multiple_indicator\n",
      "  8: offense_code\n",
      "  9: age_id\n",
      " 10: age_num\n",
      " 11: sex_code\n",
      " 12: race_id\n",
      " 13: ethnicity_id\n",
      " 14: resident_code\n",
      " 15: under_18_disposition_code\n",
      " 16: clearance_ind\n",
      " 17: age_range_low_num\n",
      " 18: age_range_high_num\n"
     ]
    }
   ],
   "source": [
    "!csvcut -n NIBRS_ARRESTEE.csv"
   ]
  },
  {
   "cell_type": "markdown",
   "id": "3ba69e85-247a-4dfc-b8b3-0807872a4a04",
   "metadata": {
    "tags": []
   },
   "source": [
    "##### b) Select only the columns we need"
   ]
  },
  {
   "cell_type": "code",
   "execution_count": 231,
   "id": "84c8603a-6ce6-4f25-86b4-6f36f5821b82",
   "metadata": {},
   "outputs": [],
   "source": [
    "!csvcut -c arrestee_id,incident_id,arrestee_seq_num,arrest_date,arrest_type_id,offense_code,age_num,sex_code,race_id,ethnicity_id '/home/ubuntu/notebooks/Assignment2/NIBRS_ARRESTEE.csv' > arrestee.csv"
   ]
  },
  {
   "cell_type": "markdown",
   "id": "4a01c2ec-f245-408c-80a1-3e0e6cfd79b0",
   "metadata": {
    "tags": []
   },
   "source": [
    "##### c) Preliminary look at the csv data and data types"
   ]
  },
  {
   "cell_type": "code",
   "execution_count": 232,
   "id": "cb8856b2-6ee6-48c2-add2-8e8e8e40c7f9",
   "metadata": {
    "tags": []
   },
   "outputs": [
    {
     "name": "stdout",
     "output_type": "stream",
     "text": [
      "  1. \"arrestee_id\"\n",
      "\n",
      "\tType of data:          Number\n",
      "\tContains null values:  False\n",
      "\tUnique values:         99\n",
      "\tSmallest value:        41190885\n",
      "\tLargest value:         44988200\n",
      "\tSum:                   4194039304\n",
      "\tMean:                  42364033.374\n",
      "\tMedian:                42194293\n",
      "\tStDev:                 879020.153\n",
      "\tMost common values:    42182498 (1x)\n",
      "\t                       42171748 (1x)\n",
      "\t                       42375950 (1x)\n",
      "\t                       42215838 (1x)\n",
      "\t                       42148427 (1x)\n",
      "\n",
      "  2. \"incident_id\"\n",
      "\n",
      "\tType of data:          Number\n",
      "\tContains null values:  False\n",
      "\tUnique values:         92\n",
      "\tSmallest value:        133363132\n",
      "\tLargest value:         146699111\n",
      "\tSum:                   13590915117\n",
      "\tMean:                  137281970.879\n",
      "\tMedian:                136621605\n",
      "\tStDev:                 3053979.868\n",
      "\tMost common values:    138402584 (2x)\n",
      "\t                       138401524 (2x)\n",
      "\t                       133750424 (2x)\n",
      "\t                       135774219 (2x)\n",
      "\t                       137226970 (2x)\n",
      "\n",
      "  3. \"arrestee_seq_num\"\n",
      "\n",
      "\tType of data:          Number\n",
      "\tContains null values:  False\n",
      "\tUnique values:         2\n",
      "\tSmallest value:        1\n",
      "\tLargest value:         2\n",
      "\tSum:                   106\n",
      "\tMean:                  1.071\n",
      "\tMedian:                1\n",
      "\tStDev:                 0.258\n",
      "\tMost common values:    1 (92x)\n",
      "\t                       2 (7x)\n",
      "\n",
      "  4. \"arrest_date\"\n",
      "\n",
      "\tType of data:          Date\n",
      "\tContains null values:  False\n",
      "\tUnique values:         17\n",
      "\tSmallest value:        2021-01-01\n",
      "\tLargest value:         2021-08-12\n",
      "\tMost common values:    2021-01-04 (21x)\n",
      "\t                       2021-01-01 (17x)\n",
      "\t                       2021-01-03 (14x)\n",
      "\t                       2021-01-06 (13x)\n",
      "\t                       2021-01-02 (10x)\n",
      "\n",
      "  5. \"arrest_type_id\"\n",
      "\n",
      "\tType of data:          Number\n",
      "\tContains null values:  False\n",
      "\tUnique values:         3\n",
      "\tSmallest value:        1\n",
      "\tLargest value:         3\n",
      "\tSum:                   117\n",
      "\tMean:                  1.182\n",
      "\tMedian:                1\n",
      "\tStDev:                 0.522\n",
      "\tMost common values:    1 (87x)\n",
      "\t                       2 (6x)\n",
      "\t                       3 (6x)\n",
      "\n",
      "  6. \"offense_code\"\n",
      "\n",
      "\tType of data:          Text\n",
      "\tContains null values:  False\n",
      "\tUnique values:         19\n",
      "\tLongest value:         3 characters\n",
      "\tMost common values:    13B (27x)\n",
      "\t                       35A (23x)\n",
      "\t                       35B (12x)\n",
      "\t                       13A (5x)\n",
      "\t                       90Z (4x)\n",
      "\n",
      "  7. \"age_num\"\n",
      "\n",
      "\tType of data:          Number\n",
      "\tContains null values:  False\n",
      "\tUnique values:         38\n",
      "\tSmallest value:        17\n",
      "\tLargest value:         72\n",
      "\tSum:                   3588\n",
      "\tMean:                  36.242\n",
      "\tMedian:                35\n",
      "\tStDev:                 10.94\n",
      "\tMost common values:    25 (6x)\n",
      "\t                       41 (6x)\n",
      "\t                       29 (5x)\n",
      "\t                       30 (5x)\n",
      "\t                       36 (4x)\n",
      "\n",
      "  8. \"sex_code\"\n",
      "\n",
      "\tType of data:          Text\n",
      "\tContains null values:  False\n",
      "\tUnique values:         2\n",
      "\tLongest value:         1 characters\n",
      "\tMost common values:    M (71x)\n",
      "\t                       F (28x)\n",
      "\n",
      "  9. \"race_id\"\n",
      "\n",
      "\tType of data:          Number\n",
      "\tContains null values:  False\n",
      "\tUnique values:         5\n",
      "\tSmallest value:        10\n",
      "\tLargest value:         50\n",
      "\tSum:                   1360\n",
      "\tMean:                  13.737\n",
      "\tMedian:                10\n",
      "\tStDev:                 8.279\n",
      "\tMost common values:    10 (76x)\n",
      "\t                       20 (15x)\n",
      "\t                       30 (4x)\n",
      "\t                       40 (2x)\n",
      "\t                       50 (2x)\n",
      "\n",
      " 10. \"ethnicity_id\"\n",
      "\n",
      "\tType of data:          Number\n",
      "\tContains null values:  False\n",
      "\tUnique values:         1\n",
      "\tSmallest value:        50\n",
      "\tLargest value:         50\n",
      "\tSum:                   4950\n",
      "\tMean:                  50\n",
      "\tMedian:                50\n",
      "\tStDev:                 0\n",
      "\tMost common values:    50 (99x)\n",
      "\n",
      "Row count: 99\n"
     ]
    }
   ],
   "source": [
    "!head -n 100 arrestee.csv | csvstat"
   ]
  },
  {
   "cell_type": "markdown",
   "id": "53992543-1cc6-45c7-b2e0-b8794a223db1",
   "metadata": {
    "tags": []
   },
   "source": [
    "##### d) Create the ARRESTEE entity table based on the data types from csv and the needed rows from customer requirement (i.e. Data Dictionary)"
   ]
  },
  {
   "cell_type": "code",
   "execution_count": 233,
   "id": "5d9cd9b2-c865-46bc-8bce-09bea622405d",
   "metadata": {},
   "outputs": [
    {
     "name": "stdout",
     "output_type": "stream",
     "text": [
      " * postgresql://student@/NIBRS\n",
      "Done.\n",
      "Done.\n"
     ]
    },
    {
     "data": {
      "text/plain": [
       "[]"
      ]
     },
     "execution_count": 233,
     "metadata": {},
     "output_type": "execute_result"
    }
   ],
   "source": [
    "%%sql\n",
    "DROP TABLE IF EXISTS ARRESTEE Cascade;\n",
    "\n",
    "CREATE TABLE ARRESTEE (\n",
    "  arrestee_id          Numeric(10)   NOT NULL,\n",
    "  incident_id          Numeric(10)   NOT NULL,\n",
    "  arrestee_seq_num     Numeric(10),\n",
    "  arrest_date          Date,\n",
    "  arrest_type_id       Numeric(4),\n",
    "  offense_code         VARCHAR(5)    NOT NULL,  \n",
    "  age_num              Numeric(3), \n",
    "  sex_code             CHAR(1),\n",
    "  race_id              Numeric(4)   NOT NULL,\n",
    "  ethnicity_id         Numeric(4),   \n",
    "PRIMARY KEY (arrestee_id),\n",
    "FOREIGN KEY (incident_id) REFERENCES INCIDENT (incident_id),\n",
    "FOREIGN KEY (offense_code) REFERENCES OFFENSE_TYPE(offense_code),\n",
    "FOREIGN KEY (race_id) REFERENCES RACE (race_id),\n",
    "FOREIGN KEY (ethnicity_id) REFERENCES ETHNICITY (ethnicity_id)    \n",
    ");"
   ]
  },
  {
   "cell_type": "markdown",
   "id": "5847d227-4ece-47a7-b592-e4cc479bfb81",
   "metadata": {
    "tags": []
   },
   "source": [
    "##### e) Load the data from CSV file"
   ]
  },
  {
   "cell_type": "code",
   "execution_count": 234,
   "id": "e324778d-b7b0-4a33-b78c-ae826730a4fe",
   "metadata": {},
   "outputs": [
    {
     "name": "stdout",
     "output_type": "stream",
     "text": [
      " * postgresql://student@/NIBRS\n",
      "39567 rows affected.\n"
     ]
    },
    {
     "data": {
      "text/plain": [
       "[]"
      ]
     },
     "execution_count": 234,
     "metadata": {},
     "output_type": "execute_result"
    }
   ],
   "source": [
    "%%sql\n",
    "COPY ARRESTEE FROM '/home/ubuntu/notebooks/Assignment2/arrestee.csv'\n",
    "CSV\n",
    "HEADER;"
   ]
  },
  {
   "cell_type": "markdown",
   "id": "1a94b02d-46c2-4811-ae88-5741047770bc",
   "metadata": {
    "tags": []
   },
   "source": [
    "##### e) Confirm whether the bulk loading is completed correctly"
   ]
  },
  {
   "cell_type": "code",
   "execution_count": 235,
   "id": "635778ab-ec59-4bf1-843f-849a4c3b8b69",
   "metadata": {},
   "outputs": [
    {
     "name": "stdout",
     "output_type": "stream",
     "text": [
      " * postgresql://student@/NIBRS\n",
      "10 rows affected.\n"
     ]
    },
    {
     "data": {
      "text/html": [
       "<table>\n",
       "    <thead>\n",
       "        <tr>\n",
       "            <th>arrestee_id</th>\n",
       "            <th>incident_id</th>\n",
       "            <th>arrestee_seq_num</th>\n",
       "            <th>arrest_date</th>\n",
       "            <th>arrest_type_id</th>\n",
       "            <th>offense_code</th>\n",
       "            <th>age_num</th>\n",
       "            <th>sex_code</th>\n",
       "            <th>race_id</th>\n",
       "            <th>ethnicity_id</th>\n",
       "        </tr>\n",
       "    </thead>\n",
       "    <tbody>\n",
       "        <tr>\n",
       "            <td>42182498</td>\n",
       "            <td>136580646</td>\n",
       "            <td>1</td>\n",
       "            <td>2021-01-01</td>\n",
       "            <td>1</td>\n",
       "            <td>90Z</td>\n",
       "            <td>36</td>\n",
       "            <td>F</td>\n",
       "            <td>10</td>\n",
       "            <td>50</td>\n",
       "        </tr>\n",
       "        <tr>\n",
       "            <td>42171748</td>\n",
       "            <td>136530548</td>\n",
       "            <td>1</td>\n",
       "            <td>2021-01-01</td>\n",
       "            <td>1</td>\n",
       "            <td>13B</td>\n",
       "            <td>40</td>\n",
       "            <td>F</td>\n",
       "            <td>10</td>\n",
       "            <td>50</td>\n",
       "        </tr>\n",
       "        <tr>\n",
       "            <td>42375950</td>\n",
       "            <td>137248920</td>\n",
       "            <td>1</td>\n",
       "            <td>2021-01-01</td>\n",
       "            <td>1</td>\n",
       "            <td>280</td>\n",
       "            <td>44</td>\n",
       "            <td>F</td>\n",
       "            <td>20</td>\n",
       "            <td>50</td>\n",
       "        </tr>\n",
       "        <tr>\n",
       "            <td>42215838</td>\n",
       "            <td>136694620</td>\n",
       "            <td>1</td>\n",
       "            <td>2021-01-01</td>\n",
       "            <td>1</td>\n",
       "            <td>13B</td>\n",
       "            <td>29</td>\n",
       "            <td>M</td>\n",
       "            <td>10</td>\n",
       "            <td>50</td>\n",
       "        </tr>\n",
       "        <tr>\n",
       "            <td>42148427</td>\n",
       "            <td>136456227</td>\n",
       "            <td>1</td>\n",
       "            <td>2021-01-01</td>\n",
       "            <td>1</td>\n",
       "            <td>13B</td>\n",
       "            <td>50</td>\n",
       "            <td>M</td>\n",
       "            <td>10</td>\n",
       "            <td>50</td>\n",
       "        </tr>\n",
       "        <tr>\n",
       "            <td>42194211</td>\n",
       "            <td>136621397</td>\n",
       "            <td>1</td>\n",
       "            <td>2021-01-01</td>\n",
       "            <td>1</td>\n",
       "            <td>35A</td>\n",
       "            <td>56</td>\n",
       "            <td>F</td>\n",
       "            <td>10</td>\n",
       "            <td>50</td>\n",
       "        </tr>\n",
       "        <tr>\n",
       "            <td>41446092</td>\n",
       "            <td>134174100</td>\n",
       "            <td>1</td>\n",
       "            <td>2021-01-01</td>\n",
       "            <td>2</td>\n",
       "            <td>35B</td>\n",
       "            <td>31</td>\n",
       "            <td>M</td>\n",
       "            <td>20</td>\n",
       "            <td>50</td>\n",
       "        </tr>\n",
       "        <tr>\n",
       "            <td>43309689</td>\n",
       "            <td>140531006</td>\n",
       "            <td>1</td>\n",
       "            <td>2021-01-01</td>\n",
       "            <td>1</td>\n",
       "            <td>13B</td>\n",
       "            <td>23</td>\n",
       "            <td>F</td>\n",
       "            <td>10</td>\n",
       "            <td>50</td>\n",
       "        </tr>\n",
       "        <tr>\n",
       "            <td>42495201</td>\n",
       "            <td>137690455</td>\n",
       "            <td>1</td>\n",
       "            <td>2021-01-01</td>\n",
       "            <td>1</td>\n",
       "            <td>520</td>\n",
       "            <td>53</td>\n",
       "            <td>M</td>\n",
       "            <td>10</td>\n",
       "            <td>50</td>\n",
       "        </tr>\n",
       "        <tr>\n",
       "            <td>41379097</td>\n",
       "            <td>134011096</td>\n",
       "            <td>1</td>\n",
       "            <td>2021-01-01</td>\n",
       "            <td>1</td>\n",
       "            <td>13B</td>\n",
       "            <td>25</td>\n",
       "            <td>M</td>\n",
       "            <td>10</td>\n",
       "            <td>50</td>\n",
       "        </tr>\n",
       "    </tbody>\n",
       "</table>"
      ],
      "text/plain": [
       "[(Decimal('42182498'), Decimal('136580646'), Decimal('1'), datetime.date(2021, 1, 1), Decimal('1'), '90Z', Decimal('36'), 'F', Decimal('10'), Decimal('50')),\n",
       " (Decimal('42171748'), Decimal('136530548'), Decimal('1'), datetime.date(2021, 1, 1), Decimal('1'), '13B', Decimal('40'), 'F', Decimal('10'), Decimal('50')),\n",
       " (Decimal('42375950'), Decimal('137248920'), Decimal('1'), datetime.date(2021, 1, 1), Decimal('1'), '280', Decimal('44'), 'F', Decimal('20'), Decimal('50')),\n",
       " (Decimal('42215838'), Decimal('136694620'), Decimal('1'), datetime.date(2021, 1, 1), Decimal('1'), '13B', Decimal('29'), 'M', Decimal('10'), Decimal('50')),\n",
       " (Decimal('42148427'), Decimal('136456227'), Decimal('1'), datetime.date(2021, 1, 1), Decimal('1'), '13B', Decimal('50'), 'M', Decimal('10'), Decimal('50')),\n",
       " (Decimal('42194211'), Decimal('136621397'), Decimal('1'), datetime.date(2021, 1, 1), Decimal('1'), '35A', Decimal('56'), 'F', Decimal('10'), Decimal('50')),\n",
       " (Decimal('41446092'), Decimal('134174100'), Decimal('1'), datetime.date(2021, 1, 1), Decimal('2'), '35B', Decimal('31'), 'M', Decimal('20'), Decimal('50')),\n",
       " (Decimal('43309689'), Decimal('140531006'), Decimal('1'), datetime.date(2021, 1, 1), Decimal('1'), '13B', Decimal('23'), 'F', Decimal('10'), Decimal('50')),\n",
       " (Decimal('42495201'), Decimal('137690455'), Decimal('1'), datetime.date(2021, 1, 1), Decimal('1'), '520', Decimal('53'), 'M', Decimal('10'), Decimal('50')),\n",
       " (Decimal('41379097'), Decimal('134011096'), Decimal('1'), datetime.date(2021, 1, 1), Decimal('1'), '13B', Decimal('25'), 'M', Decimal('10'), Decimal('50'))]"
      ]
     },
     "execution_count": 235,
     "metadata": {},
     "output_type": "execute_result"
    }
   ],
   "source": [
    "%%sql\n",
    "Select * from ARRESTEE\n",
    "limit 10;"
   ]
  },
  {
   "cell_type": "markdown",
   "id": "28b5dea0-be07-4450-b1a1-0665a69a2910",
   "metadata": {
    "tags": []
   },
   "source": [
    "## Part (3)\n",
    "For all tables, find the total number of rows loaded. Check your answer (using select queries) against the original text files (using Linux or csvkit commands) "
   ]
  },
  {
   "cell_type": "markdown",
   "id": "a50b9f84-3ff1-4ef1-94f6-9916f6ebdda7",
   "metadata": {
    "tags": []
   },
   "source": [
    "### Checking the data \n",
    "* We use 'SELECT COUNT' command to find the total number of rows loaded.\n",
    "* Then, we use 'WC -l' command to count the total number of rows in the original text files. We also use 'TAIL' command to count only the rows, excluding the header.\n",
    "* Finally, we compare the total row counts in the database tables to verify the data."
   ]
  },
  {
   "cell_type": "markdown",
   "id": "e269b88b-7bb5-4738-b539-5821718065ba",
   "metadata": {
    "tags": []
   },
   "source": [
    "#### 1. Incident Data Verification "
   ]
  },
  {
   "cell_type": "code",
   "execution_count": 236,
   "id": "4dff51cb-a768-4f98-affe-5e6e8ed3a06c",
   "metadata": {},
   "outputs": [
    {
     "name": "stdout",
     "output_type": "stream",
     "text": [
      " * postgresql://student@/NIBRS\n",
      "1 rows affected.\n"
     ]
    },
    {
     "data": {
      "text/html": [
       "<table>\n",
       "    <thead>\n",
       "        <tr>\n",
       "            <th>count</th>\n",
       "        </tr>\n",
       "    </thead>\n",
       "    <tbody>\n",
       "        <tr>\n",
       "            <td>118176</td>\n",
       "        </tr>\n",
       "    </tbody>\n",
       "</table>"
      ],
      "text/plain": [
       "[(118176,)]"
      ]
     },
     "execution_count": 236,
     "metadata": {},
     "output_type": "execute_result"
    }
   ],
   "source": [
    "%%sql \n",
    "\n",
    "SELECT COUNT(*) FROM INCIDENT"
   ]
  },
  {
   "cell_type": "code",
   "execution_count": 237,
   "id": "b0b67119-9a52-4881-81de-73af894042e7",
   "metadata": {},
   "outputs": [
    {
     "name": "stdout",
     "output_type": "stream",
     "text": [
      "118176\n"
     ]
    }
   ],
   "source": [
    "!tail -n +2 NIBRS_incident.csv | wc -l"
   ]
  },
  {
   "cell_type": "markdown",
   "id": "35ef3dea-e549-4092-9bd0-9fcca550bf30",
   "metadata": {},
   "source": [
    "##### Result: We verified that the total number of rows loaded is equal to 118176, matching the total number of rows in the original text file"
   ]
  },
  {
   "cell_type": "markdown",
   "id": "7699aad7-ee43-45d1-9da1-d097a19a46a0",
   "metadata": {},
   "source": [
    "We decided to remove the NIBRS_incident.csv file using the !rm command to clean our working directory, since we don't need it any longer. The selected columns, we need are in a new csv file named 'incident.csv'. This is the file we used to make our table and run PostgreSQL Queries with."
   ]
  },
  {
   "cell_type": "code",
   "execution_count": 238,
   "id": "3f542f2d-af74-41c2-8bce-d0d65e1be9be",
   "metadata": {
    "tags": []
   },
   "outputs": [],
   "source": [
    "!rm NIBRS_incident.csv"
   ]
  },
  {
   "cell_type": "markdown",
   "id": "f3d9c111-19ea-4e26-8841-e7c00a02e26a",
   "metadata": {
    "tags": []
   },
   "source": [
    "#### 2. Race Data Verification "
   ]
  },
  {
   "cell_type": "code",
   "execution_count": 239,
   "id": "274d28de-4cb2-47cb-9ecb-7055980fffba",
   "metadata": {},
   "outputs": [
    {
     "name": "stdout",
     "output_type": "stream",
     "text": [
      " * postgresql://student@/NIBRS\n",
      "1 rows affected.\n"
     ]
    },
    {
     "data": {
      "text/html": [
       "<table>\n",
       "    <thead>\n",
       "        <tr>\n",
       "            <th>count</th>\n",
       "        </tr>\n",
       "    </thead>\n",
       "    <tbody>\n",
       "        <tr>\n",
       "            <td>12</td>\n",
       "        </tr>\n",
       "    </tbody>\n",
       "</table>"
      ],
      "text/plain": [
       "[(12,)]"
      ]
     },
     "execution_count": 239,
     "metadata": {},
     "output_type": "execute_result"
    }
   ],
   "source": [
    "%%sql \n",
    "\n",
    "SELECT COUNT(*) FROM RACE"
   ]
  },
  {
   "cell_type": "code",
   "execution_count": 240,
   "id": "b5f89788-3942-4a8e-a043-2f378c5f0139",
   "metadata": {},
   "outputs": [
    {
     "name": "stdout",
     "output_type": "stream",
     "text": [
      "12\n"
     ]
    }
   ],
   "source": [
    "!tail -n +2 REF_RACE.csv | wc -l"
   ]
  },
  {
   "cell_type": "markdown",
   "id": "9c437dd6-8654-481d-badd-4d2ca2c896b2",
   "metadata": {},
   "source": [
    "##### Result: We verified that the total number of rows loaded is equal to 12, matching the total number of rows in the original text file"
   ]
  },
  {
   "cell_type": "markdown",
   "id": "9eff0001-0705-4726-9e6f-e29d5b78aa7e",
   "metadata": {
    "tags": []
   },
   "source": [
    "#### 3. Ethnicity Data Verification "
   ]
  },
  {
   "cell_type": "code",
   "execution_count": 241,
   "id": "ef0ea535-bfe6-4a9e-8c79-b715e0801446",
   "metadata": {},
   "outputs": [
    {
     "name": "stdout",
     "output_type": "stream",
     "text": [
      " * postgresql://student@/NIBRS\n",
      "1 rows affected.\n"
     ]
    },
    {
     "data": {
      "text/html": [
       "<table>\n",
       "    <thead>\n",
       "        <tr>\n",
       "            <th>count</th>\n",
       "        </tr>\n",
       "    </thead>\n",
       "    <tbody>\n",
       "        <tr>\n",
       "            <td>5</td>\n",
       "        </tr>\n",
       "    </tbody>\n",
       "</table>"
      ],
      "text/plain": [
       "[(5,)]"
      ]
     },
     "execution_count": 241,
     "metadata": {},
     "output_type": "execute_result"
    }
   ],
   "source": [
    "%%sql \n",
    "\n",
    "SELECT COUNT(*) FROM ETHNICITY "
   ]
  },
  {
   "cell_type": "code",
   "execution_count": 242,
   "id": "566fbcaf-0d08-4838-b57c-57f43e7a2534",
   "metadata": {},
   "outputs": [
    {
     "name": "stdout",
     "output_type": "stream",
     "text": [
      "5\n"
     ]
    }
   ],
   "source": [
    "!tail -n +2 NIBRS_ETHNICITY.csv | wc -l"
   ]
  },
  {
   "cell_type": "markdown",
   "id": "5c9b3ef3-7bdf-44ab-beac-321b8428c21d",
   "metadata": {},
   "source": [
    "##### Result: We verified that the total number of rows loaded is equal to 5, matching the total number of rows in the original text file"
   ]
  },
  {
   "cell_type": "markdown",
   "id": "a96987e2-9696-40d6-ba6d-b0b17f664c5b",
   "metadata": {
    "tags": []
   },
   "source": [
    "#### 4. Location Type Data Verification "
   ]
  },
  {
   "cell_type": "code",
   "execution_count": 243,
   "id": "df952fc0-d8ad-4f43-b9a0-e6d06f313535",
   "metadata": {},
   "outputs": [
    {
     "name": "stdout",
     "output_type": "stream",
     "text": [
      " * postgresql://student@/NIBRS\n",
      "1 rows affected.\n"
     ]
    },
    {
     "data": {
      "text/html": [
       "<table>\n",
       "    <thead>\n",
       "        <tr>\n",
       "            <th>count</th>\n",
       "        </tr>\n",
       "    </thead>\n",
       "    <tbody>\n",
       "        <tr>\n",
       "            <td>47</td>\n",
       "        </tr>\n",
       "    </tbody>\n",
       "</table>"
      ],
      "text/plain": [
       "[(47,)]"
      ]
     },
     "execution_count": 243,
     "metadata": {},
     "output_type": "execute_result"
    }
   ],
   "source": [
    "%%sql \n",
    "\n",
    "SELECT COUNT(*) FROM LOCATION_TYPE"
   ]
  },
  {
   "cell_type": "code",
   "execution_count": 244,
   "id": "be53d103-577a-4949-992b-2b1bf0e4977a",
   "metadata": {},
   "outputs": [
    {
     "name": "stdout",
     "output_type": "stream",
     "text": [
      "47\n"
     ]
    }
   ],
   "source": [
    "!tail -n +2 NIBRS_LOCATION_TYPE.csv | wc -l"
   ]
  },
  {
   "cell_type": "markdown",
   "id": "32d5389a-92f8-4d7d-bf3d-7cb5888b25b7",
   "metadata": {},
   "source": [
    "##### Result: We verified that the total number of rows loaded is equal to 47, matching the total number of rows in the original text file"
   ]
  },
  {
   "cell_type": "markdown",
   "id": "4fc739b0-5ad9-4412-99bf-9803a4200fd0",
   "metadata": {
    "tags": []
   },
   "source": [
    "#### 5. Offender Data Verification "
   ]
  },
  {
   "cell_type": "code",
   "execution_count": 245,
   "id": "e595e9aa-9c01-4d0e-9e81-afc60f8b3526",
   "metadata": {},
   "outputs": [
    {
     "name": "stdout",
     "output_type": "stream",
     "text": [
      " * postgresql://student@/NIBRS\n",
      "1 rows affected.\n"
     ]
    },
    {
     "data": {
      "text/html": [
       "<table>\n",
       "    <thead>\n",
       "        <tr>\n",
       "            <th>count</th>\n",
       "        </tr>\n",
       "    </thead>\n",
       "    <tbody>\n",
       "        <tr>\n",
       "            <td>131342</td>\n",
       "        </tr>\n",
       "    </tbody>\n",
       "</table>"
      ],
      "text/plain": [
       "[(131342,)]"
      ]
     },
     "execution_count": 245,
     "metadata": {},
     "output_type": "execute_result"
    }
   ],
   "source": [
    "%%sql \n",
    "\n",
    "SELECT COUNT(*) FROM OFFENDER"
   ]
  },
  {
   "cell_type": "code",
   "execution_count": 246,
   "id": "ad928978-cf1e-4631-9f5e-793df54612c0",
   "metadata": {},
   "outputs": [
    {
     "name": "stdout",
     "output_type": "stream",
     "text": [
      "131342\n"
     ]
    }
   ],
   "source": [
    "!tail -n +2 NIBRS_OFFENDER.csv | wc -l"
   ]
  },
  {
   "cell_type": "markdown",
   "id": "b77162c6-e21c-4c61-863a-d14461651722",
   "metadata": {
    "tags": []
   },
   "source": [
    "##### Result: We verified that the total number of rows loaded is equal to 131342, matching the total number of rows in the original text file"
   ]
  },
  {
   "cell_type": "markdown",
   "id": "63f7cfbb-682b-4327-a48a-a76063e369e2",
   "metadata": {},
   "source": [
    "We decided to remove the NIBRS_OFFENDER.csv file using the !rm command to clean our working directory, since we don't need it any longer. The selected columns, we need are in a new csv file named 'offense.csv'. This is the file we used to make our table and run PostgreSQL Queries with."
   ]
  },
  {
   "cell_type": "code",
   "execution_count": 247,
   "id": "91483119-034c-4430-97f7-4ecb900c0c8a",
   "metadata": {},
   "outputs": [],
   "source": [
    "!rm NIBRS_OFFENDER.csv"
   ]
  },
  {
   "cell_type": "markdown",
   "id": "62f40e87-aadb-46e7-932d-4cc6eb9206ee",
   "metadata": {
    "tags": [],
    "toc-hr-collapsed": true
   },
   "source": [
    "#### 6. Offense Type Data Verification "
   ]
  },
  {
   "cell_type": "code",
   "execution_count": 248,
   "id": "38a87c61-dde2-4fa1-b894-e2d47f61cb78",
   "metadata": {},
   "outputs": [
    {
     "name": "stdout",
     "output_type": "stream",
     "text": [
      " * postgresql://student@/NIBRS\n",
      "1 rows affected.\n"
     ]
    },
    {
     "data": {
      "text/html": [
       "<table>\n",
       "    <thead>\n",
       "        <tr>\n",
       "            <th>count</th>\n",
       "        </tr>\n",
       "    </thead>\n",
       "    <tbody>\n",
       "        <tr>\n",
       "            <td>86</td>\n",
       "        </tr>\n",
       "    </tbody>\n",
       "</table>"
      ],
      "text/plain": [
       "[(86,)]"
      ]
     },
     "execution_count": 248,
     "metadata": {},
     "output_type": "execute_result"
    }
   ],
   "source": [
    "%%sql \n",
    "\n",
    "SELECT COUNT(*) FROM OFFENSE_TYPE"
   ]
  },
  {
   "cell_type": "code",
   "execution_count": 249,
   "id": "27e7b042-7f56-4109-a627-536dcf821f41",
   "metadata": {},
   "outputs": [
    {
     "name": "stdout",
     "output_type": "stream",
     "text": [
      "86\n"
     ]
    }
   ],
   "source": [
    "!tail -n +2 NIBRS_OFFENSE_TYPE.csv | wc -l"
   ]
  },
  {
   "cell_type": "markdown",
   "id": "3d299cd4-486e-40da-82a0-d08e4f6428a5",
   "metadata": {},
   "source": [
    "##### Result: We verified that the total number of rows loaded is equal to 86, matching the total number of rows in the original text file"
   ]
  },
  {
   "cell_type": "markdown",
   "id": "e5668266-9470-4b47-a64f-bbfacfe9028e",
   "metadata": {},
   "source": [
    "We decided to remove the NIBRS_OFFENDER_TYPE.csv file using the !rm command to clean our working directory, since we don't need it any longer. The selected columns, we need are in a new csv file named 'offense_type.csv'. This is the file we used to make our table and run PostgreSQL Queries with."
   ]
  },
  {
   "cell_type": "code",
   "execution_count": 250,
   "id": "3c4aaf43-8229-428f-9376-8217e5be09d7",
   "metadata": {},
   "outputs": [],
   "source": [
    "!rm NIBRS_OFFENSE_TYPE.csv"
   ]
  },
  {
   "cell_type": "markdown",
   "id": "49f19147-d0ed-4f9c-823f-f535dc2ce671",
   "metadata": {
    "tags": []
   },
   "source": [
    "#### 7. Offense Data Verification "
   ]
  },
  {
   "cell_type": "code",
   "execution_count": 251,
   "id": "dfe21064-8ef1-4f7f-a71c-eaf59036003d",
   "metadata": {},
   "outputs": [
    {
     "name": "stdout",
     "output_type": "stream",
     "text": [
      " * postgresql://student@/NIBRS\n",
      "1 rows affected.\n"
     ]
    },
    {
     "data": {
      "text/html": [
       "<table>\n",
       "    <thead>\n",
       "        <tr>\n",
       "            <th>count</th>\n",
       "        </tr>\n",
       "    </thead>\n",
       "    <tbody>\n",
       "        <tr>\n",
       "            <td>136848</td>\n",
       "        </tr>\n",
       "    </tbody>\n",
       "</table>"
      ],
      "text/plain": [
       "[(136848,)]"
      ]
     },
     "execution_count": 251,
     "metadata": {},
     "output_type": "execute_result"
    }
   ],
   "source": [
    "%%sql \n",
    "\n",
    "SELECT COUNT(*) FROM OFFENSE"
   ]
  },
  {
   "cell_type": "code",
   "execution_count": 252,
   "id": "15336baa-402c-4432-a596-42e6f69c7468",
   "metadata": {},
   "outputs": [
    {
     "name": "stdout",
     "output_type": "stream",
     "text": [
      "136848\n"
     ]
    }
   ],
   "source": [
    "!tail -n +2 NIBRS_OFFENSE.csv | wc -l"
   ]
  },
  {
   "cell_type": "markdown",
   "id": "366b96d3-e4aa-4aec-a088-dbb1862bdbcf",
   "metadata": {},
   "source": [
    "##### Result: We verified that the total number of rows loaded is equal to 136848, matching the total number of rows in the original text file"
   ]
  },
  {
   "cell_type": "markdown",
   "id": "e71f5378-26ba-47a1-ad09-f6078a240f1c",
   "metadata": {},
   "source": [
    "We decided to remove the NIBRS_OFFENSE.csv file using the !rm command to clean our working directory, since we don't need it any longer. The selected columns, we need are in a new csv file named 'offense.csv'. This is the file we used to make our table and run PostgreSQL Queries with."
   ]
  },
  {
   "cell_type": "code",
   "execution_count": 253,
   "id": "72f3f978-4756-4998-8381-54baa978627a",
   "metadata": {},
   "outputs": [],
   "source": [
    "!rm NIBRS_OFFENSE.csv"
   ]
  },
  {
   "cell_type": "markdown",
   "id": "6a83acac-f9ce-4fd9-8e75-091464ba45ab",
   "metadata": {
    "tags": []
   },
   "source": [
    "#### 8. Relationship Data Verification "
   ]
  },
  {
   "cell_type": "code",
   "execution_count": 254,
   "id": "e9d79495-24db-40c9-9281-1047b33292a7",
   "metadata": {},
   "outputs": [
    {
     "name": "stdout",
     "output_type": "stream",
     "text": [
      " * postgresql://student@/NIBRS\n",
      "1 rows affected.\n"
     ]
    },
    {
     "data": {
      "text/html": [
       "<table>\n",
       "    <thead>\n",
       "        <tr>\n",
       "            <th>count</th>\n",
       "        </tr>\n",
       "    </thead>\n",
       "    <tbody>\n",
       "        <tr>\n",
       "            <td>27</td>\n",
       "        </tr>\n",
       "    </tbody>\n",
       "</table>"
      ],
      "text/plain": [
       "[(27,)]"
      ]
     },
     "execution_count": 254,
     "metadata": {},
     "output_type": "execute_result"
    }
   ],
   "source": [
    "%%sql \n",
    "\n",
    "SELECT COUNT(*) FROM RELATIONSHIP"
   ]
  },
  {
   "cell_type": "code",
   "execution_count": 255,
   "id": "8cd2538c-0e4a-481d-a798-e14cb64460ad",
   "metadata": {},
   "outputs": [
    {
     "name": "stdout",
     "output_type": "stream",
     "text": [
      "27\n"
     ]
    }
   ],
   "source": [
    "!tail -n +2 NIBRS_RELATIONSHIP.csv | wc -l"
   ]
  },
  {
   "cell_type": "markdown",
   "id": "88017093-70cf-472e-883a-36d91cc6905a",
   "metadata": {},
   "source": [
    "##### Result: We verified that the total number of rows loaded is equal to 27, matching the total number of rows in the original text file"
   ]
  },
  {
   "cell_type": "markdown",
   "id": "e710351e-2da1-4bc5-aae2-e43c591dd9e6",
   "metadata": {
    "tags": []
   },
   "source": [
    "#### 9. Victim Type Data Verification "
   ]
  },
  {
   "cell_type": "code",
   "execution_count": 256,
   "id": "34aa8313-ec9a-46fd-8025-0294d439c2d2",
   "metadata": {},
   "outputs": [
    {
     "name": "stdout",
     "output_type": "stream",
     "text": [
      " * postgresql://student@/NIBRS\n",
      "1 rows affected.\n"
     ]
    },
    {
     "data": {
      "text/html": [
       "<table>\n",
       "    <thead>\n",
       "        <tr>\n",
       "            <th>count</th>\n",
       "        </tr>\n",
       "    </thead>\n",
       "    <tbody>\n",
       "        <tr>\n",
       "            <td>9</td>\n",
       "        </tr>\n",
       "    </tbody>\n",
       "</table>"
      ],
      "text/plain": [
       "[(9,)]"
      ]
     },
     "execution_count": 256,
     "metadata": {},
     "output_type": "execute_result"
    }
   ],
   "source": [
    "%%sql \n",
    "\n",
    "SELECT COUNT(*) FROM VICTIM_TYPE"
   ]
  },
  {
   "cell_type": "code",
   "execution_count": 257,
   "id": "2b372732-791d-44e1-85b4-f7c68938293d",
   "metadata": {},
   "outputs": [
    {
     "name": "stdout",
     "output_type": "stream",
     "text": [
      "9\n"
     ]
    }
   ],
   "source": [
    "!tail -n +2 NIBRS_VICTIM_TYPE.csv | wc -l"
   ]
  },
  {
   "cell_type": "markdown",
   "id": "5ec42a9a-8fad-477c-ab8c-84aae0f0a297",
   "metadata": {
    "tags": []
   },
   "source": [
    "##### Result: We verified that the total number of rows loaded is equal to 9, matching the total number of rows in the original text file"
   ]
  },
  {
   "cell_type": "markdown",
   "id": "ce87ae58-ec91-4e01-b47d-f4b7f7b34eb1",
   "metadata": {
    "tags": []
   },
   "source": [
    "#### 10. Victim Data Verification "
   ]
  },
  {
   "cell_type": "code",
   "execution_count": 258,
   "id": "e898343f-0d76-47f1-8a7c-0930ea5bfcf7",
   "metadata": {},
   "outputs": [
    {
     "name": "stdout",
     "output_type": "stream",
     "text": [
      " * postgresql://student@/NIBRS\n",
      "1 rows affected.\n"
     ]
    },
    {
     "data": {
      "text/html": [
       "<table>\n",
       "    <thead>\n",
       "        <tr>\n",
       "            <th>count</th>\n",
       "        </tr>\n",
       "    </thead>\n",
       "    <tbody>\n",
       "        <tr>\n",
       "            <td>133987</td>\n",
       "        </tr>\n",
       "    </tbody>\n",
       "</table>"
      ],
      "text/plain": [
       "[(133987,)]"
      ]
     },
     "execution_count": 258,
     "metadata": {},
     "output_type": "execute_result"
    }
   ],
   "source": [
    "%%sql \n",
    "\n",
    "SELECT COUNT(*) FROM VICTIM"
   ]
  },
  {
   "cell_type": "code",
   "execution_count": 259,
   "id": "5efe70bb-1705-4049-927a-0d3800132a28",
   "metadata": {},
   "outputs": [
    {
     "name": "stdout",
     "output_type": "stream",
     "text": [
      "133987\n"
     ]
    }
   ],
   "source": [
    "!tail -n +2 NIBRS_VICTIM.csv | wc -l"
   ]
  },
  {
   "cell_type": "markdown",
   "id": "fcfb2e46-7d72-4c81-8e2f-cf36ce01078d",
   "metadata": {
    "tags": []
   },
   "source": [
    "##### Result: We verified that the total number of rows loaded is equal to 133987, matching the total number of rows in the original text file"
   ]
  },
  {
   "cell_type": "markdown",
   "id": "96b0e5b3-1af4-4635-94bb-f21813b4fbc5",
   "metadata": {},
   "source": [
    "We decided to remove the NIBRS_VICTIM.csv file using the !rm command to clean our working directory, since we don't need it any longer. The selected columns, we need are in a new csv file named 'victim.csv'. This is the file we used to make our table and run PostgreSQL Queries with."
   ]
  },
  {
   "cell_type": "code",
   "execution_count": 260,
   "id": "fbdeaa06-62c6-4404-ad0e-60dcfd5f2584",
   "metadata": {},
   "outputs": [],
   "source": [
    "!rm NIBRS_VICTIM.csv"
   ]
  },
  {
   "cell_type": "markdown",
   "id": "8104abc8-021d-43b5-bebf-e7e17da9cb23",
   "metadata": {
    "tags": []
   },
   "source": [
    "#### 11. Victim Offender Relationship Data Verification "
   ]
  },
  {
   "cell_type": "code",
   "execution_count": 261,
   "id": "db9aaa5f-3f07-4130-ae03-5e323e639ccb",
   "metadata": {},
   "outputs": [
    {
     "name": "stdout",
     "output_type": "stream",
     "text": [
      " * postgresql://student@/NIBRS\n",
      "1 rows affected.\n"
     ]
    },
    {
     "data": {
      "text/html": [
       "<table>\n",
       "    <thead>\n",
       "        <tr>\n",
       "            <th>count</th>\n",
       "        </tr>\n",
       "    </thead>\n",
       "    <tbody>\n",
       "        <tr>\n",
       "            <td>39187</td>\n",
       "        </tr>\n",
       "    </tbody>\n",
       "</table>"
      ],
      "text/plain": [
       "[(39187,)]"
      ]
     },
     "execution_count": 261,
     "metadata": {},
     "output_type": "execute_result"
    }
   ],
   "source": [
    "%%sql \n",
    "SELECT COUNT(*) FROM VICTIM_OFFENDER_REL"
   ]
  },
  {
   "cell_type": "code",
   "execution_count": 262,
   "id": "07d96d77-52d2-42cf-bd50-fe8c8cf2f8af",
   "metadata": {},
   "outputs": [
    {
     "name": "stdout",
     "output_type": "stream",
     "text": [
      "39187\n"
     ]
    }
   ],
   "source": [
    "!tail -n +2 NIBRS_VICTIM_OFFENDER_REL.csv | wc -l"
   ]
  },
  {
   "cell_type": "markdown",
   "id": "b3bb11da-0fb4-4a65-a13c-f344c34b3448",
   "metadata": {},
   "source": [
    "##### Result: We verified that the total number of rows loaded is equal to 39187, matching the total number of rows in the original text file"
   ]
  },
  {
   "cell_type": "markdown",
   "id": "93256bd0-bfd3-43b3-9c8a-cf8363491b9c",
   "metadata": {},
   "source": [
    "We decided to remove the NIBRS_VICTIM_OFFENDER_REL.csv file using the !rm command to clean our working directory, since we don't need it any longer. The selected columns, we need are in a new csv file named 'victim_offender_rel.csv'. This is the file we used to make our table and run PostgreSQL Queries with."
   ]
  },
  {
   "cell_type": "code",
   "execution_count": 263,
   "id": "0101a5e7-1048-4500-a1f5-82133899b71c",
   "metadata": {},
   "outputs": [],
   "source": [
    "!rm NIBRS_VICTIM_OFFENDER_REL.csv"
   ]
  },
  {
   "cell_type": "markdown",
   "id": "7f6c45a1-026e-4337-bdd7-59d9f7d29352",
   "metadata": {
    "tags": []
   },
   "source": [
    "#### 12. Victim_Offense Data Verification "
   ]
  },
  {
   "cell_type": "code",
   "execution_count": 264,
   "id": "07a49087-31a8-4fa3-9b40-a19172d21a7f",
   "metadata": {},
   "outputs": [
    {
     "name": "stdout",
     "output_type": "stream",
     "text": [
      " * postgresql://student@/NIBRS\n",
      "1 rows affected.\n"
     ]
    },
    {
     "data": {
      "text/html": [
       "<table>\n",
       "    <thead>\n",
       "        <tr>\n",
       "            <th>count</th>\n",
       "        </tr>\n",
       "    </thead>\n",
       "    <tbody>\n",
       "        <tr>\n",
       "            <td>148672</td>\n",
       "        </tr>\n",
       "    </tbody>\n",
       "</table>"
      ],
      "text/plain": [
       "[(148672,)]"
      ]
     },
     "execution_count": 264,
     "metadata": {},
     "output_type": "execute_result"
    }
   ],
   "source": [
    "%%sql \n",
    "\n",
    "SELECT COUNT(*) FROM VICTIM_OFFENSE"
   ]
  },
  {
   "cell_type": "code",
   "execution_count": 265,
   "id": "9ec9d440-5f4a-41b4-aa18-d1a943a47819",
   "metadata": {},
   "outputs": [
    {
     "name": "stdout",
     "output_type": "stream",
     "text": [
      "148672\n"
     ]
    }
   ],
   "source": [
    "!tail -n +2 NIBRS_VICTIM_OFFENSE.csv | wc -l"
   ]
  },
  {
   "cell_type": "markdown",
   "id": "37debbcc-bc93-441a-86e8-f6665655e582",
   "metadata": {},
   "source": [
    "##### Result: We verified that the total number of rows loaded is equal to 148672, matching the total number of rows in the original text file"
   ]
  },
  {
   "cell_type": "markdown",
   "id": "293ea5d4-bdc6-47a2-93bc-a20190d0c7cd",
   "metadata": {},
   "source": [
    "We decided to remove the NIBRS_VICTIM_OFFENSE.csv file using the !rm command to clean our working directory, since we don't need it any longer. The selected columns, we need are in a new csv file named 'victim_offense.csv'. This is the file we used to make our table and run PostgreSQL Queries with."
   ]
  },
  {
   "cell_type": "code",
   "execution_count": 266,
   "id": "74d0ea8e-5672-4ca9-8ed7-9fd8cff9afe2",
   "metadata": {
    "tags": []
   },
   "outputs": [],
   "source": [
    "!rm NIBRS_VICTIM_OFFENSE.csv"
   ]
  },
  {
   "cell_type": "markdown",
   "id": "52a1abd7-4467-47f4-abd2-7f2f06ef4186",
   "metadata": {
    "tags": []
   },
   "source": [
    "#### 13. Arrestee Data Verification "
   ]
  },
  {
   "cell_type": "code",
   "execution_count": 267,
   "id": "e90cc4af-fb90-497e-b888-447734c9c5ab",
   "metadata": {
    "tags": []
   },
   "outputs": [
    {
     "name": "stdout",
     "output_type": "stream",
     "text": [
      " * postgresql://student@/NIBRS\n",
      "1 rows affected.\n"
     ]
    },
    {
     "data": {
      "text/html": [
       "<table>\n",
       "    <thead>\n",
       "        <tr>\n",
       "            <th>count</th>\n",
       "        </tr>\n",
       "    </thead>\n",
       "    <tbody>\n",
       "        <tr>\n",
       "            <td>39567</td>\n",
       "        </tr>\n",
       "    </tbody>\n",
       "</table>"
      ],
      "text/plain": [
       "[(39567,)]"
      ]
     },
     "execution_count": 267,
     "metadata": {},
     "output_type": "execute_result"
    }
   ],
   "source": [
    "%%sql \n",
    "SELECT COUNT(*) FROM ARRESTEE"
   ]
  },
  {
   "cell_type": "code",
   "execution_count": 268,
   "id": "8f576777-ea0b-4a31-85fe-dafd14cffb5c",
   "metadata": {
    "tags": []
   },
   "outputs": [
    {
     "name": "stdout",
     "output_type": "stream",
     "text": [
      "39567\n"
     ]
    }
   ],
   "source": [
    "!tail -n +2 NIBRS_ARRESTEE.csv | wc -l"
   ]
  },
  {
   "cell_type": "markdown",
   "id": "160c95f8-4f93-42e4-b4cc-835526f1bf48",
   "metadata": {},
   "source": [
    "##### Result: We verified that the total number of rows loaded is equal to 39567, matching the total number of rows in the original text file"
   ]
  },
  {
   "cell_type": "markdown",
   "id": "88d0cef4-ef51-41e5-9ebe-3d56d1c98891",
   "metadata": {},
   "source": [
    "We decided to remove the NIBRS_ARRESTEE.csv file using the !rm command to clean our working directory, since we don't need it any longer. The selected columns, we need are in a new csv file named 'arrestee.csv'. This is the file we used to make our table and run PostgreSQL Queries with."
   ]
  },
  {
   "cell_type": "code",
   "execution_count": 269,
   "id": "9f544c65-0a29-4d77-989d-b0e0b350b8f7",
   "metadata": {},
   "outputs": [],
   "source": [
    "!rm NIBRS_ARRESTEE.csv"
   ]
  },
  {
   "cell_type": "markdown",
   "id": "45cf6e33-f674-481d-95ec-1ab8fc1d667a",
   "metadata": {
    "tags": [],
    "toc-hr-collapsed": true
   },
   "source": [
    "## Part (4)"
   ]
  },
  {
   "cell_type": "markdown",
   "id": "568c7b9f-52d4-46e7-acf7-3c4cae5dad2f",
   "metadata": {
    "tags": []
   },
   "source": [
    "### Part 4A\n",
    "#### Write a query to determine the top 5 offenses and bottom 5 offenses in terms of the total number of offenses committed. In the query provide the Offense code, offense name, Offense category, and the number of offenses."
   ]
  },
  {
   "cell_type": "markdown",
   "id": "cb2e8024-2b6c-44d7-8e75-87890660f4ed",
   "metadata": {},
   "source": [
    "##### Top 5 Type of Offenses"
   ]
  },
  {
   "cell_type": "code",
   "execution_count": 270,
   "id": "8ab007d4-3b08-4373-a703-1c3346a4f458",
   "metadata": {},
   "outputs": [
    {
     "name": "stdout",
     "output_type": "stream",
     "text": [
      " * postgresql://student@/NIBRS\n",
      "5 rows affected.\n"
     ]
    },
    {
     "data": {
      "text/html": [
       "<table>\n",
       "    <thead>\n",
       "        <tr>\n",
       "            <th>Offense Code</th>\n",
       "            <th>Offense Name</th>\n",
       "            <th>Offense Category</th>\n",
       "            <th>number_of_offenses</th>\n",
       "        </tr>\n",
       "    </thead>\n",
       "    <tbody>\n",
       "        <tr>\n",
       "            <td>13B</td>\n",
       "            <td>Simple Assault</td>\n",
       "            <td>Assault Offenses</td>\n",
       "            <td>17800</td>\n",
       "        </tr>\n",
       "        <tr>\n",
       "            <td>290</td>\n",
       "            <td>Destruction/Damage/Vandalism of Property</td>\n",
       "            <td>Destruction/Damage/Vandalism of Property</td>\n",
       "            <td>14837</td>\n",
       "        </tr>\n",
       "        <tr>\n",
       "            <td>23F</td>\n",
       "            <td>Theft From Motor Vehicle</td>\n",
       "            <td>Larceny/Theft Offenses</td>\n",
       "            <td>14521</td>\n",
       "        </tr>\n",
       "        <tr>\n",
       "            <td>35A</td>\n",
       "            <td>Drug/Narcotic Violations</td>\n",
       "            <td>Drug/Narcotic Offenses</td>\n",
       "            <td>13868</td>\n",
       "        </tr>\n",
       "        <tr>\n",
       "            <td>23H</td>\n",
       "            <td>All Other Larceny</td>\n",
       "            <td>Larceny/Theft Offenses</td>\n",
       "            <td>11535</td>\n",
       "        </tr>\n",
       "    </tbody>\n",
       "</table>"
      ],
      "text/plain": [
       "[('13B', 'Simple Assault', 'Assault Offenses', 17800),\n",
       " ('290', 'Destruction/Damage/Vandalism of Property', 'Destruction/Damage/Vandalism of Property', 14837),\n",
       " ('23F', 'Theft From Motor Vehicle', 'Larceny/Theft Offenses', 14521),\n",
       " ('35A', 'Drug/Narcotic Violations', 'Drug/Narcotic Offenses', 13868),\n",
       " ('23H', 'All Other Larceny', 'Larceny/Theft Offenses', 11535)]"
      ]
     },
     "execution_count": 270,
     "metadata": {},
     "output_type": "execute_result"
    }
   ],
   "source": [
    "%%sql\n",
    "\n",
    "SELECT \n",
    "    O.OFFENSE_CODE as \"Offense Code\", \n",
    "    OT.OFFENSE_NAME as \"Offense Name\", \n",
    "    OT.OFFENSE_CATEGORY_NAME as \"Offense Category\", \n",
    "    count(*) number_of_offenses\n",
    "FROM \n",
    "    OFFENSE O, \n",
    "    OFFENSE_TYPE OT\n",
    "WHERE \n",
    "    O.OFFENSE_CODE = OT.OFFENSE_CODE -- Offense Code is a PK in OFFENSE and FK in OFFENSE_TYPE Entity\n",
    "GROUP BY \n",
    "    O.OFFENSE_CODE,\n",
    "    OT.OFFENSE_NAME, \n",
    "    OT.OFFENSE_CATEGORY_NAME\n",
    "ORDER BY \n",
    "    number_of_offenses DESC\n",
    "limit 5;"
   ]
  },
  {
   "cell_type": "markdown",
   "id": "1c317a84-1c20-4707-bf3f-4012c25c9a14",
   "metadata": {},
   "source": [
    "##### Bottom 5 Type of Offenses"
   ]
  },
  {
   "cell_type": "code",
   "execution_count": 271,
   "id": "7157b10e-1266-4ec0-8fee-36b96825ce50",
   "metadata": {},
   "outputs": [
    {
     "name": "stdout",
     "output_type": "stream",
     "text": [
      " * postgresql://student@/NIBRS\n",
      "5 rows affected.\n"
     ]
    },
    {
     "data": {
      "text/html": [
       "<table>\n",
       "    <thead>\n",
       "        <tr>\n",
       "            <th>Offense Code</th>\n",
       "            <th>Offense Name</th>\n",
       "            <th>Offense Category</th>\n",
       "            <th>number_of_offenses</th>\n",
       "        </tr>\n",
       "    </thead>\n",
       "    <tbody>\n",
       "        <tr>\n",
       "            <td>39B</td>\n",
       "            <td>Operating/Promoting/Assisting Gambling</td>\n",
       "            <td>Gambling Offenses</td>\n",
       "            <td>1</td>\n",
       "        </tr>\n",
       "        <tr>\n",
       "            <td>49A</td>\n",
       "            <td>Harboring Escapee/Concealing from Arrest</td>\n",
       "            <td>Other Offenses</td>\n",
       "            <td>1</td>\n",
       "        </tr>\n",
       "        <tr>\n",
       "            <td>09B</td>\n",
       "            <td>Negligent Manslaughter</td>\n",
       "            <td>Homicide Offenses</td>\n",
       "            <td>1</td>\n",
       "        </tr>\n",
       "        <tr>\n",
       "            <td>39A</td>\n",
       "            <td>Betting/Wagering</td>\n",
       "            <td>Gambling Offenses</td>\n",
       "            <td>1</td>\n",
       "        </tr>\n",
       "        <tr>\n",
       "            <td>09C</td>\n",
       "            <td>Justifiable Homicide</td>\n",
       "            <td>Homicide Offenses</td>\n",
       "            <td>2</td>\n",
       "        </tr>\n",
       "    </tbody>\n",
       "</table>"
      ],
      "text/plain": [
       "[('39B', 'Operating/Promoting/Assisting Gambling', 'Gambling Offenses', 1),\n",
       " ('49A', 'Harboring Escapee/Concealing from Arrest', 'Other Offenses', 1),\n",
       " ('09B', 'Negligent Manslaughter', 'Homicide Offenses', 1),\n",
       " ('39A', 'Betting/Wagering', 'Gambling Offenses', 1),\n",
       " ('09C', 'Justifiable Homicide', 'Homicide Offenses', 2)]"
      ]
     },
     "execution_count": 271,
     "metadata": {},
     "output_type": "execute_result"
    }
   ],
   "source": [
    "%%sql\n",
    "\n",
    "SELECT \n",
    "    O.OFFENSE_CODE as \"Offense Code\", \n",
    "    OT.OFFENSE_NAME as \"Offense Name\", \n",
    "    OT.OFFENSE_CATEGORY_NAME as \"Offense Category\", \n",
    "    count(*) number_of_offenses\n",
    "FROM \n",
    "    OFFENSE O, \n",
    "    OFFENSE_TYPE OT\n",
    "WHERE \n",
    "    O.OFFENSE_CODE = OT.OFFENSE_CODE -- Offense Code is a PK in OFFENSE and FK in OFFENSE TYPE Entity\n",
    "GROUP BY \n",
    "    O.OFFENSE_CODE,\n",
    "    OT.OFFENSE_NAME, \n",
    "    OT.OFFENSE_CATEGORY_NAME\n",
    "ORDER BY \n",
    "    number_of_offenses\n",
    "limit 5;"
   ]
  },
  {
   "cell_type": "markdown",
   "id": "ce1f4499-6808-4ec3-a0ee-58142bf44d28",
   "metadata": {
    "tags": []
   },
   "source": [
    "### Part 4B \n",
    "#### Write a query to find the distribution of victims by sex and race and offense location. Only include victims of type “Individual”. In the query, provide the sex, race, location, and count of offenses"
   ]
  },
  {
   "cell_type": "markdown",
   "id": "3cf13679-f421-4e41-b3ee-9c426768c357",
   "metadata": {},
   "source": [
    "Note: We put a limit of 10 on the ouput of the query. To see more rows for the same query, change the limit in the last row"
   ]
  },
  {
   "cell_type": "code",
   "execution_count": 272,
   "id": "7578a755-fca1-423f-acc1-f83fb9e2db77",
   "metadata": {},
   "outputs": [
    {
     "name": "stdout",
     "output_type": "stream",
     "text": [
      " * postgresql://student@/NIBRS\n",
      "10 rows affected.\n"
     ]
    },
    {
     "data": {
      "text/html": [
       "<table>\n",
       "    <thead>\n",
       "        <tr>\n",
       "            <th>sex</th>\n",
       "            <th>race</th>\n",
       "            <th>offense_location</th>\n",
       "            <th>count_of_offenses</th>\n",
       "        </tr>\n",
       "    </thead>\n",
       "    <tbody>\n",
       "        <tr>\n",
       "            <td>F</td>\n",
       "            <td>White</td>\n",
       "            <td>Residence/Home</td>\n",
       "            <td>15376</td>\n",
       "        </tr>\n",
       "        <tr>\n",
       "            <td>M</td>\n",
       "            <td>White</td>\n",
       "            <td>Residence/Home</td>\n",
       "            <td>13481</td>\n",
       "        </tr>\n",
       "        <tr>\n",
       "            <td>M</td>\n",
       "            <td>White</td>\n",
       "            <td>Highway/Road/Alley/Street/Sidewalk</td>\n",
       "            <td>8975</td>\n",
       "        </tr>\n",
       "        <tr>\n",
       "            <td>F</td>\n",
       "            <td>White</td>\n",
       "            <td>Highway/Road/Alley/Street/Sidewalk</td>\n",
       "            <td>5202</td>\n",
       "        </tr>\n",
       "        <tr>\n",
       "            <td>M</td>\n",
       "            <td>White</td>\n",
       "            <td>Parking/Drop Lot/Garage</td>\n",
       "            <td>5078</td>\n",
       "        </tr>\n",
       "        <tr>\n",
       "            <td>F</td>\n",
       "            <td>White</td>\n",
       "            <td>Parking/Drop Lot/Garage</td>\n",
       "            <td>3728</td>\n",
       "        </tr>\n",
       "        <tr>\n",
       "            <td>M</td>\n",
       "            <td>White</td>\n",
       "            <td>Park/Playground</td>\n",
       "            <td>2167</td>\n",
       "        </tr>\n",
       "        <tr>\n",
       "            <td>M</td>\n",
       "            <td>Unknown</td>\n",
       "            <td>Highway/Road/Alley/Street/Sidewalk</td>\n",
       "            <td>2158</td>\n",
       "        </tr>\n",
       "        <tr>\n",
       "            <td>F</td>\n",
       "            <td>Black or African American</td>\n",
       "            <td>Residence/Home</td>\n",
       "            <td>2035</td>\n",
       "        </tr>\n",
       "        <tr>\n",
       "            <td>M</td>\n",
       "            <td>White</td>\n",
       "            <td>Commercial/Office Building</td>\n",
       "            <td>1539</td>\n",
       "        </tr>\n",
       "    </tbody>\n",
       "</table>"
      ],
      "text/plain": [
       "[('F', 'White', 'Residence/Home', 15376),\n",
       " ('M', 'White', 'Residence/Home', 13481),\n",
       " ('M', 'White', 'Highway/Road/Alley/Street/Sidewalk', 8975),\n",
       " ('F', 'White', 'Highway/Road/Alley/Street/Sidewalk', 5202),\n",
       " ('M', 'White', 'Parking/Drop Lot/Garage', 5078),\n",
       " ('F', 'White', 'Parking/Drop Lot/Garage', 3728),\n",
       " ('M', 'White', 'Park/Playground', 2167),\n",
       " ('M', 'Unknown', 'Highway/Road/Alley/Street/Sidewalk', 2158),\n",
       " ('F', 'Black or African American', 'Residence/Home', 2035),\n",
       " ('M', 'White', 'Commercial/Office Building', 1539)]"
      ]
     },
     "execution_count": 272,
     "metadata": {},
     "output_type": "execute_result"
    }
   ],
   "source": [
    "%%sql\n",
    "\n",
    "SELECT \n",
    "    V.sex_code Sex,\n",
    "    R.race_desc Race,\n",
    "    L.location_name Offense_Location,\n",
    "    count(*) count_of_offenses\n",
    "FROM \n",
    "    VICTIM V,\n",
    "    VICTIM_TYPE VT,\n",
    "    VICTIM_OFFENSE VO,\n",
    "    OFFENSE O,\n",
    "    LOCATION_TYPE L,\n",
    "    RACE R\n",
    "WHERE\n",
    "    V.victim_type_id = VT.victim_type_id and -- Victim Type ID is a PK in Victim Type and a FK in Victim Entity\n",
    "    VT.victim_type_name = 'Individual' and -- Selecting the Victim Type: \"Individual\"\n",
    "    V.victim_id = VO.victim_id and -- Victim ID is a PK in Victim and a FK in Victim Offense Entity\n",
    "    VO.offense_id = O.offense_id and -- Offense ID is a PK in Offense and a FK in Victim Offense Entity\n",
    "    O.location_id = L.location_id and -- Location ID is a PK in Location Type and a FK in OFFENSE Entity\n",
    "    V.race_id = R.race_id -- Race ID is a PK in Race and a FK in Victim Entity\n",
    "GROUP BY \n",
    "    Sex,\n",
    "    Race,\n",
    "    Offense_Location\n",
    "ORDER BY\n",
    "    count_of_offenses DESC\n",
    "limit 10;"
   ]
  },
  {
   "cell_type": "markdown",
   "id": "e8e52c51-1fff-4884-a81b-1c688b60b5a0",
   "metadata": {
    "tags": []
   },
   "source": [
    "### Part 4C \n",
    "### Write a query to provide a list of victims who suffered at least 4 offenses in an incident. For each victim, provide victim id, sex, race, ethnicity, and location."
   ]
  },
  {
   "cell_type": "markdown",
   "id": "3321da05-e43c-4ebf-b830-7d25d82c4eb6",
   "metadata": {},
   "source": [
    "* First we join the tables of Victim and Victim_Offense on common victim_id\n",
    "* Then we join them with Offense table based on offense_id from victim_offense and offense tables\n",
    "* Then we match victims incident_id to offense's victim_id to make sure they are for the same incident\n",
    "* We join it with offense using incident_id because we need to access the loactions for each of the offenses\n",
    "* We join the above with race using race_id\n",
    "* Then join it with ethnicity using ethnicity_id\n",
    "* Since we are aggregating the names of offense_locations into one column and counting we group by all the columns in the select statement\n",
    "* We filter based on count >= 4 to get victims that suffered 4 or more offenses\n",
    "* Finally we ordered the query output by count_of_offenses\n",
    "* In the end we get the victim_id, sex, race, ethnicity, count of offenses suffered and their locations for victims that suffered 4 or more offenses"
   ]
  },
  {
   "cell_type": "markdown",
   "id": "baccf95a-415e-4e7f-8e31-bb46ac466d93",
   "metadata": {},
   "source": [
    "Note: We limited the output of the query to 10, but if you want to see all please remove the limit in the last row"
   ]
  },
  {
   "cell_type": "code",
   "execution_count": 273,
   "id": "0761af45-a969-45de-a972-2a8cd0aef8e6",
   "metadata": {},
   "outputs": [
    {
     "name": "stdout",
     "output_type": "stream",
     "text": [
      " * postgresql://student@/NIBRS\n",
      "10 rows affected.\n"
     ]
    },
    {
     "data": {
      "text/html": [
       "<table>\n",
       "    <thead>\n",
       "        <tr>\n",
       "            <th>victim_id</th>\n",
       "            <th>sex</th>\n",
       "            <th>race</th>\n",
       "            <th>ethnicity</th>\n",
       "            <th>count_of_offenses</th>\n",
       "            <th>locations_of_offenses</th>\n",
       "        </tr>\n",
       "    </thead>\n",
       "    <tbody>\n",
       "        <tr>\n",
       "            <td>157802745</td>\n",
       "            <td>F</td>\n",
       "            <td>Black or African American</td>\n",
       "            <td>Not Hispanic or Latino</td>\n",
       "            <td>5</td>\n",
       "            <td>Park/Playground | Parking/Drop Lot/Garage | Parking/Drop Lot/Garage | Parking/Drop Lot/Garage | Parking/Drop Lot/Garage</td>\n",
       "        </tr>\n",
       "        <tr>\n",
       "            <td>148279702</td>\n",
       "            <td>F</td>\n",
       "            <td>White</td>\n",
       "            <td>Not Hispanic or Latino</td>\n",
       "            <td>4</td>\n",
       "            <td>Specialty Store | Parking/Drop Lot/Garage | Specialty Store | Parking/Drop Lot/Garage</td>\n",
       "        </tr>\n",
       "        <tr>\n",
       "            <td>151353643</td>\n",
       "            <td>F</td>\n",
       "            <td>White</td>\n",
       "            <td>Not Hispanic or Latino</td>\n",
       "            <td>4</td>\n",
       "            <td>Residence/Home | Residence/Home | Residence/Home | Residence/Home</td>\n",
       "        </tr>\n",
       "        <tr>\n",
       "            <td>149952429</td>\n",
       "            <td>M</td>\n",
       "            <td>White</td>\n",
       "            <td>Not Hispanic or Latino</td>\n",
       "            <td>4</td>\n",
       "            <td>Residence/Home | Residence/Home | Residence/Home | Residence/Home</td>\n",
       "        </tr>\n",
       "        <tr>\n",
       "            <td>150577511</td>\n",
       "            <td>X</td>\n",
       "            <td>Not Specified</td>\n",
       "            <td>Not Specified</td>\n",
       "            <td>4</td>\n",
       "            <td>Hotel/Motel/Etc. | Hotel/Motel/Etc. | Hotel/Motel/Etc. | Hotel/Motel/Etc.</td>\n",
       "        </tr>\n",
       "        <tr>\n",
       "            <td>150927896</td>\n",
       "            <td>F</td>\n",
       "            <td>White</td>\n",
       "            <td>Hispanic or Latino</td>\n",
       "            <td>4</td>\n",
       "            <td>Residence/Home | Residence/Home | Residence/Home | Residence/Home</td>\n",
       "        </tr>\n",
       "        <tr>\n",
       "            <td>149952428</td>\n",
       "            <td>F</td>\n",
       "            <td>White</td>\n",
       "            <td>Not Hispanic or Latino</td>\n",
       "            <td>4</td>\n",
       "            <td>Residence/Home | Residence/Home | Residence/Home | Residence/Home</td>\n",
       "        </tr>\n",
       "        <tr>\n",
       "            <td>151933503</td>\n",
       "            <td>M</td>\n",
       "            <td>White</td>\n",
       "            <td>Not Hispanic or Latino</td>\n",
       "            <td>4</td>\n",
       "            <td>Hotel/Motel/Etc. | Hotel/Motel/Etc. | Hotel/Motel/Etc. | Park/Playground</td>\n",
       "        </tr>\n",
       "        <tr>\n",
       "            <td>151945322</td>\n",
       "            <td>F</td>\n",
       "            <td>White</td>\n",
       "            <td>Not Hispanic or Latino</td>\n",
       "            <td>4</td>\n",
       "            <td>Highway/Road/Alley/Street/Sidewalk | Highway/Road/Alley/Street/Sidewalk | Park/Playground | Highway/Road/Alley/Street/Sidewalk</td>\n",
       "        </tr>\n",
       "        <tr>\n",
       "            <td>147189631</td>\n",
       "            <td>M</td>\n",
       "            <td>Asian</td>\n",
       "            <td>Not Hispanic or Latino</td>\n",
       "            <td>4</td>\n",
       "            <td>Residence/Home | Residence/Home | Residence/Home | Residence/Home</td>\n",
       "        </tr>\n",
       "    </tbody>\n",
       "</table>"
      ],
      "text/plain": [
       "[(Decimal('157802745'), 'F', 'Black or African American', 'Not Hispanic or Latino', 5, 'Park/Playground | Parking/Drop Lot/Garage | Parking/Drop Lot/Garage | Parking/Drop Lot/Garage | Parking/Drop Lot/Garage'),\n",
       " (Decimal('148279702'), 'F', 'White', 'Not Hispanic or Latino', 4, 'Specialty Store | Parking/Drop Lot/Garage | Specialty Store | Parking/Drop Lot/Garage'),\n",
       " (Decimal('151353643'), 'F', 'White', 'Not Hispanic or Latino', 4, 'Residence/Home | Residence/Home | Residence/Home | Residence/Home'),\n",
       " (Decimal('149952429'), 'M', 'White', 'Not Hispanic or Latino', 4, 'Residence/Home | Residence/Home | Residence/Home | Residence/Home'),\n",
       " (Decimal('150577511'), 'X', 'Not Specified', 'Not Specified', 4, 'Hotel/Motel/Etc. | Hotel/Motel/Etc. | Hotel/Motel/Etc. | Hotel/Motel/Etc.'),\n",
       " (Decimal('150927896'), 'F', 'White', 'Hispanic or Latino', 4, 'Residence/Home | Residence/Home | Residence/Home | Residence/Home'),\n",
       " (Decimal('149952428'), 'F', 'White', 'Not Hispanic or Latino', 4, 'Residence/Home | Residence/Home | Residence/Home | Residence/Home'),\n",
       " (Decimal('151933503'), 'M', 'White', 'Not Hispanic or Latino', 4, 'Hotel/Motel/Etc. | Hotel/Motel/Etc. | Hotel/Motel/Etc. | Park/Playground'),\n",
       " (Decimal('151945322'), 'F', 'White', 'Not Hispanic or Latino', 4, 'Highway/Road/Alley/Street/Sidewalk | Highway/Road/Alley/Street/Sidewalk | Park/Playground | Highway/Road/Alley/Street/Sidewalk'),\n",
       " (Decimal('147189631'), 'M', 'Asian', 'Not Hispanic or Latino', 4, 'Residence/Home | Residence/Home | Residence/Home | Residence/Home')]"
      ]
     },
     "execution_count": 273,
     "metadata": {},
     "output_type": "execute_result"
    }
   ],
   "source": [
    "%%sql\n",
    "SELECT\n",
    "    V.victim_id,\n",
    "    V.sex_code Sex,\n",
    "    R.race_desc Race,\n",
    "    E.ethnicity_name Ethnicity,\n",
    "    count(*) count_of_offenses,\n",
    "    STRING_AGG(L.location_name,' | ') Locations_of_offenses\n",
    "FROM\n",
    "    VICTIM V,\n",
    "    RACE R,\n",
    "    ETHNICITY E,\n",
    "    OFFENSE O,\n",
    "    VICTIM_OFFENSE VO,\n",
    "    LOCATION_TYPE L\n",
    "WHERE\n",
    "    V.victim_id = VO.victim_id -- Victim_ID is a PK in Victim and a FK in Victim Offense Entity\n",
    "    and\n",
    "    VO.offense_id = O.offense_id -- Offense_ID is a PK in Offense and a FK in Victim Offense Entity\n",
    "    and\n",
    "    V.incident_id = O.incident_id -- Incident is a FK in Victim and a FK in Offense Entity, We want the location ID so we use Incident ID to find it\n",
    "    and\n",
    "    O.location_id = L.location_id -- Location_ID is a PK in Location Type and a FK in Offense\n",
    "    and\n",
    "    V.ethnicity_id = E.ethnicity_id -- Ethnicity ID is a PK in Ethnicity and a FK in Victim\n",
    "    and\n",
    "    V.race_id = R.race_id -- Race ID is a PK in Race and a FK in Victim Entity\n",
    "GROUP BY\n",
    "    V.victim_id,\n",
    "    Sex,\n",
    "    Race,\n",
    "    Ethnicity\n",
    "HAVING\n",
    "    count(*) >= 4\n",
    "ORDER BY\n",
    "   count_of_offenses DESC\n",
    "limit 10;"
   ]
  },
  {
   "cell_type": "markdown",
   "id": "0365a9b5-77e0-481f-9d43-09a645954266",
   "metadata": {
    "tags": []
   },
   "source": [
    "### Part 4D\n",
    "#### Write a query to provide a list of incidents with more than 9 victims. Provide a distribution of the victims (counts) based on their sex, race, and ethnicity."
   ]
  },
  {
   "cell_type": "markdown",
   "id": "ba420b75-4e8b-4d67-852a-da7cba87ed41",
   "metadata": {},
   "source": [
    "#### Step 1: We create a view to query the incidents that had more than 9 victims\n",
    "* First we join the tables of Victim and incident on incident_id\n",
    "* After that we group by incident_id to count the total number of times a victims associated with each incident\n",
    "* We limit our results of victims to more than 9 by using restriction on the count\n",
    "* We get a table/view that gives the victim_id for victims and the count of number of victims they had"
   ]
  },
  {
   "cell_type": "code",
   "execution_count": 274,
   "id": "7f7ff3ea-b58f-4dec-813d-583b6f652972",
   "metadata": {},
   "outputs": [
    {
     "name": "stdout",
     "output_type": "stream",
     "text": [
      " * postgresql://student@/NIBRS\n",
      "Done.\n"
     ]
    },
    {
     "data": {
      "text/plain": [
       "[]"
      ]
     },
     "execution_count": 274,
     "metadata": {},
     "output_type": "execute_result"
    }
   ],
   "source": [
    "%%sql\n",
    "CREATE OR REPLACE VIEW INCIDENTS_WITH_MORE_THAN_9_VICTIMS\n",
    "AS\n",
    "SELECT \n",
    "    I.incident_id,\n",
    "    count(*)\n",
    "FROM \n",
    "    INCIDENT I,\n",
    "    VICTIM V\n",
    "WHERE \n",
    "    I.incident_id=V.incident_id -- Incident ID is a PK in Incident and a FK in Victim Entity\n",
    "GROUP BY\n",
    "    I.incident_id    \n",
    "HAVING \n",
    "    count(*) > 9;"
   ]
  },
  {
   "cell_type": "code",
   "execution_count": 275,
   "id": "a37c0414-f876-4572-b3fc-d1182b72e2f7",
   "metadata": {},
   "outputs": [
    {
     "name": "stdout",
     "output_type": "stream",
     "text": [
      " * postgresql://student@/NIBRS\n",
      "10 rows affected.\n"
     ]
    },
    {
     "data": {
      "text/html": [
       "<table>\n",
       "    <thead>\n",
       "        <tr>\n",
       "            <th>incident_id</th>\n",
       "            <th>count</th>\n",
       "        </tr>\n",
       "    </thead>\n",
       "    <tbody>\n",
       "        <tr>\n",
       "            <td>133449299</td>\n",
       "            <td>12</td>\n",
       "        </tr>\n",
       "        <tr>\n",
       "            <td>133519796</td>\n",
       "            <td>14</td>\n",
       "        </tr>\n",
       "        <tr>\n",
       "            <td>133601291</td>\n",
       "            <td>19</td>\n",
       "        </tr>\n",
       "        <tr>\n",
       "            <td>133673209</td>\n",
       "            <td>12</td>\n",
       "        </tr>\n",
       "        <tr>\n",
       "            <td>133750424</td>\n",
       "            <td>15</td>\n",
       "        </tr>\n",
       "        <tr>\n",
       "            <td>133948657</td>\n",
       "            <td>10</td>\n",
       "        </tr>\n",
       "        <tr>\n",
       "            <td>134105803</td>\n",
       "            <td>30</td>\n",
       "        </tr>\n",
       "        <tr>\n",
       "            <td>134557887</td>\n",
       "            <td>13</td>\n",
       "        </tr>\n",
       "        <tr>\n",
       "            <td>134920194</td>\n",
       "            <td>31</td>\n",
       "        </tr>\n",
       "        <tr>\n",
       "            <td>134926087</td>\n",
       "            <td>13</td>\n",
       "        </tr>\n",
       "    </tbody>\n",
       "</table>"
      ],
      "text/plain": [
       "[(Decimal('133449299'), 12),\n",
       " (Decimal('133519796'), 14),\n",
       " (Decimal('133601291'), 19),\n",
       " (Decimal('133673209'), 12),\n",
       " (Decimal('133750424'), 15),\n",
       " (Decimal('133948657'), 10),\n",
       " (Decimal('134105803'), 30),\n",
       " (Decimal('134557887'), 13),\n",
       " (Decimal('134920194'), 31),\n",
       " (Decimal('134926087'), 13)]"
      ]
     },
     "execution_count": 275,
     "metadata": {},
     "output_type": "execute_result"
    }
   ],
   "source": [
    "%%sql\n",
    "\n",
    "SELECT incident_id, count FROM INCIDENTS_WITH_MORE_THAN_9_VICTIMS\n",
    "limit 10;"
   ]
  },
  {
   "cell_type": "markdown",
   "id": "a75ab32b-5b2f-45f6-9afc-a13879aa3876",
   "metadata": {},
   "source": [
    "#### Step 2: We use the view we created above to filter incidents and join them to ethnicity and race tables to get the final form of the query\n",
    "* We use the view created for querying incidents with more than 9 victims\n",
    "* We join the above with race using race_id\n",
    "* Then join it with ethnicity using ethnicity_id\n",
    "* We group by incident_id, sex_code, ethnicity_name to aggregate the distribution of these incidents"
   ]
  },
  {
   "cell_type": "code",
   "execution_count": 276,
   "id": "080a5e4d-8fd9-4f3b-80d2-b7b99623c760",
   "metadata": {},
   "outputs": [
    {
     "name": "stdout",
     "output_type": "stream",
     "text": [
      " * postgresql://student@/NIBRS\n",
      "19 rows affected.\n"
     ]
    },
    {
     "data": {
      "text/html": [
       "<table>\n",
       "    <thead>\n",
       "        <tr>\n",
       "            <th>sex</th>\n",
       "            <th>race</th>\n",
       "            <th>ethnicity</th>\n",
       "            <th>no_of_victims</th>\n",
       "        </tr>\n",
       "    </thead>\n",
       "    <tbody>\n",
       "        <tr>\n",
       "            <td>U</td>\n",
       "            <td>Unknown</td>\n",
       "            <td>Not Specified</td>\n",
       "            <td>492</td>\n",
       "        </tr>\n",
       "        <tr>\n",
       "            <td>M</td>\n",
       "            <td>Unknown</td>\n",
       "            <td>Not Specified</td>\n",
       "            <td>376</td>\n",
       "        </tr>\n",
       "        <tr>\n",
       "            <td>F</td>\n",
       "            <td>Unknown</td>\n",
       "            <td>Not Specified</td>\n",
       "            <td>302</td>\n",
       "        </tr>\n",
       "        <tr>\n",
       "            <td>M</td>\n",
       "            <td>White</td>\n",
       "            <td>Not Hispanic or Latino</td>\n",
       "            <td>193</td>\n",
       "        </tr>\n",
       "        <tr>\n",
       "            <td>X</td>\n",
       "            <td>Not Specified</td>\n",
       "            <td>Not Specified</td>\n",
       "            <td>166</td>\n",
       "        </tr>\n",
       "        <tr>\n",
       "            <td>M</td>\n",
       "            <td>White</td>\n",
       "            <td>Hispanic or Latino</td>\n",
       "            <td>156</td>\n",
       "        </tr>\n",
       "        <tr>\n",
       "            <td>F</td>\n",
       "            <td>White</td>\n",
       "            <td>Not Hispanic or Latino</td>\n",
       "            <td>138</td>\n",
       "        </tr>\n",
       "        <tr>\n",
       "            <td>F</td>\n",
       "            <td>White</td>\n",
       "            <td>Hispanic or Latino</td>\n",
       "            <td>85</td>\n",
       "        </tr>\n",
       "        <tr>\n",
       "            <td>M</td>\n",
       "            <td>Asian</td>\n",
       "            <td>Not Hispanic or Latino</td>\n",
       "            <td>29</td>\n",
       "        </tr>\n",
       "        <tr>\n",
       "            <td>M</td>\n",
       "            <td>Black or African American</td>\n",
       "            <td>Not Hispanic or Latino</td>\n",
       "            <td>26</td>\n",
       "        </tr>\n",
       "        <tr>\n",
       "            <td>F</td>\n",
       "            <td>Black or African American</td>\n",
       "            <td>Not Hispanic or Latino</td>\n",
       "            <td>24</td>\n",
       "        </tr>\n",
       "        <tr>\n",
       "            <td>F</td>\n",
       "            <td>Asian</td>\n",
       "            <td>Not Hispanic or Latino</td>\n",
       "            <td>23</td>\n",
       "        </tr>\n",
       "        <tr>\n",
       "            <td>M</td>\n",
       "            <td>Unknown</td>\n",
       "            <td>Unknown</td>\n",
       "            <td>12</td>\n",
       "        </tr>\n",
       "        <tr>\n",
       "            <td>F</td>\n",
       "            <td>Unknown</td>\n",
       "            <td>Unknown</td>\n",
       "            <td>12</td>\n",
       "        </tr>\n",
       "        <tr>\n",
       "            <td>M</td>\n",
       "            <td>Native Hawaiian or Other Pacific Islander</td>\n",
       "            <td>Not Hispanic or Latino</td>\n",
       "            <td>3</td>\n",
       "        </tr>\n",
       "        <tr>\n",
       "            <td>U</td>\n",
       "            <td>Asian</td>\n",
       "            <td>Not Hispanic or Latino</td>\n",
       "            <td>2</td>\n",
       "        </tr>\n",
       "        <tr>\n",
       "            <td>F</td>\n",
       "            <td>Native Hawaiian or Other Pacific Islander</td>\n",
       "            <td>Not Hispanic or Latino</td>\n",
       "            <td>1</td>\n",
       "        </tr>\n",
       "        <tr>\n",
       "            <td>U</td>\n",
       "            <td>White</td>\n",
       "            <td>Hispanic or Latino</td>\n",
       "            <td>1</td>\n",
       "        </tr>\n",
       "        <tr>\n",
       "            <td>F</td>\n",
       "            <td>American Indian or Alaska Native</td>\n",
       "            <td>Not Hispanic or Latino</td>\n",
       "            <td>1</td>\n",
       "        </tr>\n",
       "    </tbody>\n",
       "</table>"
      ],
      "text/plain": [
       "[('U', 'Unknown', 'Not Specified', 492),\n",
       " ('M', 'Unknown', 'Not Specified', 376),\n",
       " ('F', 'Unknown', 'Not Specified', 302),\n",
       " ('M', 'White', 'Not Hispanic or Latino', 193),\n",
       " ('X', 'Not Specified', 'Not Specified', 166),\n",
       " ('M', 'White', 'Hispanic or Latino', 156),\n",
       " ('F', 'White', 'Not Hispanic or Latino', 138),\n",
       " ('F', 'White', 'Hispanic or Latino', 85),\n",
       " ('M', 'Asian', 'Not Hispanic or Latino', 29),\n",
       " ('M', 'Black or African American', 'Not Hispanic or Latino', 26),\n",
       " ('F', 'Black or African American', 'Not Hispanic or Latino', 24),\n",
       " ('F', 'Asian', 'Not Hispanic or Latino', 23),\n",
       " ('M', 'Unknown', 'Unknown', 12),\n",
       " ('F', 'Unknown', 'Unknown', 12),\n",
       " ('M', 'Native Hawaiian or Other Pacific Islander', 'Not Hispanic or Latino', 3),\n",
       " ('U', 'Asian', 'Not Hispanic or Latino', 2),\n",
       " ('F', 'Native Hawaiian or Other Pacific Islander', 'Not Hispanic or Latino', 1),\n",
       " ('U', 'White', 'Hispanic or Latino', 1),\n",
       " ('F', 'American Indian or Alaska Native', 'Not Hispanic or Latino', 1)]"
      ]
     },
     "execution_count": 276,
     "metadata": {},
     "output_type": "execute_result"
    }
   ],
   "source": [
    "%%sql\n",
    "\n",
    "SELECT \n",
    "    V.sex_code Sex,\n",
    "    R.race_desc Race,\n",
    "    E.ethnicity_name Ethnicity,\n",
    "    count(*) no_of_victims\n",
    "FROM \n",
    "    VICTIM V,\n",
    "    RACE R,\n",
    "    ETHNICITY E\n",
    "WHERE \n",
    "    V.incident_id IN (SELECT incident_id FROM INCIDENTS_WITH_MORE_THAN_9_VICTIMS)\n",
    "    and\n",
    "    V.race_id=R.race_id -- Race ID is a PK in Race and a FK in Victim Entity\n",
    "    and\n",
    "    V.ethnicity_id=E.ethnicity_id -- Ethnicity ID is a PK in Ethnicity and a FK in Victim Entity\n",
    "    \n",
    "GROUP BY \n",
    "    Sex,\n",
    "    Race,\n",
    "    Ethnicity\n",
    "ORDER BY\n",
    "    no_of_victims DESC\n",
    ";"
   ]
  }
 ],
 "metadata": {
  "kernelspec": {
   "display_name": "Python 3 (ipykernel)",
   "language": "python",
   "name": "python3"
  },
  "language_info": {
   "codemirror_mode": {
    "name": "ipython",
    "version": 3
   },
   "file_extension": ".py",
   "mimetype": "text/x-python",
   "name": "python",
   "nbconvert_exporter": "python",
   "pygments_lexer": "ipython3",
   "version": "3.8.10"
  }
 },
 "nbformat": 4,
 "nbformat_minor": 5
}
